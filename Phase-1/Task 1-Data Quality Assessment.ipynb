{
 "cells": [
  {
   "cell_type": "markdown",
   "id": "628f5644-69c1-41cb-9d67-330cd894c5ce",
   "metadata": {},
   "source": [
    "# 1. Setup"
   ]
  },
  {
   "cell_type": "markdown",
   "id": "32b49932-0af8-4277-a2a6-bb664c7db313",
   "metadata": {},
   "source": [
    "## 1.1 Import Libraries and Packages"
   ]
  },
  {
   "cell_type": "code",
   "execution_count": 1,
   "id": "ff9d3102-5e46-4d29-8abc-a2455c976d0c",
   "metadata": {},
   "outputs": [],
   "source": [
    "import pandas as pd\n",
    "import numpy as np\n",
    "import seaborn as sns\n",
    "\n",
    "import missingno as msno\n",
    "import warnings\n",
    "warnings.filterwarnings(\"ignore\")"
   ]
  },
  {
   "cell_type": "markdown",
   "id": "ccb83313-e59f-4833-a962-5a5839205a7f",
   "metadata": {},
   "source": [
    "## 1.2 Necessary Functions"
   ]
  },
  {
   "cell_type": "code",
   "execution_count": 2,
   "id": "9990eb08-35ff-42d1-b5fa-d7ba6dc0513f",
   "metadata": {},
   "outputs": [],
   "source": [
    "def analyze_unique_values(data_frame):\n",
    "    \"\"\"\n",
    "    Analyzes and prints unique values in each column of the given DataFrame.\n",
    "    \n",
    "    Parameters:\n",
    "        data_frame (pandas.DataFrame): The DataFrame to analyze.\n",
    "    \"\"\"\n",
    "    for col in data_frame.columns:\n",
    "        unique_count = data_frame[col].nunique()\n",
    "        data_type = data_frame[col].dtypes\n",
    "\n",
    "        print(\"Column: {}\".format(col))\n",
    "        print(\"Unique Values Count: {}\".format(unique_count))\n",
    "        print(\"Data Type: {}\".format(data_type))\n",
    "\n",
    "        if data_type in ['int64', 'float', 'object']:\n",
    "            unique_values = data_frame[col].unique()[:5]  # Display the first 5 unique values\n",
    "            print(\"Unique Values:\")\n",
    "            for value in unique_values:\n",
    "                print(\"- {}\".format(value))\n",
    "\n",
    "            if unique_count > 5:\n",
    "                print(\"... and {} more unique values\".format(unique_count - 5))\n",
    "\n",
    "        print(\"------------------------------------------------------------\")\n",
    "\n",
    "def print_columns_by_dtype(data_frame):\n",
    "    \"\"\"\n",
    "    Prints columns for each data type in the given DataFrame.\n",
    "    \n",
    "    Parameters:\n",
    "        data_frame (pandas.DataFrame): The DataFrame to analyze.\n",
    "    \"\"\"\n",
    "    unique_dtypes = data_frame.dtypes.unique()\n",
    "    \n",
    "    for dtype in unique_dtypes:\n",
    "        matching_columns = [col for col in data_frame.columns if data_frame[col].dtypes == dtype]\n",
    "        \n",
    "        print(\"Columns with data type {}: {}\".format(dtype, ', '.join(matching_columns)))\n",
    "        print(\"------------------------------------------------------------\")\n",
    "\n",
    "def analyze_missing_values(data_frame):\n",
    "    \"\"\"\n",
    "    Analyzes and prints missing values count and percentages for each column in the given DataFrame.\n",
    "    The table is sorted from highest missing values count to lowest.\n",
    "    \n",
    "    Parameters:\n",
    "        data_frame (pandas.DataFrame): The DataFrame to analyze.\n",
    "    \"\"\"\n",
    "    missing_values_count = data_frame.isnull().sum()\n",
    "    total_missing_values = missing_values_count.sum()\n",
    "\n",
    "    # Calculate the percentage of missing values for each column\n",
    "    total_rows = data_frame.shape[0]\n",
    "    missing_percentage = (missing_values_count / total_rows) * 100\n",
    "\n",
    "    # Create a list of tuples (column_name, missing_count, missing_percentage)\n",
    "    missing_info = [(column, count, percentage) for column, count, percentage in zip(missing_values_count.index, missing_values_count.values, missing_percentage.values)]\n",
    "\n",
    "    # Sort the list by missing_count in descending order\n",
    "    missing_info.sort(key=lambda x: x[1], reverse=True)\n",
    "\n",
    "    # Print the sorted table\n",
    "    print(\"COLUMN | MISSING VALUES PERCENTAGE | MISSING VALUE COUNT\")\n",
    "    print(\"-----------------------------------------\")\n",
    "    for column, count, percentage in missing_info:\n",
    "        print(f\"{column}: {percentage:.2f}% ({count} missing)\")\n",
    "\n",
    "    print(\"\\nMissing Values Count:\")\n",
    "    print(missing_values_count)\n",
    "    print(\"\\nTotal Missing Values:\", total_missing_values)\n",
    "\n",
    "def analyze_column_types(data_frame):\n",
    "    \"\"\"\n",
    "    Analyzes and prints categorical and continuous columns along with their names and counts.\n",
    "    \n",
    "    Parameters:\n",
    "        data_frame (pandas.DataFrame): The DataFrame to analyze.\n",
    "    \"\"\"\n",
    "    categorical_columns = []\n",
    "    continuous_columns = []\n",
    "    \n",
    "    for col in data_frame.columns:\n",
    "        unique_count = data_frame[col].nunique()\n",
    "        \n",
    "        if np.issubdtype(data_frame[col].dtype, np.number) or unique_count > 20:\n",
    "            continuous_columns.append(col)\n",
    "        else:\n",
    "            categorical_columns.append(col)\n",
    "    \n",
    "    print(\"Categorical columns: {}\".format(', '.join(categorical_columns)))\n",
    "    print(\"Count: {}\\n\".format(len(categorical_columns)))\n",
    "    \n",
    "    print(\"Continuous columns: {}\".format(', '.join(continuous_columns)))\n",
    "    print(\"Count: {}\\n\".format(len(continuous_columns)))"
   ]
  },
  {
   "cell_type": "markdown",
   "id": "4b74bcb6-cc8e-4e24-b45e-d022e15d95ab",
   "metadata": {},
   "source": [
    "# 2. Import Files for Analysis"
   ]
  },
  {
   "cell_type": "code",
   "execution_count": 3,
   "id": "4185b17d-acd1-4e38-ad71-11d7fe485022",
   "metadata": {},
   "outputs": [],
   "source": [
    "file = 'KPMG_VI_New_raw_data_update_final.xlsx'\n",
    "\n",
    "# sheets selected for analysis\n",
    "sheets = ['Transactions', 'CustomerDemographic', 'CustomerAddress']\n",
    "\n",
    "# Dictionary to store DataFrames\n",
    "dfs = {}\n",
    "\n",
    "# Loop through the sheet names and read the corresponding sheets\n",
    "for sheet_name in sheets:\n",
    "    dfs[f'df_{sheet_name.lower()}'] = pd.read_excel(\n",
    "        file,\n",
    "        sheet_name,\n",
    "        skiprows=1\n",
    "    )\n",
    "\n",
    "# Access the DataFrames using their keys\n",
    "df_transactions = dfs['df_transactions']\n",
    "df_demographic = dfs['df_customerdemographic']\n",
    "df_address = dfs['df_customeraddress']    "
   ]
  },
  {
   "cell_type": "markdown",
   "id": "b58da31a-b070-4087-950e-451431e59fde",
   "metadata": {},
   "source": [
    "# 3. Demographic Table"
   ]
  },
  {
   "cell_type": "markdown",
   "id": "5d543329-86c0-4446-90cd-8efa1dfaa7e2",
   "metadata": {},
   "source": [
    "## 3.1 Data Overview"
   ]
  },
  {
   "cell_type": "markdown",
   "id": "2e59a47b-4e4b-429b-bbc5-c906ceb8f9f3",
   "metadata": {},
   "source": [
    "### 3.1.1 Check Header and Info"
   ]
  },
  {
   "cell_type": "code",
   "execution_count": 4,
   "id": "8a5fbd4b-893c-4503-ab0a-e883417eb891",
   "metadata": {},
   "outputs": [
    {
     "data": {
      "text/html": [
       "<div>\n",
       "<style scoped>\n",
       "    .dataframe tbody tr th:only-of-type {\n",
       "        vertical-align: middle;\n",
       "    }\n",
       "\n",
       "    .dataframe tbody tr th {\n",
       "        vertical-align: top;\n",
       "    }\n",
       "\n",
       "    .dataframe thead th {\n",
       "        text-align: right;\n",
       "    }\n",
       "</style>\n",
       "<table border=\"1\" class=\"dataframe\">\n",
       "  <thead>\n",
       "    <tr style=\"text-align: right;\">\n",
       "      <th></th>\n",
       "      <th>customer_id</th>\n",
       "      <th>first_name</th>\n",
       "      <th>last_name</th>\n",
       "      <th>gender</th>\n",
       "      <th>past_3_years_bike_related_purchases</th>\n",
       "      <th>DOB</th>\n",
       "      <th>job_title</th>\n",
       "      <th>job_industry_category</th>\n",
       "      <th>wealth_segment</th>\n",
       "      <th>deceased_indicator</th>\n",
       "      <th>default</th>\n",
       "      <th>owns_car</th>\n",
       "      <th>tenure</th>\n",
       "    </tr>\n",
       "  </thead>\n",
       "  <tbody>\n",
       "    <tr>\n",
       "      <th>0</th>\n",
       "      <td>1</td>\n",
       "      <td>Laraine</td>\n",
       "      <td>Medendorp</td>\n",
       "      <td>F</td>\n",
       "      <td>93</td>\n",
       "      <td>1953-10-12</td>\n",
       "      <td>Executive Secretary</td>\n",
       "      <td>Health</td>\n",
       "      <td>Mass Customer</td>\n",
       "      <td>N</td>\n",
       "      <td>\"'</td>\n",
       "      <td>Yes</td>\n",
       "      <td>11.0</td>\n",
       "    </tr>\n",
       "    <tr>\n",
       "      <th>1</th>\n",
       "      <td>2</td>\n",
       "      <td>Eli</td>\n",
       "      <td>Bockman</td>\n",
       "      <td>Male</td>\n",
       "      <td>81</td>\n",
       "      <td>1980-12-16</td>\n",
       "      <td>Administrative Officer</td>\n",
       "      <td>Financial Services</td>\n",
       "      <td>Mass Customer</td>\n",
       "      <td>N</td>\n",
       "      <td>&lt;script&gt;alert('hi')&lt;/script&gt;</td>\n",
       "      <td>Yes</td>\n",
       "      <td>16.0</td>\n",
       "    </tr>\n",
       "    <tr>\n",
       "      <th>2</th>\n",
       "      <td>3</td>\n",
       "      <td>Arlin</td>\n",
       "      <td>Dearle</td>\n",
       "      <td>Male</td>\n",
       "      <td>61</td>\n",
       "      <td>1954-01-20</td>\n",
       "      <td>Recruiting Manager</td>\n",
       "      <td>Property</td>\n",
       "      <td>Mass Customer</td>\n",
       "      <td>N</td>\n",
       "      <td>2018-02-01 00:00:00</td>\n",
       "      <td>Yes</td>\n",
       "      <td>15.0</td>\n",
       "    </tr>\n",
       "    <tr>\n",
       "      <th>3</th>\n",
       "      <td>4</td>\n",
       "      <td>Talbot</td>\n",
       "      <td>NaN</td>\n",
       "      <td>Male</td>\n",
       "      <td>33</td>\n",
       "      <td>1961-10-03</td>\n",
       "      <td>NaN</td>\n",
       "      <td>IT</td>\n",
       "      <td>Mass Customer</td>\n",
       "      <td>N</td>\n",
       "      <td>() { _; } &gt;_[$($())] { touch /tmp/blns.shellsh...</td>\n",
       "      <td>No</td>\n",
       "      <td>7.0</td>\n",
       "    </tr>\n",
       "    <tr>\n",
       "      <th>4</th>\n",
       "      <td>5</td>\n",
       "      <td>Sheila-kathryn</td>\n",
       "      <td>Calton</td>\n",
       "      <td>Female</td>\n",
       "      <td>56</td>\n",
       "      <td>1977-05-13</td>\n",
       "      <td>Senior Editor</td>\n",
       "      <td>NaN</td>\n",
       "      <td>Affluent Customer</td>\n",
       "      <td>N</td>\n",
       "      <td>NIL</td>\n",
       "      <td>Yes</td>\n",
       "      <td>8.0</td>\n",
       "    </tr>\n",
       "    <tr>\n",
       "      <th>5</th>\n",
       "      <td>6</td>\n",
       "      <td>Curr</td>\n",
       "      <td>Duckhouse</td>\n",
       "      <td>Male</td>\n",
       "      <td>35</td>\n",
       "      <td>1966-09-16</td>\n",
       "      <td>NaN</td>\n",
       "      <td>Retail</td>\n",
       "      <td>High Net Worth</td>\n",
       "      <td>N</td>\n",
       "      <td>ðµ ð ð ð</td>\n",
       "      <td>Yes</td>\n",
       "      <td>13.0</td>\n",
       "    </tr>\n",
       "    <tr>\n",
       "      <th>6</th>\n",
       "      <td>7</td>\n",
       "      <td>Fina</td>\n",
       "      <td>Merali</td>\n",
       "      <td>Female</td>\n",
       "      <td>6</td>\n",
       "      <td>1976-02-23</td>\n",
       "      <td>NaN</td>\n",
       "      <td>Financial Services</td>\n",
       "      <td>Affluent Customer</td>\n",
       "      <td>N</td>\n",
       "      <td>â°â´âµâââ</td>\n",
       "      <td>Yes</td>\n",
       "      <td>11.0</td>\n",
       "    </tr>\n",
       "    <tr>\n",
       "      <th>7</th>\n",
       "      <td>8</td>\n",
       "      <td>Rod</td>\n",
       "      <td>Inder</td>\n",
       "      <td>Male</td>\n",
       "      <td>31</td>\n",
       "      <td>1962-03-30</td>\n",
       "      <td>Media Manager I</td>\n",
       "      <td>NaN</td>\n",
       "      <td>Mass Customer</td>\n",
       "      <td>N</td>\n",
       "      <td>(â¯Â°â¡Â°ï¼â¯ï¸µ â»ââ»)</td>\n",
       "      <td>No</td>\n",
       "      <td>7.0</td>\n",
       "    </tr>\n",
       "    <tr>\n",
       "      <th>8</th>\n",
       "      <td>9</td>\n",
       "      <td>Mala</td>\n",
       "      <td>Lind</td>\n",
       "      <td>Female</td>\n",
       "      <td>97</td>\n",
       "      <td>1973-03-10</td>\n",
       "      <td>Business Systems Development Analyst</td>\n",
       "      <td>Argiculture</td>\n",
       "      <td>Affluent Customer</td>\n",
       "      <td>N</td>\n",
       "      <td>0/0</td>\n",
       "      <td>Yes</td>\n",
       "      <td>8.0</td>\n",
       "    </tr>\n",
       "    <tr>\n",
       "      <th>9</th>\n",
       "      <td>10</td>\n",
       "      <td>Fiorenze</td>\n",
       "      <td>Birdall</td>\n",
       "      <td>Female</td>\n",
       "      <td>49</td>\n",
       "      <td>1988-10-11</td>\n",
       "      <td>Senior Quality Engineer</td>\n",
       "      <td>Financial Services</td>\n",
       "      <td>Mass Customer</td>\n",
       "      <td>N</td>\n",
       "      <td>ð©ð½</td>\n",
       "      <td>Yes</td>\n",
       "      <td>20.0</td>\n",
       "    </tr>\n",
       "  </tbody>\n",
       "</table>\n",
       "</div>"
      ],
      "text/plain": [
       "   customer_id      first_name  last_name  gender  \\\n",
       "0            1         Laraine  Medendorp       F   \n",
       "1            2             Eli    Bockman    Male   \n",
       "2            3           Arlin     Dearle    Male   \n",
       "3            4          Talbot        NaN    Male   \n",
       "4            5  Sheila-kathryn     Calton  Female   \n",
       "5            6            Curr  Duckhouse    Male   \n",
       "6            7            Fina     Merali  Female   \n",
       "7            8             Rod      Inder    Male   \n",
       "8            9            Mala       Lind  Female   \n",
       "9           10        Fiorenze    Birdall  Female   \n",
       "\n",
       "   past_3_years_bike_related_purchases        DOB  \\\n",
       "0                                   93 1953-10-12   \n",
       "1                                   81 1980-12-16   \n",
       "2                                   61 1954-01-20   \n",
       "3                                   33 1961-10-03   \n",
       "4                                   56 1977-05-13   \n",
       "5                                   35 1966-09-16   \n",
       "6                                    6 1976-02-23   \n",
       "7                                   31 1962-03-30   \n",
       "8                                   97 1973-03-10   \n",
       "9                                   49 1988-10-11   \n",
       "\n",
       "                              job_title job_industry_category  \\\n",
       "0                   Executive Secretary                Health   \n",
       "1                Administrative Officer    Financial Services   \n",
       "2                    Recruiting Manager              Property   \n",
       "3                                   NaN                    IT   \n",
       "4                         Senior Editor                   NaN   \n",
       "5                                   NaN                Retail   \n",
       "6                                   NaN    Financial Services   \n",
       "7                       Media Manager I                   NaN   \n",
       "8  Business Systems Development Analyst           Argiculture   \n",
       "9               Senior Quality Engineer    Financial Services   \n",
       "\n",
       "      wealth_segment deceased_indicator  \\\n",
       "0      Mass Customer                  N   \n",
       "1      Mass Customer                  N   \n",
       "2      Mass Customer                  N   \n",
       "3      Mass Customer                  N   \n",
       "4  Affluent Customer                  N   \n",
       "5     High Net Worth                  N   \n",
       "6  Affluent Customer                  N   \n",
       "7      Mass Customer                  N   \n",
       "8  Affluent Customer                  N   \n",
       "9      Mass Customer                  N   \n",
       "\n",
       "                                             default owns_car  tenure  \n",
       "0                                                 \"'      Yes    11.0  \n",
       "1                       <script>alert('hi')</script>      Yes    16.0  \n",
       "2                                2018-02-01 00:00:00      Yes    15.0  \n",
       "3  () { _; } >_[$($())] { touch /tmp/blns.shellsh...       No     7.0  \n",
       "4                                                NIL      Yes     8.0  \n",
       "5                                           ðµ ð ð ð      Yes    13.0  \n",
       "6                                          â°â´âµâââ      Yes    11.0  \n",
       "7                            (â¯Â°â¡Â°ï¼â¯ï¸µ â»ââ»)       No     7.0  \n",
       "8                                                0/0      Yes     8.0  \n",
       "9                                               ð©ð½      Yes    20.0  "
      ]
     },
     "execution_count": 4,
     "metadata": {},
     "output_type": "execute_result"
    }
   ],
   "source": [
    "df_demographic.head(10)"
   ]
  },
  {
   "cell_type": "code",
   "execution_count": 5,
   "id": "2d3869bb-9c87-4ab1-a943-72bd7d09bf09",
   "metadata": {},
   "outputs": [
    {
     "name": "stdout",
     "output_type": "stream",
     "text": [
      "<class 'pandas.core.frame.DataFrame'>\n",
      "RangeIndex: 4000 entries, 0 to 3999\n",
      "Data columns (total 13 columns):\n",
      " #   Column                               Non-Null Count  Dtype         \n",
      "---  ------                               --------------  -----         \n",
      " 0   customer_id                          4000 non-null   int64         \n",
      " 1   first_name                           4000 non-null   object        \n",
      " 2   last_name                            3875 non-null   object        \n",
      " 3   gender                               4000 non-null   object        \n",
      " 4   past_3_years_bike_related_purchases  4000 non-null   int64         \n",
      " 5   DOB                                  3913 non-null   datetime64[ns]\n",
      " 6   job_title                            3494 non-null   object        \n",
      " 7   job_industry_category                3344 non-null   object        \n",
      " 8   wealth_segment                       4000 non-null   object        \n",
      " 9   deceased_indicator                   4000 non-null   object        \n",
      " 10  default                              3698 non-null   object        \n",
      " 11  owns_car                             4000 non-null   object        \n",
      " 12  tenure                               3913 non-null   float64       \n",
      "dtypes: datetime64[ns](1), float64(1), int64(2), object(9)\n",
      "memory usage: 406.4+ KB\n"
     ]
    }
   ],
   "source": [
    "df_demographic.info()"
   ]
  },
  {
   "cell_type": "code",
   "execution_count": 6,
   "id": "1de40b0e-2c19-4fc3-9a71-2bc252d24765",
   "metadata": {},
   "outputs": [
    {
     "data": {
      "text/plain": [
       "(4000, 13)"
      ]
     },
     "execution_count": 6,
     "metadata": {},
     "output_type": "execute_result"
    }
   ],
   "source": [
    "df_demographic.shape"
   ]
  },
  {
   "cell_type": "code",
   "execution_count": 7,
   "id": "4c93b385-83e8-438a-8c99-5a395fa6a79c",
   "metadata": {},
   "outputs": [
    {
     "data": {
      "text/plain": [
       "Index(['customer_id', 'first_name', 'last_name', 'gender',\n",
       "       'past_3_years_bike_related_purchases', 'DOB', 'job_title',\n",
       "       'job_industry_category', 'wealth_segment', 'deceased_indicator',\n",
       "       'default', 'owns_car', 'tenure'],\n",
       "      dtype='object')"
      ]
     },
     "execution_count": 7,
     "metadata": {},
     "output_type": "execute_result"
    }
   ],
   "source": [
    "df_demographic.columns"
   ]
  },
  {
   "cell_type": "markdown",
   "id": "f3b2303e-4f1a-4ef2-87f2-6a36b4dfd2d0",
   "metadata": {},
   "source": [
    "### 3.1.2 Check Unique Values"
   ]
  },
  {
   "cell_type": "code",
   "execution_count": 8,
   "id": "8ed152af-322c-41ad-9c92-aa6aa73c8d1a",
   "metadata": {},
   "outputs": [
    {
     "name": "stdout",
     "output_type": "stream",
     "text": [
      "Column: customer_id\n",
      "Unique Values Count: 4000\n",
      "Data Type: int64\n",
      "Unique Values:\n",
      "- 1\n",
      "- 2\n",
      "- 3\n",
      "- 4\n",
      "- 5\n",
      "... and 3995 more unique values\n",
      "------------------------------------------------------------\n",
      "Column: first_name\n",
      "Unique Values Count: 3139\n",
      "Data Type: object\n",
      "Unique Values:\n",
      "- Laraine\n",
      "- Eli\n",
      "- Arlin\n",
      "- Talbot\n",
      "- Sheila-kathryn\n",
      "... and 3134 more unique values\n",
      "------------------------------------------------------------\n",
      "Column: last_name\n",
      "Unique Values Count: 3725\n",
      "Data Type: object\n",
      "Unique Values:\n",
      "- Medendorp\n",
      "- Bockman\n",
      "- Dearle\n",
      "- nan\n",
      "- Calton\n",
      "... and 3720 more unique values\n",
      "------------------------------------------------------------\n",
      "Column: gender\n",
      "Unique Values Count: 6\n",
      "Data Type: object\n",
      "Unique Values:\n",
      "- F\n",
      "- Male\n",
      "- Female\n",
      "- U\n",
      "- Femal\n",
      "... and 1 more unique values\n",
      "------------------------------------------------------------\n",
      "Column: past_3_years_bike_related_purchases\n",
      "Unique Values Count: 100\n",
      "Data Type: int64\n",
      "Unique Values:\n",
      "- 93\n",
      "- 81\n",
      "- 61\n",
      "- 33\n",
      "- 56\n",
      "... and 95 more unique values\n",
      "------------------------------------------------------------\n",
      "Column: DOB\n",
      "Unique Values Count: 3448\n",
      "Data Type: datetime64[ns]\n",
      "------------------------------------------------------------\n",
      "Column: job_title\n",
      "Unique Values Count: 195\n",
      "Data Type: object\n",
      "Unique Values:\n",
      "- Executive Secretary\n",
      "- Administrative Officer\n",
      "- Recruiting Manager\n",
      "- nan\n",
      "- Senior Editor\n",
      "... and 190 more unique values\n",
      "------------------------------------------------------------\n",
      "Column: job_industry_category\n",
      "Unique Values Count: 9\n",
      "Data Type: object\n",
      "Unique Values:\n",
      "- Health\n",
      "- Financial Services\n",
      "- Property\n",
      "- IT\n",
      "- nan\n",
      "... and 4 more unique values\n",
      "------------------------------------------------------------\n",
      "Column: wealth_segment\n",
      "Unique Values Count: 3\n",
      "Data Type: object\n",
      "Unique Values:\n",
      "- Mass Customer\n",
      "- Affluent Customer\n",
      "- High Net Worth\n",
      "------------------------------------------------------------\n",
      "Column: deceased_indicator\n",
      "Unique Values Count: 2\n",
      "Data Type: object\n",
      "Unique Values:\n",
      "- N\n",
      "- Y\n",
      "------------------------------------------------------------\n",
      "Column: default\n",
      "Unique Values Count: 90\n",
      "Data Type: object\n",
      "Unique Values:\n",
      "- \"'\n",
      "- <script>alert('hi')</script>\n",
      "- 2018-02-01 00:00:00\n",
      "- () { _; } >_[$($())] { touch /tmp/blns.shellshock2.fail; }\n",
      "- NIL\n",
      "... and 85 more unique values\n",
      "------------------------------------------------------------\n",
      "Column: owns_car\n",
      "Unique Values Count: 2\n",
      "Data Type: object\n",
      "Unique Values:\n",
      "- Yes\n",
      "- No\n",
      "------------------------------------------------------------\n",
      "Column: tenure\n",
      "Unique Values Count: 22\n",
      "Data Type: float64\n",
      "Unique Values:\n",
      "- 11.0\n",
      "- 16.0\n",
      "- 15.0\n",
      "- 7.0\n",
      "- 8.0\n",
      "... and 17 more unique values\n",
      "------------------------------------------------------------\n"
     ]
    }
   ],
   "source": [
    "# Checking unique values in each column\n",
    "analyze_unique_values(df_demographic)"
   ]
  },
  {
   "cell_type": "markdown",
   "id": "a8731089-b654-4ff2-aa2c-061fcc63af2a",
   "metadata": {},
   "source": [
    "### 3.1.3 Check Data Type"
   ]
  },
  {
   "cell_type": "code",
   "execution_count": 9,
   "id": "cc12e810-3a9f-4d99-b817-ced90754e292",
   "metadata": {},
   "outputs": [
    {
     "name": "stdout",
     "output_type": "stream",
     "text": [
      "Columns with data type int64: customer_id, past_3_years_bike_related_purchases\n",
      "------------------------------------------------------------\n",
      "Columns with data type object: first_name, last_name, gender, job_title, job_industry_category, wealth_segment, deceased_indicator, default, owns_car\n",
      "------------------------------------------------------------\n",
      "Columns with data type datetime64[ns]: DOB\n",
      "------------------------------------------------------------\n",
      "Columns with data type float64: tenure\n",
      "------------------------------------------------------------\n"
     ]
    }
   ],
   "source": [
    "print_columns_by_dtype(df_demographic) "
   ]
  },
  {
   "cell_type": "markdown",
   "id": "c670178e-3765-45bc-b4e5-cec8b20c6942",
   "metadata": {},
   "source": [
    "### 3.1.4 Check Missing Values"
   ]
  },
  {
   "cell_type": "code",
   "execution_count": 10,
   "id": "f49ce1ee-662b-41ae-b320-1002c0f5fab2",
   "metadata": {},
   "outputs": [
    {
     "name": "stdout",
     "output_type": "stream",
     "text": [
      "COLUMN | MISSING VALUES PERCENTAGE | MISSING VALUE COUNT\n",
      "-----------------------------------------\n",
      "job_industry_category: 16.40% (656 missing)\n",
      "job_title: 12.65% (506 missing)\n",
      "default: 7.55% (302 missing)\n",
      "last_name: 3.12% (125 missing)\n",
      "DOB: 2.17% (87 missing)\n",
      "tenure: 2.17% (87 missing)\n",
      "customer_id: 0.00% (0 missing)\n",
      "first_name: 0.00% (0 missing)\n",
      "gender: 0.00% (0 missing)\n",
      "past_3_years_bike_related_purchases: 0.00% (0 missing)\n",
      "wealth_segment: 0.00% (0 missing)\n",
      "deceased_indicator: 0.00% (0 missing)\n",
      "owns_car: 0.00% (0 missing)\n",
      "\n",
      "Missing Values Count:\n",
      "customer_id                              0\n",
      "first_name                               0\n",
      "last_name                              125\n",
      "gender                                   0\n",
      "past_3_years_bike_related_purchases      0\n",
      "DOB                                     87\n",
      "job_title                              506\n",
      "job_industry_category                  656\n",
      "wealth_segment                           0\n",
      "deceased_indicator                       0\n",
      "default                                302\n",
      "owns_car                                 0\n",
      "tenure                                  87\n",
      "dtype: int64\n",
      "\n",
      "Total Missing Values: 1763\n"
     ]
    }
   ],
   "source": [
    "analyze_missing_values(df_demographic)"
   ]
  },
  {
   "cell_type": "markdown",
   "id": "074fdaed-abcd-4be2-b998-be2deb0c1cf4",
   "metadata": {},
   "source": [
    "### 3.1.5 Check Types of Data Attributes"
   ]
  },
  {
   "cell_type": "code",
   "execution_count": 11,
   "id": "d0787bfc-e517-4daf-9c7c-b9344500113e",
   "metadata": {},
   "outputs": [
    {
     "name": "stdout",
     "output_type": "stream",
     "text": [
      "Categorical columns: gender, job_industry_category, wealth_segment, deceased_indicator, owns_car\n",
      "Count: 5\n",
      "\n",
      "Continuous columns: customer_id, first_name, last_name, past_3_years_bike_related_purchases, DOB, job_title, default, tenure\n",
      "Count: 8\n",
      "\n"
     ]
    }
   ],
   "source": [
    "analyze_column_types(df_demographic)"
   ]
  },
  {
   "cell_type": "markdown",
   "id": "03282a6a-c0a1-49e3-9cd8-a0ab161a7cc3",
   "metadata": {},
   "source": [
    "### 3.1.6 Summary of Data Overview"
   ]
  },
  {
   "cell_type": "markdown",
   "id": "382ee13e-b82c-47db-b631-2ea02cd3e6af",
   "metadata": {},
   "source": [
    "The provided dataset comprises **4000 records** and **13 columns**, including **5 categorical columns** and **8 continuous columns**.\n",
    "\n",
    "**Issues and Mitigation**\n",
    "\n",
    "1. **Inconsistent Gender Column:** The gender column contains inconsistent values that need to be addressed to ensure data integrity.\n",
    "\n",
    "2. **Date of Birth (DOB) Conversion:** The DOB column can be transformed into age or age class, adding insightful information to the dataset.\n",
    "\n",
    "3. **Irrelevant Columns:** The 'default' column holds no relevant information and should be dropped from the dataset.\n",
    "\n",
    "4. **Tenure Data Type Correction:** The 'tenure' column should be represented as integers to accurately reflect customer tenure.\n",
    "\n",
    "5. **Boolean Conversion:** The 'deceased_indicator' and 'owns_car' columns should be converted to Boolean data types.\n",
    "\n",
    "6. **Handling Deceased Customers:** Records with 'deceased_indicator' values of 'Y' do not pertain to current customers and should be removed.\n",
    "\n",
    "7. **Missing Values:** The dataset contains **1763 missing values** that require appropriate handling techniques."
   ]
  },
  {
   "cell_type": "markdown",
   "id": "4b4a1942-8104-4a6b-9786-db84ad4272b0",
   "metadata": {},
   "source": [
    "## 3.2 Data Wrangling"
   ]
  },
  {
   "cell_type": "markdown",
   "id": "d813d56a-53b7-4f71-9d89-ed350f5fc94f",
   "metadata": {},
   "source": [
    "Make a copy of the data before working with it."
   ]
  },
  {
   "cell_type": "code",
   "execution_count": 12,
   "id": "534f592d-d3a5-4bdf-9c3d-4eef2e0b13fd",
   "metadata": {},
   "outputs": [],
   "source": [
    "df_demographic1 = df_demographic.copy()"
   ]
  },
  {
   "cell_type": "code",
   "execution_count": 13,
   "id": "1a070227-665a-4be8-800b-0e7e20ca9abd",
   "metadata": {},
   "outputs": [],
   "source": [
    "#df_demographic = df_demographic1"
   ]
  },
  {
   "cell_type": "code",
   "execution_count": 14,
   "id": "940620e0-b3be-4a86-8ca6-2f1e4b98b9a1",
   "metadata": {},
   "outputs": [
    {
     "name": "stdout",
     "output_type": "stream",
     "text": [
      "<class 'pandas.core.frame.DataFrame'>\n",
      "RangeIndex: 4000 entries, 0 to 3999\n",
      "Data columns (total 13 columns):\n",
      " #   Column                               Non-Null Count  Dtype         \n",
      "---  ------                               --------------  -----         \n",
      " 0   customer_id                          4000 non-null   int64         \n",
      " 1   first_name                           4000 non-null   object        \n",
      " 2   last_name                            3875 non-null   object        \n",
      " 3   gender                               4000 non-null   object        \n",
      " 4   past_3_years_bike_related_purchases  4000 non-null   int64         \n",
      " 5   DOB                                  3913 non-null   datetime64[ns]\n",
      " 6   job_title                            3494 non-null   object        \n",
      " 7   job_industry_category                3344 non-null   object        \n",
      " 8   wealth_segment                       4000 non-null   object        \n",
      " 9   deceased_indicator                   4000 non-null   object        \n",
      " 10  default                              3698 non-null   object        \n",
      " 11  owns_car                             4000 non-null   object        \n",
      " 12  tenure                               3913 non-null   float64       \n",
      "dtypes: datetime64[ns](1), float64(1), int64(2), object(9)\n",
      "memory usage: 406.4+ KB\n"
     ]
    }
   ],
   "source": [
    "df_demographic.info()"
   ]
  },
  {
   "cell_type": "markdown",
   "id": "5e88603e-9385-4883-ae6e-ecdd59357d13",
   "metadata": {},
   "source": [
    "### 3.2.1 Drop Columns"
   ]
  },
  {
   "cell_type": "code",
   "execution_count": 15,
   "id": "b099f83f-7b4d-4b50-82a5-3b9705064ff7",
   "metadata": {},
   "outputs": [],
   "source": [
    "column_drop = ['default']\n",
    "df_demographic.drop(columns=column_drop, inplace=True)"
   ]
  },
  {
   "cell_type": "code",
   "execution_count": 16,
   "id": "0e81ef5c-d243-4255-997a-bd8d9c4fa816",
   "metadata": {},
   "outputs": [
    {
     "data": {
      "text/plain": [
       "Index(['customer_id', 'first_name', 'last_name', 'gender',\n",
       "       'past_3_years_bike_related_purchases', 'DOB', 'job_title',\n",
       "       'job_industry_category', 'wealth_segment', 'deceased_indicator',\n",
       "       'owns_car', 'tenure'],\n",
       "      dtype='object')"
      ]
     },
     "execution_count": 16,
     "metadata": {},
     "output_type": "execute_result"
    }
   ],
   "source": [
    "df_demographic.columns"
   ]
  },
  {
   "cell_type": "markdown",
   "id": "33cec38e-ac10-40bb-9604-d1be69c7f676",
   "metadata": {},
   "source": [
    "### 3.2.2 Handling Missing Values"
   ]
  },
  {
   "cell_type": "code",
   "execution_count": 17,
   "id": "a1ab0900-6c79-4315-874f-a863aa587003",
   "metadata": {},
   "outputs": [
    {
     "name": "stdout",
     "output_type": "stream",
     "text": [
      "COLUMN | MISSING VALUES PERCENTAGE | MISSING VALUE COUNT\n",
      "-----------------------------------------\n",
      "job_industry_category: 16.40% (656 missing)\n",
      "job_title: 12.65% (506 missing)\n",
      "last_name: 3.12% (125 missing)\n",
      "DOB: 2.17% (87 missing)\n",
      "tenure: 2.17% (87 missing)\n",
      "customer_id: 0.00% (0 missing)\n",
      "first_name: 0.00% (0 missing)\n",
      "gender: 0.00% (0 missing)\n",
      "past_3_years_bike_related_purchases: 0.00% (0 missing)\n",
      "wealth_segment: 0.00% (0 missing)\n",
      "deceased_indicator: 0.00% (0 missing)\n",
      "owns_car: 0.00% (0 missing)\n",
      "\n",
      "Missing Values Count:\n",
      "customer_id                              0\n",
      "first_name                               0\n",
      "last_name                              125\n",
      "gender                                   0\n",
      "past_3_years_bike_related_purchases      0\n",
      "DOB                                     87\n",
      "job_title                              506\n",
      "job_industry_category                  656\n",
      "wealth_segment                           0\n",
      "deceased_indicator                       0\n",
      "owns_car                                 0\n",
      "tenure                                  87\n",
      "dtype: int64\n",
      "\n",
      "Total Missing Values: 1461\n"
     ]
    }
   ],
   "source": [
    "analyze_missing_values(df_demographic)"
   ]
  },
  {
   "cell_type": "markdown",
   "id": "4293cc5b-56bb-4df9-a3e4-beb75b33a7cd",
   "metadata": {},
   "source": [
    "|   Columns   |                  Description                 |                          Mitigation                          |\n",
    "|:-----------:|:--------------------------------------------:|:------------------------------------------------------------:|\n",
    "|  last_name  | The column assumes that users haven't provided their last names in the database | Replace missing last names with their corresponding first names|\n",
    "|  DOB        | The most frequent value (mode) in the 'DOB' column has a lower occurrence than the count of missing values | Fill missing values with values from the previous row |\n",
    "|  job_title  | The most frequent value (mode) in the 'job_title' column has a lower occurrence than the count of missing values | Fill missing values with values from the previous row |\n",
    "|  job_industry_category| Considering the frequency of the missing values is large (16.40%) and the highest occurence is nearly equivalent | Fill missing values with values from the previous row | Fill the missing values by using data from the preceding row\n",
    "|  tenure     | Data does not follow a specific pattern or trend and is spread out across a range of values | Impute with Random Sampling |\n"
   ]
  },
  {
   "cell_type": "markdown",
   "id": "2132dfbc-6a8e-4dbf-8736-102d8039d640",
   "metadata": {},
   "source": [
    "<details>\n",
    "    <summary><strong>last_name</strong></summary>\n",
    "\n",
    "Replace missing last names with their corresponding first names\n",
    "\n",
    "</details>"
   ]
  },
  {
   "cell_type": "code",
   "execution_count": 18,
   "id": "3732ccfd-c8ee-43a6-a5bb-ac547fc376c5",
   "metadata": {},
   "outputs": [],
   "source": [
    "# Replace missing last names with corresponding first names\n",
    "df_demographic.loc[df_demographic['last_name'].isnull(), 'last_name'] = df_demographic['first_name']"
   ]
  },
  {
   "cell_type": "code",
   "execution_count": 19,
   "id": "201136a9-0cdf-47ac-bce4-d15acea5cfca",
   "metadata": {},
   "outputs": [
    {
     "data": {
      "text/plain": [
       "0"
      ]
     },
     "execution_count": 19,
     "metadata": {},
     "output_type": "execute_result"
    }
   ],
   "source": [
    "df_demographic['last_name'].isnull().sum()"
   ]
  },
  {
   "cell_type": "markdown",
   "id": "22aa04dc-00b5-4ed4-9f68-5228615918d7",
   "metadata": {},
   "source": [
    "<details>\n",
    "    <summary><strong>BOD</strong></summary>\n",
    "\n",
    "Fill missing values with values from the previous row.\n",
    "\n",
    "</details>"
   ]
  },
  {
   "cell_type": "code",
   "execution_count": 20,
   "id": "2611cb23-a703-4575-aeee-eed206d318a6",
   "metadata": {},
   "outputs": [
    {
     "data": {
      "text/plain": [
       "1978-01-30    7\n",
       "1964-07-08    4\n",
       "1962-12-17    4\n",
       "1978-08-19    4\n",
       "1977-05-13    4\n",
       "             ..\n",
       "1989-06-16    1\n",
       "1998-09-30    1\n",
       "1985-03-11    1\n",
       "1989-10-23    1\n",
       "1991-11-05    1\n",
       "Name: DOB, Length: 3448, dtype: int64"
      ]
     },
     "execution_count": 20,
     "metadata": {},
     "output_type": "execute_result"
    }
   ],
   "source": [
    "df_demographic['DOB'].value_counts()"
   ]
  },
  {
   "cell_type": "code",
   "execution_count": 21,
   "id": "b71bdf64-3168-408c-9948-a4f690d3fb91",
   "metadata": {},
   "outputs": [
    {
     "data": {
      "text/plain": [
       "87"
      ]
     },
     "execution_count": 21,
     "metadata": {},
     "output_type": "execute_result"
    }
   ],
   "source": [
    "df_demographic['DOB'].isnull().sum()"
   ]
  },
  {
   "cell_type": "markdown",
   "id": "8641618a-4a28-4093-aa61-fa5a6bcbbd2a",
   "metadata": {},
   "source": [
    "The most frequent value (mode) in the 'DOB' column has a lower occurrence than the count of missing values. As a result, using the mean for imputation is not suitable. Instead, we will fill in the missing values with the values from the previous row. Use `ffill` which is the (forward fill) method to fill missing values with values from the previous row."
   ]
  },
  {
   "cell_type": "code",
   "execution_count": 22,
   "id": "237af286-b88d-488a-95d2-53943050418f",
   "metadata": {},
   "outputs": [],
   "source": [
    "# Fill missing values with values from the previous row\n",
    "df_demographic['DOB'].fillna(method='ffill', inplace=True)"
   ]
  },
  {
   "cell_type": "code",
   "execution_count": 23,
   "id": "bf143e49-5c47-4beb-92ed-cbfd68a7f399",
   "metadata": {},
   "outputs": [
    {
     "data": {
      "text/plain": [
       "0"
      ]
     },
     "execution_count": 23,
     "metadata": {},
     "output_type": "execute_result"
    }
   ],
   "source": [
    "df_demographic['DOB'].isnull().sum()"
   ]
  },
  {
   "cell_type": "markdown",
   "id": "caecfb07-a8c0-49e7-990f-65999475a2e7",
   "metadata": {},
   "source": [
    "<details>\n",
    "    <summary><strong>job_title</strong></summary>\n",
    "\n",
    "Fill missing values with values from the previous row.\n",
    "\n",
    "</details>"
   ]
  },
  {
   "cell_type": "code",
   "execution_count": 24,
   "id": "3cf1a0ba-ffd3-4998-82ac-3cdded388b1b",
   "metadata": {},
   "outputs": [
    {
     "data": {
      "text/plain": [
       "Business Systems Development Analyst    45\n",
       "Tax Accountant                          44\n",
       "Social Worker                           44\n",
       "Internal Auditor                        42\n",
       "Recruiting Manager                      41\n",
       "                                        ..\n",
       "Database Administrator I                 4\n",
       "Health Coach I                           3\n",
       "Health Coach III                         3\n",
       "Research Assistant III                   3\n",
       "Developer I                              1\n",
       "Name: job_title, Length: 195, dtype: int64"
      ]
     },
     "execution_count": 24,
     "metadata": {},
     "output_type": "execute_result"
    }
   ],
   "source": [
    "df_demographic['job_title'].value_counts()"
   ]
  },
  {
   "cell_type": "code",
   "execution_count": 25,
   "id": "ab3431e5-cbc7-441b-9fa5-ad3f2e95a414",
   "metadata": {},
   "outputs": [
    {
     "data": {
      "text/plain": [
       "506"
      ]
     },
     "execution_count": 25,
     "metadata": {},
     "output_type": "execute_result"
    }
   ],
   "source": [
    "df_demographic['job_title'].isnull().sum()"
   ]
  },
  {
   "cell_type": "code",
   "execution_count": 26,
   "id": "ed6ede35-9a2c-45e5-807c-b7a0f995343c",
   "metadata": {},
   "outputs": [
    {
     "data": {
      "text/plain": [
       "(4000,)"
      ]
     },
     "execution_count": 26,
     "metadata": {},
     "output_type": "execute_result"
    }
   ],
   "source": [
    "df_demographic['job_title'].shape"
   ]
  },
  {
   "cell_type": "code",
   "execution_count": 27,
   "id": "e2d19e1a-f11a-4333-9353-6bf7112cbe74",
   "metadata": {},
   "outputs": [],
   "source": [
    "# Fill missing values with values from the previous row\n",
    "df_demographic['job_title'].fillna(method='ffill', inplace=True)"
   ]
  },
  {
   "cell_type": "code",
   "execution_count": 28,
   "id": "72a3fef9-fa84-4cb1-a34e-81c7a19695f6",
   "metadata": {},
   "outputs": [
    {
     "data": {
      "text/plain": [
       "0"
      ]
     },
     "execution_count": 28,
     "metadata": {},
     "output_type": "execute_result"
    }
   ],
   "source": [
    "df_demographic['job_title'].isnull().sum()"
   ]
  },
  {
   "cell_type": "markdown",
   "id": "0550a4b8-d68a-4d85-8336-a2a499bfae2e",
   "metadata": {},
   "source": [
    "<details>\n",
    "    <summary><strong>job_industry_category</strong></summary>\n",
    "\n",
    "Fill missing values with values from the previous row.\n",
    "\n",
    "</details>"
   ]
  },
  {
   "cell_type": "code",
   "execution_count": 29,
   "id": "ff3b836f-2a7e-411d-8bca-04cfaecbbfae",
   "metadata": {},
   "outputs": [
    {
     "data": {
      "text/plain": [
       "Manufacturing         799\n",
       "Financial Services    774\n",
       "Health                602\n",
       "Retail                358\n",
       "Property              267\n",
       "IT                    223\n",
       "Entertainment         136\n",
       "Argiculture           113\n",
       "Telecommunications     72\n",
       "Name: job_industry_category, dtype: int64"
      ]
     },
     "execution_count": 29,
     "metadata": {},
     "output_type": "execute_result"
    }
   ],
   "source": [
    "df_demographic['job_industry_category'].value_counts()"
   ]
  },
  {
   "cell_type": "code",
   "execution_count": 30,
   "id": "aa2e545a-07ab-4a5d-8e8e-36a88769f979",
   "metadata": {},
   "outputs": [
    {
     "data": {
      "text/plain": [
       "656"
      ]
     },
     "execution_count": 30,
     "metadata": {},
     "output_type": "execute_result"
    }
   ],
   "source": [
    "df_demographic['job_industry_category'].isnull().sum()"
   ]
  },
  {
   "cell_type": "code",
   "execution_count": 31,
   "id": "b726ce52-7624-4ffd-bf42-a70afc43b8c4",
   "metadata": {},
   "outputs": [],
   "source": [
    "# Fill missing values with values from the previous row\n",
    "df_demographic['job_industry_category'].fillna(method='ffill', inplace=True)"
   ]
  },
  {
   "cell_type": "code",
   "execution_count": 32,
   "id": "bf26402c-89e6-44da-bf37-54cd0894b9b2",
   "metadata": {},
   "outputs": [
    {
     "data": {
      "text/plain": [
       "0"
      ]
     },
     "execution_count": 32,
     "metadata": {},
     "output_type": "execute_result"
    }
   ],
   "source": [
    "df_demographic['job_industry_category'].isnull().sum()"
   ]
  },
  {
   "cell_type": "markdown",
   "id": "32024a43-344f-4f0e-a07a-179bfc31f739",
   "metadata": {},
   "source": [
    "<details>\n",
    "    <summary><strong>tenure</strong></summary>\n",
    "\n",
    " Simulate the distribution of 'tenure' and randomly sample from it to fill the missing values. This approach maintains the general shape of the distribution and introduces variability.\n",
    "\n",
    "</details>"
   ]
  },
  {
   "cell_type": "code",
   "execution_count": 33,
   "id": "b6a77817-6e6d-4255-9f87-33deba68242b",
   "metadata": {},
   "outputs": [
    {
     "data": {
      "text/plain": [
       "7.0     235\n",
       "5.0     228\n",
       "11.0    221\n",
       "10.0    218\n",
       "16.0    215\n",
       "8.0     211\n",
       "18.0    208\n",
       "12.0    202\n",
       "9.0     200\n",
       "14.0    200\n",
       "6.0     192\n",
       "13.0    191\n",
       "4.0     191\n",
       "17.0    182\n",
       "15.0    179\n",
       "1.0     166\n",
       "3.0     160\n",
       "19.0    159\n",
       "2.0     150\n",
       "20.0     96\n",
       "22.0     55\n",
       "21.0     54\n",
       "Name: tenure, dtype: int64"
      ]
     },
     "execution_count": 33,
     "metadata": {},
     "output_type": "execute_result"
    }
   ],
   "source": [
    "df_demographic['tenure'].value_counts()"
   ]
  },
  {
   "cell_type": "code",
   "execution_count": 34,
   "id": "72569e5a-f397-4f3a-b7c2-135b6acec601",
   "metadata": {},
   "outputs": [
    {
     "data": {
      "text/plain": [
       "87"
      ]
     },
     "execution_count": 34,
     "metadata": {},
     "output_type": "execute_result"
    }
   ],
   "source": [
    "df_demographic['tenure'].isnull().sum()"
   ]
  },
  {
   "cell_type": "code",
   "execution_count": 35,
   "id": "1bff3135-8cad-4432-9552-48761b648a5d",
   "metadata": {},
   "outputs": [
    {
     "data": {
      "image/png": "[encoded data removed]",
      "text/plain": [
       "<Figure size 400x200 with 1 Axes>"
      ]
     },
     "metadata": {},
     "output_type": "display_data"
    }
   ],
   "source": [
    "bin_value = df_demographic['tenure'].nunique()\n",
    "# Create a histogram of the 'tenure' column\n",
    "plt.figure(figsize=(4, 2))\n",
    "sns.histplot(data=df_demographic, x='tenure', bins=bin_value, kde=True)\n",
    "plt.title('Distribution of Tenure')\n",
    "plt.xlabel('Tenure')\n",
    "plt.ylabel('Frequency')\n",
    "plt.show()"
   ]
  },
  {
   "cell_type": "code",
   "execution_count": 36,
   "id": "7f3a010a-818c-4adc-ab84-139aa499cc54",
   "metadata": {},
   "outputs": [],
   "source": [
    "# Calculate mean and standard deviation of 'tenure' column\n",
    "mean_tenure = df_demographic['tenure'].mean()\n",
    "std_dev_tenure = df_demographic['tenure'].std()\n",
    "\n",
    "# Generate random samples based on a Normal distribution\n",
    "num_missing = df_demographic['tenure'].isnull().sum()\n",
    "imputed_values = np.random.normal(mean_tenure, std_dev_tenure, num_missing)\n",
    "\n",
    "# Round random samples to integers and ensure they are greater than 0\n",
    "imputed_values = np.round(imputed_values).astype(int)\n",
    "imputed_values = np.maximum(imputed_values, 1)\n",
    "\n",
    "# Replace missing values with random samples\n",
    "missing_indices = df_demographic[df_demographic['tenure'].isnull()].index\n",
    "df_demographic.loc[missing_indices, 'tenure'] = imputed_values"
   ]
  },
  {
   "cell_type": "code",
   "execution_count": 37,
   "id": "df70b77c-3804-40aa-88e3-4ced38ac0a22",
   "metadata": {},
   "outputs": [
    {
     "data": {
      "text/plain": [
       "0"
      ]
     },
     "execution_count": 37,
     "metadata": {},
     "output_type": "execute_result"
    }
   ],
   "source": [
    "df_demographic['tenure'].isnull().sum()"
   ]
  },
  {
   "cell_type": "code",
   "execution_count": 38,
   "id": "560e8fb8-78d6-4efa-a38f-9fc804d137e0",
   "metadata": {},
   "outputs": [
    {
     "data": {
      "text/plain": [
       "7.0     236\n",
       "5.0     231\n",
       "11.0    227\n",
       "10.0    224\n",
       "16.0    220\n",
       "8.0     216\n",
       "18.0    209\n",
       "12.0    209\n",
       "14.0    208\n",
       "9.0     206\n",
       "6.0     198\n",
       "13.0    198\n",
       "4.0     194\n",
       "15.0    185\n",
       "17.0    183\n",
       "1.0     174\n",
       "3.0     162\n",
       "19.0    161\n",
       "2.0     152\n",
       "20.0     97\n",
       "22.0     56\n",
       "21.0     54\n",
       "Name: tenure, dtype: int64"
      ]
     },
     "execution_count": 38,
     "metadata": {},
     "output_type": "execute_result"
    }
   ],
   "source": [
    "df_demographic['tenure'].value_counts()"
   ]
  },
  {
   "cell_type": "code",
   "execution_count": 39,
   "id": "64f545d6-b6fe-4ccd-b77b-28fb917170a5",
   "metadata": {},
   "outputs": [
    {
     "data": {
      "image/png": "[encoded data removed]",
      "text/plain": [
       "<Figure size 400x200 with 1 Axes>"
      ]
     },
     "metadata": {},
     "output_type": "display_data"
    }
   ],
   "source": [
    "bin_value = df_demographic['tenure'].nunique()\n",
    "# Create a histogram of the 'tenure' column\n",
    "plt.figure(figsize=(4, 2))\n",
    "sns.histplot(data=df_demographic, x='tenure', bins=bin_value,kde=True)\n",
    "plt.title('Distribution of Tenure')\n",
    "plt.xlabel('Tenure')\n",
    "plt.ylabel('Frequency')\n",
    "plt.show()"
   ]
  },
  {
   "cell_type": "markdown",
   "id": "d1be7d45-c905-479a-955b-981eb82f919b",
   "metadata": {},
   "source": [
    "Check if there are any missing values left."
   ]
  },
  {
   "cell_type": "code",
   "execution_count": 40,
   "id": "47822559-ea8c-477c-81ab-f3760753d4d7",
   "metadata": {},
   "outputs": [
    {
     "name": "stdout",
     "output_type": "stream",
     "text": [
      "COLUMN | MISSING VALUES PERCENTAGE | MISSING VALUE COUNT\n",
      "-----------------------------------------\n",
      "customer_id: 0.00% (0 missing)\n",
      "first_name: 0.00% (0 missing)\n",
      "last_name: 0.00% (0 missing)\n",
      "gender: 0.00% (0 missing)\n",
      "past_3_years_bike_related_purchases: 0.00% (0 missing)\n",
      "DOB: 0.00% (0 missing)\n",
      "job_title: 0.00% (0 missing)\n",
      "job_industry_category: 0.00% (0 missing)\n",
      "wealth_segment: 0.00% (0 missing)\n",
      "deceased_indicator: 0.00% (0 missing)\n",
      "owns_car: 0.00% (0 missing)\n",
      "tenure: 0.00% (0 missing)\n",
      "\n",
      "Missing Values Count:\n",
      "customer_id                            0\n",
      "first_name                             0\n",
      "last_name                              0\n",
      "gender                                 0\n",
      "past_3_years_bike_related_purchases    0\n",
      "DOB                                    0\n",
      "job_title                              0\n",
      "job_industry_category                  0\n",
      "wealth_segment                         0\n",
      "deceased_indicator                     0\n",
      "owns_car                               0\n",
      "tenure                                 0\n",
      "dtype: int64\n",
      "\n",
      "Total Missing Values: 0\n"
     ]
    }
   ],
   "source": [
    "analyze_missing_values(df_demographic)"
   ]
  },
  {
   "cell_type": "code",
   "execution_count": 41,
   "id": "996ca954-df08-4b73-871c-94c812656c35",
   "metadata": {},
   "outputs": [],
   "source": [
    "df_demographic2 = df_demographic.copy()"
   ]
  },
  {
   "cell_type": "markdown",
   "id": "90db024d-4695-4d1b-8caf-02dd2fa46503",
   "metadata": {},
   "source": [
    "### 3.2.3 Identify Duplicate"
   ]
  },
  {
   "cell_type": "code",
   "execution_count": 42,
   "id": "a6b0dd97-169c-4375-9a9c-400b23555131",
   "metadata": {},
   "outputs": [
    {
     "data": {
      "text/plain": [
       "customer_id                            0.0\n",
       "first_name                             0.0\n",
       "last_name                              0.0\n",
       "gender                                 0.0\n",
       "past_3_years_bike_related_purchases    0.0\n",
       "job_title                              0.0\n",
       "job_industry_category                  0.0\n",
       "wealth_segment                         0.0\n",
       "deceased_indicator                     0.0\n",
       "owns_car                               0.0\n",
       "tenure                                 0.0\n",
       "dtype: float64"
      ]
     },
     "execution_count": 42,
     "metadata": {},
     "output_type": "execute_result"
    }
   ],
   "source": [
    "dups = df_demographic.duplicated()\n",
    "df_demographic[dups].sum()"
   ]
  },
  {
   "cell_type": "markdown",
   "id": "27225f75-c234-4c96-9854-e9d579bfb9cb",
   "metadata": {},
   "source": [
    "The data appears to be free of duplicate values, which is a good."
   ]
  },
  {
   "cell_type": "markdown",
   "id": "a54445a9-4e81-40a7-90c4-666b50b212a8",
   "metadata": {},
   "source": [
    "### 3.2.4 Data Formatting"
   ]
  },
  {
   "cell_type": "code",
   "execution_count": 43,
   "id": "d151935d-e584-47db-9c38-fc8643498c83",
   "metadata": {},
   "outputs": [],
   "source": [
    "df_demographic[[\"tenure\"]] = df_demographic[[\"tenure\"]].astype(\"int64\")"
   ]
  },
  {
   "cell_type": "code",
   "execution_count": 44,
   "id": "17361779-4c93-4f7c-ad88-cc2b67c3e026",
   "metadata": {},
   "outputs": [
    {
     "name": "stdout",
     "output_type": "stream",
     "text": [
      "<class 'pandas.core.frame.DataFrame'>\n",
      "RangeIndex: 4000 entries, 0 to 3999\n",
      "Data columns (total 12 columns):\n",
      " #   Column                               Non-Null Count  Dtype         \n",
      "---  ------                               --------------  -----         \n",
      " 0   customer_id                          4000 non-null   int64         \n",
      " 1   first_name                           4000 non-null   object        \n",
      " 2   last_name                            4000 non-null   object        \n",
      " 3   gender                               4000 non-null   object        \n",
      " 4   past_3_years_bike_related_purchases  4000 non-null   int64         \n",
      " 5   DOB                                  4000 non-null   datetime64[ns]\n",
      " 6   job_title                            4000 non-null   object        \n",
      " 7   job_industry_category                4000 non-null   object        \n",
      " 8   wealth_segment                       4000 non-null   object        \n",
      " 9   deceased_indicator                   4000 non-null   object        \n",
      " 10  owns_car                             4000 non-null   object        \n",
      " 11  tenure                               4000 non-null   int64         \n",
      "dtypes: datetime64[ns](1), int64(3), object(8)\n",
      "memory usage: 375.1+ KB\n"
     ]
    }
   ],
   "source": [
    "df_demographic.info()"
   ]
  },
  {
   "cell_type": "markdown",
   "id": "fe501fce-c82b-4de6-9018-f1289c18d301",
   "metadata": {},
   "source": [
    "### 3.2.5 Handling Inconsistencies"
   ]
  },
  {
   "cell_type": "markdown",
   "id": "71948213-fae6-4a69-a416-53245cab5aac",
   "metadata": {},
   "source": [
    "<details>\n",
    "    <summary><strong>gender</strong></summary>\n",
    "\n",
    "Replace 'U', 'Femal', 'M' , 'F' leaving only 'Male' and 'Female'\n",
    "\n",
    "</details>"
   ]
  },
  {
   "cell_type": "code",
   "execution_count": 45,
   "id": "2368b64a-8fac-4111-a7f9-e29f58b07d20",
   "metadata": {},
   "outputs": [
    {
     "data": {
      "text/plain": [
       "array(['F', 'Male', 'Female', 'U', 'Femal', 'M'], dtype=object)"
      ]
     },
     "execution_count": 45,
     "metadata": {},
     "output_type": "execute_result"
    }
   ],
   "source": [
    "df_demographic['gender'].unique()"
   ]
  },
  {
   "cell_type": "code",
   "execution_count": 46,
   "id": "2b803445-2e36-433d-baae-2d85f41b8e72",
   "metadata": {},
   "outputs": [],
   "source": [
    "df_demographic['gender'].replace({'U': 'Unspecified', 'F': 'Female', 'Femal': 'Female', 'M': 'Male'}, inplace=True)"
   ]
  },
  {
   "cell_type": "code",
   "execution_count": 47,
   "id": "21c39d69-c522-4435-9707-7f9be5c90240",
   "metadata": {},
   "outputs": [
    {
     "data": {
      "text/plain": [
       "Female         2039\n",
       "Male           1873\n",
       "Unspecified      88\n",
       "Name: gender, dtype: int64"
      ]
     },
     "execution_count": 47,
     "metadata": {},
     "output_type": "execute_result"
    }
   ],
   "source": [
    "df_demographic['gender'].value_counts()"
   ]
  },
  {
   "cell_type": "markdown",
   "id": "b607fb08-6eac-4cc5-94bf-0321151eaa40",
   "metadata": {},
   "source": [
    "Replace 'Unspecified' with the highest counts which is 'Female'."
   ]
  },
  {
   "cell_type": "code",
   "execution_count": 48,
   "id": "faefc770-57f5-472a-a06f-33d690a7eb85",
   "metadata": {},
   "outputs": [],
   "source": [
    "df_demographic['gender'].replace({'Unspecified': 'Female'}, inplace=True)"
   ]
  },
  {
   "cell_type": "code",
   "execution_count": 49,
   "id": "357fadc3-fc1c-4b35-a8fb-5f3e66b0792b",
   "metadata": {},
   "outputs": [
    {
     "data": {
      "text/plain": [
       "Female    2127\n",
       "Male      1873\n",
       "Name: gender, dtype: int64"
      ]
     },
     "execution_count": 49,
     "metadata": {},
     "output_type": "execute_result"
    }
   ],
   "source": [
    "df_demographic['gender'].value_counts()"
   ]
  },
  {
   "cell_type": "markdown",
   "id": "bb6b8d03-cba3-491d-82aa-9786d4e8b117",
   "metadata": {},
   "source": [
    "<details>\n",
    "    <summary><strong>deceased_indicator</strong></summary>\n",
    "\n",
    "- Remove rows with 'Y' indicating already deceased.\n",
    "- Drop the 'deceased_indicator' column as we prepare dataset for living customer only.\n",
    "\n",
    "</details>"
   ]
  },
  {
   "cell_type": "code",
   "execution_count": 50,
   "id": "092b12fd-7e08-4e92-84ab-dd4810c9ff61",
   "metadata": {},
   "outputs": [
    {
     "data": {
      "text/plain": [
       "N    3998\n",
       "Y       2\n",
       "Name: deceased_indicator, dtype: int64"
      ]
     },
     "execution_count": 50,
     "metadata": {},
     "output_type": "execute_result"
    }
   ],
   "source": [
    "df_demographic['deceased_indicator'].value_counts()"
   ]
  },
  {
   "cell_type": "code",
   "execution_count": 51,
   "id": "c31a3338-c680-4ebd-a440-5d5827484e5b",
   "metadata": {},
   "outputs": [
    {
     "data": {
      "text/html": [
       "<div>\n",
       "<style scoped>\n",
       "    .dataframe tbody tr th:only-of-type {\n",
       "        vertical-align: middle;\n",
       "    }\n",
       "\n",
       "    .dataframe tbody tr th {\n",
       "        vertical-align: top;\n",
       "    }\n",
       "\n",
       "    .dataframe thead th {\n",
       "        text-align: right;\n",
       "    }\n",
       "</style>\n",
       "<table border=\"1\" class=\"dataframe\">\n",
       "  <thead>\n",
       "    <tr style=\"text-align: right;\">\n",
       "      <th></th>\n",
       "      <th>customer_id</th>\n",
       "      <th>first_name</th>\n",
       "      <th>last_name</th>\n",
       "      <th>gender</th>\n",
       "      <th>past_3_years_bike_related_purchases</th>\n",
       "      <th>DOB</th>\n",
       "      <th>job_title</th>\n",
       "      <th>job_industry_category</th>\n",
       "      <th>wealth_segment</th>\n",
       "      <th>deceased_indicator</th>\n",
       "      <th>owns_car</th>\n",
       "      <th>tenure</th>\n",
       "    </tr>\n",
       "  </thead>\n",
       "  <tbody>\n",
       "    <tr>\n",
       "      <th>752</th>\n",
       "      <td>753</td>\n",
       "      <td>Josy</td>\n",
       "      <td>St. Quentin</td>\n",
       "      <td>Female</td>\n",
       "      <td>82</td>\n",
       "      <td>1970-03-07</td>\n",
       "      <td>Food Chemist</td>\n",
       "      <td>Health</td>\n",
       "      <td>Affluent Customer</td>\n",
       "      <td>Y</td>\n",
       "      <td>Yes</td>\n",
       "      <td>6</td>\n",
       "    </tr>\n",
       "    <tr>\n",
       "      <th>3789</th>\n",
       "      <td>3790</td>\n",
       "      <td>Kurtis</td>\n",
       "      <td>Morson</td>\n",
       "      <td>Male</td>\n",
       "      <td>91</td>\n",
       "      <td>1959-05-31</td>\n",
       "      <td>Senior Editor</td>\n",
       "      <td>Retail</td>\n",
       "      <td>Mass Customer</td>\n",
       "      <td>Y</td>\n",
       "      <td>Yes</td>\n",
       "      <td>9</td>\n",
       "    </tr>\n",
       "  </tbody>\n",
       "</table>\n",
       "</div>"
      ],
      "text/plain": [
       "      customer_id first_name    last_name  gender  \\\n",
       "752           753       Josy  St. Quentin  Female   \n",
       "3789         3790     Kurtis       Morson    Male   \n",
       "\n",
       "      past_3_years_bike_related_purchases        DOB      job_title  \\\n",
       "752                                    82 1970-03-07   Food Chemist   \n",
       "3789                                   91 1959-05-31  Senior Editor   \n",
       "\n",
       "     job_industry_category     wealth_segment deceased_indicator owns_car  \\\n",
       "752                 Health  Affluent Customer                  Y      Yes   \n",
       "3789                Retail      Mass Customer                  Y      Yes   \n",
       "\n",
       "      tenure  \n",
       "752        6  \n",
       "3789       9  "
      ]
     },
     "execution_count": 51,
     "metadata": {},
     "output_type": "execute_result"
    }
   ],
   "source": [
    "df_demographic.loc[df_demographic['deceased_indicator'] == 'Y']"
   ]
  },
  {
   "cell_type": "code",
   "execution_count": 52,
   "id": "59ae9e3d-aa30-4133-a955-59a6abc4abd5",
   "metadata": {},
   "outputs": [],
   "source": [
    "df_demographic.drop(df_demographic.loc[df_demographic['deceased_indicator'] == 'Y'].index, inplace=True)\n"
   ]
  },
  {
   "cell_type": "code",
   "execution_count": 53,
   "id": "5115e826-f5d9-4a0f-b723-362f83fb252d",
   "metadata": {},
   "outputs": [
    {
     "data": {
      "text/plain": [
       "N    3998\n",
       "Name: deceased_indicator, dtype: int64"
      ]
     },
     "execution_count": 53,
     "metadata": {},
     "output_type": "execute_result"
    }
   ],
   "source": [
    "df_demographic['deceased_indicator'].value_counts()"
   ]
  },
  {
   "cell_type": "markdown",
   "id": "56821a46-33fe-438b-bfb4-3ac2e501923f",
   "metadata": {},
   "source": [
    "Drop 'deceased_indicator' column as we already prepared dataset with living customers."
   ]
  },
  {
   "cell_type": "code",
   "execution_count": 54,
   "id": "9284918f-93de-4285-b20a-dd0952c76d10",
   "metadata": {},
   "outputs": [],
   "source": [
    "column_drop = ['deceased_indicator']\n",
    "df_demographic.drop(columns=column_drop, inplace=True)"
   ]
  },
  {
   "cell_type": "code",
   "execution_count": 55,
   "id": "26f5a99d-1e35-4c15-a807-f8b3c0869aba",
   "metadata": {},
   "outputs": [
    {
     "data": {
      "text/plain": [
       "Index(['customer_id', 'first_name', 'last_name', 'gender',\n",
       "       'past_3_years_bike_related_purchases', 'DOB', 'job_title',\n",
       "       'job_industry_category', 'wealth_segment', 'owns_car', 'tenure'],\n",
       "      dtype='object')"
      ]
     },
     "execution_count": 55,
     "metadata": {},
     "output_type": "execute_result"
    }
   ],
   "source": [
    "df_demographic.columns"
   ]
  },
  {
   "cell_type": "markdown",
   "id": "56003eb8-334b-488c-9c05-88bbfa0b53e6",
   "metadata": {},
   "source": [
    "### 3.2.6 Feature Engineering"
   ]
  },
  {
   "cell_type": "markdown",
   "id": "0b1a3c7f-5859-41e1-98f2-e7ff321e6012",
   "metadata": {},
   "source": [
    "<details>\n",
    "    <summary><strong>DOB</strong></summary>\n",
    "\n",
    "- Calculate age for each customer.\n",
    "- Choose 9/8/2023 as reference date.\n",
    "- Drop 'DOB' column as the dataset already had age.\n",
    "\n",
    "</details>"
   ]
  },
  {
   "cell_type": "code",
   "execution_count": 56,
   "id": "83129699-ae43-4b19-af63-f239a78ec760",
   "metadata": {},
   "outputs": [
    {
     "data": {
      "text/plain": [
       "0      1953-10-12\n",
       "1      1980-12-16\n",
       "2      1954-01-20\n",
       "3      1961-10-03\n",
       "4      1977-05-13\n",
       "          ...    \n",
       "3995   1975-08-09\n",
       "3996   2001-07-13\n",
       "3997   2001-07-13\n",
       "3998   1973-10-24\n",
       "3999   1991-11-05\n",
       "Name: DOB, Length: 3998, dtype: datetime64[ns]"
      ]
     },
     "execution_count": 56,
     "metadata": {},
     "output_type": "execute_result"
    }
   ],
   "source": [
    "df_demographic['DOB'] "
   ]
  },
  {
   "cell_type": "code",
   "execution_count": 57,
   "id": "d1685548-29c7-45c3-bfda-05abf8327213",
   "metadata": {},
   "outputs": [],
   "source": [
    "# Calculate age based on reference year 2023\n",
    "reference_year = pd.to_datetime('2023-08-09')  # Assuming the reference year is January 1, 2023\n",
    "df_demographic['age'] = (reference_year - df_demographic['DOB']).dt.days // 365"
   ]
  },
  {
   "cell_type": "code",
   "execution_count": 58,
   "id": "56af3a08-3b23-4f97-b386-e996565687b2",
   "metadata": {},
   "outputs": [
    {
     "data": {
      "text/html": [
       "<div>\n",
       "<style scoped>\n",
       "    .dataframe tbody tr th:only-of-type {\n",
       "        vertical-align: middle;\n",
       "    }\n",
       "\n",
       "    .dataframe tbody tr th {\n",
       "        vertical-align: top;\n",
       "    }\n",
       "\n",
       "    .dataframe thead th {\n",
       "        text-align: right;\n",
       "    }\n",
       "</style>\n",
       "<table border=\"1\" class=\"dataframe\">\n",
       "  <thead>\n",
       "    <tr style=\"text-align: right;\">\n",
       "      <th></th>\n",
       "      <th>customer_id</th>\n",
       "      <th>first_name</th>\n",
       "      <th>last_name</th>\n",
       "      <th>gender</th>\n",
       "      <th>past_3_years_bike_related_purchases</th>\n",
       "      <th>DOB</th>\n",
       "      <th>job_title</th>\n",
       "      <th>job_industry_category</th>\n",
       "      <th>wealth_segment</th>\n",
       "      <th>owns_car</th>\n",
       "      <th>tenure</th>\n",
       "      <th>age</th>\n",
       "    </tr>\n",
       "  </thead>\n",
       "  <tbody>\n",
       "    <tr>\n",
       "      <th>0</th>\n",
       "      <td>1</td>\n",
       "      <td>Laraine</td>\n",
       "      <td>Medendorp</td>\n",
       "      <td>Female</td>\n",
       "      <td>93</td>\n",
       "      <td>1953-10-12</td>\n",
       "      <td>Executive Secretary</td>\n",
       "      <td>Health</td>\n",
       "      <td>Mass Customer</td>\n",
       "      <td>Yes</td>\n",
       "      <td>11</td>\n",
       "      <td>69</td>\n",
       "    </tr>\n",
       "    <tr>\n",
       "      <th>1</th>\n",
       "      <td>2</td>\n",
       "      <td>Eli</td>\n",
       "      <td>Bockman</td>\n",
       "      <td>Male</td>\n",
       "      <td>81</td>\n",
       "      <td>1980-12-16</td>\n",
       "      <td>Administrative Officer</td>\n",
       "      <td>Financial Services</td>\n",
       "      <td>Mass Customer</td>\n",
       "      <td>Yes</td>\n",
       "      <td>16</td>\n",
       "      <td>42</td>\n",
       "    </tr>\n",
       "    <tr>\n",
       "      <th>2</th>\n",
       "      <td>3</td>\n",
       "      <td>Arlin</td>\n",
       "      <td>Dearle</td>\n",
       "      <td>Male</td>\n",
       "      <td>61</td>\n",
       "      <td>1954-01-20</td>\n",
       "      <td>Recruiting Manager</td>\n",
       "      <td>Property</td>\n",
       "      <td>Mass Customer</td>\n",
       "      <td>Yes</td>\n",
       "      <td>15</td>\n",
       "      <td>69</td>\n",
       "    </tr>\n",
       "    <tr>\n",
       "      <th>3</th>\n",
       "      <td>4</td>\n",
       "      <td>Talbot</td>\n",
       "      <td>Talbot</td>\n",
       "      <td>Male</td>\n",
       "      <td>33</td>\n",
       "      <td>1961-10-03</td>\n",
       "      <td>Recruiting Manager</td>\n",
       "      <td>IT</td>\n",
       "      <td>Mass Customer</td>\n",
       "      <td>No</td>\n",
       "      <td>7</td>\n",
       "      <td>61</td>\n",
       "    </tr>\n",
       "    <tr>\n",
       "      <th>4</th>\n",
       "      <td>5</td>\n",
       "      <td>Sheila-kathryn</td>\n",
       "      <td>Calton</td>\n",
       "      <td>Female</td>\n",
       "      <td>56</td>\n",
       "      <td>1977-05-13</td>\n",
       "      <td>Senior Editor</td>\n",
       "      <td>IT</td>\n",
       "      <td>Affluent Customer</td>\n",
       "      <td>Yes</td>\n",
       "      <td>8</td>\n",
       "      <td>46</td>\n",
       "    </tr>\n",
       "  </tbody>\n",
       "</table>\n",
       "</div>"
      ],
      "text/plain": [
       "   customer_id      first_name  last_name  gender  \\\n",
       "0            1         Laraine  Medendorp  Female   \n",
       "1            2             Eli    Bockman    Male   \n",
       "2            3           Arlin     Dearle    Male   \n",
       "3            4          Talbot     Talbot    Male   \n",
       "4            5  Sheila-kathryn     Calton  Female   \n",
       "\n",
       "   past_3_years_bike_related_purchases        DOB               job_title  \\\n",
       "0                                   93 1953-10-12     Executive Secretary   \n",
       "1                                   81 1980-12-16  Administrative Officer   \n",
       "2                                   61 1954-01-20      Recruiting Manager   \n",
       "3                                   33 1961-10-03      Recruiting Manager   \n",
       "4                                   56 1977-05-13           Senior Editor   \n",
       "\n",
       "  job_industry_category     wealth_segment owns_car  tenure  age  \n",
       "0                Health      Mass Customer      Yes      11   69  \n",
       "1    Financial Services      Mass Customer      Yes      16   42  \n",
       "2              Property      Mass Customer      Yes      15   69  \n",
       "3                    IT      Mass Customer       No       7   61  \n",
       "4                    IT  Affluent Customer      Yes       8   46  "
      ]
     },
     "execution_count": 58,
     "metadata": {},
     "output_type": "execute_result"
    }
   ],
   "source": [
    "df_demographic.head()"
   ]
  },
  {
   "cell_type": "code",
   "execution_count": 59,
   "id": "239f9109-4678-4d0b-ba80-84aa9af0ba7e",
   "metadata": {},
   "outputs": [
    {
     "data": {
      "image/png": "[encoded data removed]",
      "text/plain": [
       "<Figure size 600x400 with 1 Axes>"
      ]
     },
     "metadata": {},
     "output_type": "display_data"
    }
   ],
   "source": [
    "# Create plots of the 'age' column\n",
    "plt.figure(figsize=(6, 4))\n",
    "sns.boxplot(data=df_demographic, y='age')\n",
    "plt.title('Customer Age')\n",
    "plt.xlabel('Age')\n",
    "plt.ylabel('Frequency')\n",
    "plt.show()"
   ]
  },
  {
   "cell_type": "code",
   "execution_count": 60,
   "id": "6f2a7207-552b-4010-9a32-2465faf09a11",
   "metadata": {},
   "outputs": [
    {
     "data": {
      "text/html": [
       "<div>\n",
       "<style scoped>\n",
       "    .dataframe tbody tr th:only-of-type {\n",
       "        vertical-align: middle;\n",
       "    }\n",
       "\n",
       "    .dataframe tbody tr th {\n",
       "        vertical-align: top;\n",
       "    }\n",
       "\n",
       "    .dataframe thead th {\n",
       "        text-align: right;\n",
       "    }\n",
       "</style>\n",
       "<table border=\"1\" class=\"dataframe\">\n",
       "  <thead>\n",
       "    <tr style=\"text-align: right;\">\n",
       "      <th></th>\n",
       "      <th>customer_id</th>\n",
       "      <th>first_name</th>\n",
       "      <th>last_name</th>\n",
       "      <th>gender</th>\n",
       "      <th>age</th>\n",
       "    </tr>\n",
       "  </thead>\n",
       "  <tbody>\n",
       "    <tr>\n",
       "      <th>2413</th>\n",
       "      <td>2414</td>\n",
       "      <td>Basile</td>\n",
       "      <td>Bowlas</td>\n",
       "      <td>Female</td>\n",
       "      <td>80</td>\n",
       "    </tr>\n",
       "    <tr>\n",
       "      <th>3409</th>\n",
       "      <td>3410</td>\n",
       "      <td>Merrili</td>\n",
       "      <td>Brittin</td>\n",
       "      <td>Female</td>\n",
       "      <td>82</td>\n",
       "    </tr>\n",
       "    <tr>\n",
       "      <th>1091</th>\n",
       "      <td>1092</td>\n",
       "      <td>Katlin</td>\n",
       "      <td>Creddon</td>\n",
       "      <td>Female</td>\n",
       "      <td>88</td>\n",
       "    </tr>\n",
       "    <tr>\n",
       "      <th>719</th>\n",
       "      <td>720</td>\n",
       "      <td>Darrel</td>\n",
       "      <td>Canet</td>\n",
       "      <td>Male</td>\n",
       "      <td>91</td>\n",
       "    </tr>\n",
       "    <tr>\n",
       "      <th>33</th>\n",
       "      <td>34</td>\n",
       "      <td>Jephthah</td>\n",
       "      <td>Bachmann</td>\n",
       "      <td>Female</td>\n",
       "      <td>179</td>\n",
       "    </tr>\n",
       "  </tbody>\n",
       "</table>\n",
       "</div>"
      ],
      "text/plain": [
       "      customer_id first_name last_name  gender  age\n",
       "2413         2414     Basile    Bowlas  Female   80\n",
       "3409         3410    Merrili   Brittin  Female   82\n",
       "1091         1092     Katlin   Creddon  Female   88\n",
       "719           720     Darrel     Canet    Male   91\n",
       "33             34   Jephthah  Bachmann  Female  179"
      ]
     },
     "execution_count": 60,
     "metadata": {},
     "output_type": "execute_result"
    }
   ],
   "source": [
    "sorted_df = df_demographic.sort_values(by='age')\n",
    "\n",
    "sorted_df[['customer_id', 'first_name', 'last_name', 'gender', 'age']].tail()"
   ]
  },
  {
   "cell_type": "markdown",
   "id": "f9ed1cbe-4933-421b-b520-773f59d7ce9b",
   "metadata": {},
   "source": [
    "The data indicates that the oldest age belongs to Jephthah Bachmann, who is currently at age 179. It would be wise to verify the accuracy of this customer’s age. For modelling purpose, this particular customer is excluded to remove extreme outlier in the data."
   ]
  },
  {
   "cell_type": "code",
   "execution_count": 61,
   "id": "d8defe7d-89b8-46be-85ed-645bc72b2d84",
   "metadata": {},
   "outputs": [],
   "source": [
    "df_demographic.drop(df_demographic.loc[df_demographic['customer_id'] == 34].index, inplace=True)"
   ]
  },
  {
   "cell_type": "code",
   "execution_count": 62,
   "id": "6f6b9eaa-48b7-4df7-bd9d-8ee549c30f06",
   "metadata": {},
   "outputs": [],
   "source": [
    "column_drop = ['DOB']\n",
    "df_demographic.drop(columns=column_drop, inplace=True)"
   ]
  },
  {
   "cell_type": "markdown",
   "id": "fc31b292-f050-4eb1-9bdc-12aae67bb86d",
   "metadata": {},
   "source": [
    "Almost finished the data cleaning for `Demographic Table`, save a backup data."
   ]
  },
  {
   "cell_type": "code",
   "execution_count": 63,
   "id": "9c08b2fd-e013-4da3-adca-d22b0785a219",
   "metadata": {},
   "outputs": [],
   "source": [
    "df_demographic1 = df_demographic.copy()"
   ]
  },
  {
   "cell_type": "code",
   "execution_count": 64,
   "id": "788a8efa-9e2a-443e-aa08-c43c35dec5ae",
   "metadata": {},
   "outputs": [
    {
     "data": {
      "text/plain": [
       "45    255\n",
       "46    184\n",
       "48    135\n",
       "44    134\n",
       "49    133\n",
       "47    128\n",
       "43    119\n",
       "37    113\n",
       "42    108\n",
       "50    104\n",
       "36     91\n",
       "28     88\n",
       "64     87\n",
       "26     80\n",
       "59     80\n",
       "56     79\n",
       "61     78\n",
       "63     76\n",
       "38     76\n",
       "54     75\n",
       "51     75\n",
       "24     74\n",
       "35     74\n",
       "52     73\n",
       "34     73\n",
       "27     73\n",
       "29     71\n",
       "31     70\n",
       "33     70\n",
       "58     69\n",
       "57     68\n",
       "25     67\n",
       "53     67\n",
       "55     67\n",
       "67     66\n",
       "66     64\n",
       "30     63\n",
       "60     63\n",
       "68     60\n",
       "65     59\n",
       "69     58\n",
       "62     58\n",
       "23     52\n",
       "41     51\n",
       "32     43\n",
       "40     41\n",
       "39     39\n",
       "22     37\n",
       "21     20\n",
       "70      3\n",
       "80      2\n",
       "79      1\n",
       "91      1\n",
       "88      1\n",
       "82      1\n",
       "Name: age, dtype: int64"
      ]
     },
     "execution_count": 64,
     "metadata": {},
     "output_type": "execute_result"
    }
   ],
   "source": [
    "df_demographic['age'].value_counts()"
   ]
  },
  {
   "cell_type": "code",
   "execution_count": 65,
   "id": "c8c5cf5d-dbc5-477b-969e-68448ca8fa75",
   "metadata": {},
   "outputs": [],
   "source": [
    "# Define age class ranges\n",
    "bins = [20, 29, 39, 49, 59, 69, 79, 89, 100]\n",
    "labels = ['20-29', '30-39', '40-49', '50-59', '60-69', '70-79', '80-89', '90-99']\n",
    "\n",
    "# Create 'age_class' column based on age class ranges\n",
    "df_demographic['age_class'] = pd.cut(df_demographic['age'], bins=bins, labels=labels, right=False)"
   ]
  },
  {
   "cell_type": "code",
   "execution_count": 66,
   "id": "fb5e3156-388e-4739-811f-361343f5a022",
   "metadata": {},
   "outputs": [
    {
     "data": {
      "image/png": "[encoded data removed]",
      "text/plain": [
       "<Figure size 400x200 with 1 Axes>"
      ]
     },
     "metadata": {},
     "output_type": "display_data"
    }
   ],
   "source": [
    "bin_value = df_demographic['age_class'].nunique()\n",
    "\n",
    "# Create a histogram of the 'tenure' column\n",
    "plt.figure(figsize=(4, 2))\n",
    "sns.histplot(data=df_demographic, x='age', bins=bin_value,kde=True)\n",
    "plt.title('Distribution of Age')\n",
    "plt.xlabel('Age')\n",
    "plt.ylabel('Frequency')\n",
    "plt.show()"
   ]
  },
  {
   "cell_type": "code",
   "execution_count": 67,
   "id": "561205a0-eb61-481c-8323-2393674fea22",
   "metadata": {},
   "outputs": [],
   "source": [
    "df_demographic[[\"age_class\"]] = df_demographic[[\"age_class\"]].astype(\"object\")"
   ]
  },
  {
   "cell_type": "markdown",
   "id": "560397d2-37db-478c-8749-7c1cf96e1d85",
   "metadata": {},
   "source": [
    "Drop 'age' column as the data already prepared with 'age_class'."
   ]
  },
  {
   "cell_type": "code",
   "execution_count": 68,
   "id": "31948b7d-3f16-4f22-8db1-e1d934454a71",
   "metadata": {},
   "outputs": [],
   "source": [
    "column_drop = ['age']\n",
    "df_demographic.drop(columns=column_drop, inplace=True)"
   ]
  },
  {
   "cell_type": "code",
   "execution_count": 69,
   "id": "eba478f9-9fb8-40c9-90a7-ba5495bc7799",
   "metadata": {},
   "outputs": [
    {
     "data": {
      "text/html": [
       "<div>\n",
       "<style scoped>\n",
       "    .dataframe tbody tr th:only-of-type {\n",
       "        vertical-align: middle;\n",
       "    }\n",
       "\n",
       "    .dataframe tbody tr th {\n",
       "        vertical-align: top;\n",
       "    }\n",
       "\n",
       "    .dataframe thead th {\n",
       "        text-align: right;\n",
       "    }\n",
       "</style>\n",
       "<table border=\"1\" class=\"dataframe\">\n",
       "  <thead>\n",
       "    <tr style=\"text-align: right;\">\n",
       "      <th></th>\n",
       "      <th>customer_id</th>\n",
       "      <th>first_name</th>\n",
       "      <th>last_name</th>\n",
       "      <th>gender</th>\n",
       "      <th>past_3_years_bike_related_purchases</th>\n",
       "      <th>job_title</th>\n",
       "      <th>job_industry_category</th>\n",
       "      <th>wealth_segment</th>\n",
       "      <th>owns_car</th>\n",
       "      <th>tenure</th>\n",
       "      <th>age_class</th>\n",
       "    </tr>\n",
       "  </thead>\n",
       "  <tbody>\n",
       "    <tr>\n",
       "      <th>0</th>\n",
       "      <td>1</td>\n",
       "      <td>Laraine</td>\n",
       "      <td>Medendorp</td>\n",
       "      <td>Female</td>\n",
       "      <td>93</td>\n",
       "      <td>Executive Secretary</td>\n",
       "      <td>Health</td>\n",
       "      <td>Mass Customer</td>\n",
       "      <td>Yes</td>\n",
       "      <td>11</td>\n",
       "      <td>70-79</td>\n",
       "    </tr>\n",
       "    <tr>\n",
       "      <th>1</th>\n",
       "      <td>2</td>\n",
       "      <td>Eli</td>\n",
       "      <td>Bockman</td>\n",
       "      <td>Male</td>\n",
       "      <td>81</td>\n",
       "      <td>Administrative Officer</td>\n",
       "      <td>Financial Services</td>\n",
       "      <td>Mass Customer</td>\n",
       "      <td>Yes</td>\n",
       "      <td>16</td>\n",
       "      <td>40-49</td>\n",
       "    </tr>\n",
       "    <tr>\n",
       "      <th>2</th>\n",
       "      <td>3</td>\n",
       "      <td>Arlin</td>\n",
       "      <td>Dearle</td>\n",
       "      <td>Male</td>\n",
       "      <td>61</td>\n",
       "      <td>Recruiting Manager</td>\n",
       "      <td>Property</td>\n",
       "      <td>Mass Customer</td>\n",
       "      <td>Yes</td>\n",
       "      <td>15</td>\n",
       "      <td>70-79</td>\n",
       "    </tr>\n",
       "    <tr>\n",
       "      <th>3</th>\n",
       "      <td>4</td>\n",
       "      <td>Talbot</td>\n",
       "      <td>Talbot</td>\n",
       "      <td>Male</td>\n",
       "      <td>33</td>\n",
       "      <td>Recruiting Manager</td>\n",
       "      <td>IT</td>\n",
       "      <td>Mass Customer</td>\n",
       "      <td>No</td>\n",
       "      <td>7</td>\n",
       "      <td>60-69</td>\n",
       "    </tr>\n",
       "    <tr>\n",
       "      <th>4</th>\n",
       "      <td>5</td>\n",
       "      <td>Sheila-kathryn</td>\n",
       "      <td>Calton</td>\n",
       "      <td>Female</td>\n",
       "      <td>56</td>\n",
       "      <td>Senior Editor</td>\n",
       "      <td>IT</td>\n",
       "      <td>Affluent Customer</td>\n",
       "      <td>Yes</td>\n",
       "      <td>8</td>\n",
       "      <td>40-49</td>\n",
       "    </tr>\n",
       "  </tbody>\n",
       "</table>\n",
       "</div>"
      ],
      "text/plain": [
       "   customer_id      first_name  last_name  gender  \\\n",
       "0            1         Laraine  Medendorp  Female   \n",
       "1            2             Eli    Bockman    Male   \n",
       "2            3           Arlin     Dearle    Male   \n",
       "3            4          Talbot     Talbot    Male   \n",
       "4            5  Sheila-kathryn     Calton  Female   \n",
       "\n",
       "   past_3_years_bike_related_purchases               job_title  \\\n",
       "0                                   93     Executive Secretary   \n",
       "1                                   81  Administrative Officer   \n",
       "2                                   61      Recruiting Manager   \n",
       "3                                   33      Recruiting Manager   \n",
       "4                                   56           Senior Editor   \n",
       "\n",
       "  job_industry_category     wealth_segment owns_car  tenure age_class  \n",
       "0                Health      Mass Customer      Yes      11     70-79  \n",
       "1    Financial Services      Mass Customer      Yes      16     40-49  \n",
       "2              Property      Mass Customer      Yes      15     70-79  \n",
       "3                    IT      Mass Customer       No       7     60-69  \n",
       "4                    IT  Affluent Customer      Yes       8     40-49  "
      ]
     },
     "execution_count": 69,
     "metadata": {},
     "output_type": "execute_result"
    }
   ],
   "source": [
    "df_demographic.head()"
   ]
  },
  {
   "cell_type": "markdown",
   "id": "12d77e4f-1fb9-4b8d-bcea-40351187a091",
   "metadata": {},
   "source": [
    "## 3.3 Save as CSV"
   ]
  },
  {
   "cell_type": "markdown",
   "id": "913069ef-c0cb-4fc1-8469-5d359e5adc4c",
   "metadata": {},
   "source": [
    "Final check for the data."
   ]
  },
  {
   "cell_type": "code",
   "execution_count": 70,
   "id": "0d7524a0-6681-4b4d-846b-52db44f42986",
   "metadata": {},
   "outputs": [
    {
     "name": "stdout",
     "output_type": "stream",
     "text": [
      "<class 'pandas.core.frame.DataFrame'>\n",
      "Int64Index: 3997 entries, 0 to 3999\n",
      "Data columns (total 11 columns):\n",
      " #   Column                               Non-Null Count  Dtype \n",
      "---  ------                               --------------  ----- \n",
      " 0   customer_id                          3997 non-null   int64 \n",
      " 1   first_name                           3997 non-null   object\n",
      " 2   last_name                            3997 non-null   object\n",
      " 3   gender                               3997 non-null   object\n",
      " 4   past_3_years_bike_related_purchases  3997 non-null   int64 \n",
      " 5   job_title                            3997 non-null   object\n",
      " 6   job_industry_category                3997 non-null   object\n",
      " 7   wealth_segment                       3997 non-null   object\n",
      " 8   owns_car                             3997 non-null   object\n",
      " 9   tenure                               3997 non-null   int64 \n",
      " 10  age_class                            3997 non-null   object\n",
      "dtypes: int64(3), object(8)\n",
      "memory usage: 374.7+ KB\n"
     ]
    }
   ],
   "source": [
    "df_demographic.info()"
   ]
  },
  {
   "cell_type": "code",
   "execution_count": 71,
   "id": "edc59ef5-9c33-4d93-b831-8c1255c13cdf",
   "metadata": {},
   "outputs": [],
   "source": [
    "df_demographic.to_csv('df_demographic_cleaned.csv', index=False)"
   ]
  },
  {
   "cell_type": "markdown",
   "id": "87176cf4-643f-4275-af2b-5fe80175d007",
   "metadata": {},
   "source": [
    "# 4. Transaction Table"
   ]
  },
  {
   "cell_type": "markdown",
   "id": "46da01af-0cea-4d66-be1c-d1ade737a7d2",
   "metadata": {},
   "source": [
    "## 4.1 Data Overview"
   ]
  },
  {
   "cell_type": "code",
   "execution_count": 72,
   "id": "137c0e39-50b7-4028-8f21-a7951d6ec76e",
   "metadata": {},
   "outputs": [],
   "source": [
    "df_transactions1 = df_transactions.copy()"
   ]
  },
  {
   "cell_type": "markdown",
   "id": "3ebb1f72-48a5-4ff2-85b0-4b8785e05c5a",
   "metadata": {},
   "source": [
    "### 4.1.1 Check Header and Info"
   ]
  },
  {
   "cell_type": "code",
   "execution_count": 73,
   "id": "933e3e48-a688-4fa2-9900-1347c273e833",
   "metadata": {},
   "outputs": [
    {
     "data": {
      "text/html": [
       "<div>\n",
       "<style scoped>\n",
       "    .dataframe tbody tr th:only-of-type {\n",
       "        vertical-align: middle;\n",
       "    }\n",
       "\n",
       "    .dataframe tbody tr th {\n",
       "        vertical-align: top;\n",
       "    }\n",
       "\n",
       "    .dataframe thead th {\n",
       "        text-align: right;\n",
       "    }\n",
       "</style>\n",
       "<table border=\"1\" class=\"dataframe\">\n",
       "  <thead>\n",
       "    <tr style=\"text-align: right;\">\n",
       "      <th></th>\n",
       "      <th>transaction_id</th>\n",
       "      <th>product_id</th>\n",
       "      <th>customer_id</th>\n",
       "      <th>transaction_date</th>\n",
       "      <th>online_order</th>\n",
       "      <th>order_status</th>\n",
       "      <th>brand</th>\n",
       "      <th>product_line</th>\n",
       "      <th>product_class</th>\n",
       "      <th>product_size</th>\n",
       "      <th>list_price</th>\n",
       "      <th>standard_cost</th>\n",
       "      <th>product_first_sold_date</th>\n",
       "    </tr>\n",
       "  </thead>\n",
       "  <tbody>\n",
       "    <tr>\n",
       "      <th>0</th>\n",
       "      <td>1</td>\n",
       "      <td>2</td>\n",
       "      <td>2950</td>\n",
       "      <td>2017-02-25</td>\n",
       "      <td>0.0</td>\n",
       "      <td>Approved</td>\n",
       "      <td>Solex</td>\n",
       "      <td>Standard</td>\n",
       "      <td>medium</td>\n",
       "      <td>medium</td>\n",
       "      <td>71.49</td>\n",
       "      <td>53.62</td>\n",
       "      <td>41245.0</td>\n",
       "    </tr>\n",
       "    <tr>\n",
       "      <th>1</th>\n",
       "      <td>2</td>\n",
       "      <td>3</td>\n",
       "      <td>3120</td>\n",
       "      <td>2017-05-21</td>\n",
       "      <td>1.0</td>\n",
       "      <td>Approved</td>\n",
       "      <td>Trek Bicycles</td>\n",
       "      <td>Standard</td>\n",
       "      <td>medium</td>\n",
       "      <td>large</td>\n",
       "      <td>2091.47</td>\n",
       "      <td>388.92</td>\n",
       "      <td>41701.0</td>\n",
       "    </tr>\n",
       "    <tr>\n",
       "      <th>2</th>\n",
       "      <td>3</td>\n",
       "      <td>37</td>\n",
       "      <td>402</td>\n",
       "      <td>2017-10-16</td>\n",
       "      <td>0.0</td>\n",
       "      <td>Approved</td>\n",
       "      <td>OHM Cycles</td>\n",
       "      <td>Standard</td>\n",
       "      <td>low</td>\n",
       "      <td>medium</td>\n",
       "      <td>1793.43</td>\n",
       "      <td>248.82</td>\n",
       "      <td>36361.0</td>\n",
       "    </tr>\n",
       "    <tr>\n",
       "      <th>3</th>\n",
       "      <td>4</td>\n",
       "      <td>88</td>\n",
       "      <td>3135</td>\n",
       "      <td>2017-08-31</td>\n",
       "      <td>0.0</td>\n",
       "      <td>Approved</td>\n",
       "      <td>Norco Bicycles</td>\n",
       "      <td>Standard</td>\n",
       "      <td>medium</td>\n",
       "      <td>medium</td>\n",
       "      <td>1198.46</td>\n",
       "      <td>381.10</td>\n",
       "      <td>36145.0</td>\n",
       "    </tr>\n",
       "    <tr>\n",
       "      <th>4</th>\n",
       "      <td>5</td>\n",
       "      <td>78</td>\n",
       "      <td>787</td>\n",
       "      <td>2017-10-01</td>\n",
       "      <td>1.0</td>\n",
       "      <td>Approved</td>\n",
       "      <td>Giant Bicycles</td>\n",
       "      <td>Standard</td>\n",
       "      <td>medium</td>\n",
       "      <td>large</td>\n",
       "      <td>1765.30</td>\n",
       "      <td>709.48</td>\n",
       "      <td>42226.0</td>\n",
       "    </tr>\n",
       "    <tr>\n",
       "      <th>5</th>\n",
       "      <td>6</td>\n",
       "      <td>25</td>\n",
       "      <td>2339</td>\n",
       "      <td>2017-03-08</td>\n",
       "      <td>1.0</td>\n",
       "      <td>Approved</td>\n",
       "      <td>Giant Bicycles</td>\n",
       "      <td>Road</td>\n",
       "      <td>medium</td>\n",
       "      <td>medium</td>\n",
       "      <td>1538.99</td>\n",
       "      <td>829.65</td>\n",
       "      <td>39031.0</td>\n",
       "    </tr>\n",
       "    <tr>\n",
       "      <th>6</th>\n",
       "      <td>7</td>\n",
       "      <td>22</td>\n",
       "      <td>1542</td>\n",
       "      <td>2017-04-21</td>\n",
       "      <td>1.0</td>\n",
       "      <td>Approved</td>\n",
       "      <td>WeareA2B</td>\n",
       "      <td>Standard</td>\n",
       "      <td>medium</td>\n",
       "      <td>medium</td>\n",
       "      <td>60.34</td>\n",
       "      <td>45.26</td>\n",
       "      <td>34165.0</td>\n",
       "    </tr>\n",
       "    <tr>\n",
       "      <th>7</th>\n",
       "      <td>8</td>\n",
       "      <td>15</td>\n",
       "      <td>2459</td>\n",
       "      <td>2017-07-15</td>\n",
       "      <td>0.0</td>\n",
       "      <td>Approved</td>\n",
       "      <td>WeareA2B</td>\n",
       "      <td>Standard</td>\n",
       "      <td>medium</td>\n",
       "      <td>medium</td>\n",
       "      <td>1292.84</td>\n",
       "      <td>13.44</td>\n",
       "      <td>39915.0</td>\n",
       "    </tr>\n",
       "    <tr>\n",
       "      <th>8</th>\n",
       "      <td>9</td>\n",
       "      <td>67</td>\n",
       "      <td>1305</td>\n",
       "      <td>2017-08-10</td>\n",
       "      <td>0.0</td>\n",
       "      <td>Approved</td>\n",
       "      <td>Solex</td>\n",
       "      <td>Standard</td>\n",
       "      <td>medium</td>\n",
       "      <td>large</td>\n",
       "      <td>1071.23</td>\n",
       "      <td>380.74</td>\n",
       "      <td>33455.0</td>\n",
       "    </tr>\n",
       "    <tr>\n",
       "      <th>9</th>\n",
       "      <td>10</td>\n",
       "      <td>12</td>\n",
       "      <td>3262</td>\n",
       "      <td>2017-08-30</td>\n",
       "      <td>1.0</td>\n",
       "      <td>Approved</td>\n",
       "      <td>WeareA2B</td>\n",
       "      <td>Standard</td>\n",
       "      <td>medium</td>\n",
       "      <td>medium</td>\n",
       "      <td>1231.15</td>\n",
       "      <td>161.60</td>\n",
       "      <td>38216.0</td>\n",
       "    </tr>\n",
       "  </tbody>\n",
       "</table>\n",
       "</div>"
      ],
      "text/plain": [
       "   transaction_id  product_id  customer_id transaction_date  online_order  \\\n",
       "0               1           2         2950       2017-02-25           0.0   \n",
       "1               2           3         3120       2017-05-21           1.0   \n",
       "2               3          37          402       2017-10-16           0.0   \n",
       "3               4          88         3135       2017-08-31           0.0   \n",
       "4               5          78          787       2017-10-01           1.0   \n",
       "5               6          25         2339       2017-03-08           1.0   \n",
       "6               7          22         1542       2017-04-21           1.0   \n",
       "7               8          15         2459       2017-07-15           0.0   \n",
       "8               9          67         1305       2017-08-10           0.0   \n",
       "9              10          12         3262       2017-08-30           1.0   \n",
       "\n",
       "  order_status           brand product_line product_class product_size  \\\n",
       "0     Approved           Solex     Standard        medium       medium   \n",
       "1     Approved   Trek Bicycles     Standard        medium        large   \n",
       "2     Approved      OHM Cycles     Standard           low       medium   \n",
       "3     Approved  Norco Bicycles     Standard        medium       medium   \n",
       "4     Approved  Giant Bicycles     Standard        medium        large   \n",
       "5     Approved  Giant Bicycles         Road        medium       medium   \n",
       "6     Approved        WeareA2B     Standard        medium       medium   \n",
       "7     Approved        WeareA2B     Standard        medium       medium   \n",
       "8     Approved           Solex     Standard        medium        large   \n",
       "9     Approved        WeareA2B     Standard        medium       medium   \n",
       "\n",
       "   list_price  standard_cost  product_first_sold_date  \n",
       "0       71.49          53.62                  41245.0  \n",
       "1     2091.47         388.92                  41701.0  \n",
       "2     1793.43         248.82                  36361.0  \n",
       "3     1198.46         381.10                  36145.0  \n",
       "4     1765.30         709.48                  42226.0  \n",
       "5     1538.99         829.65                  39031.0  \n",
       "6       60.34          45.26                  34165.0  \n",
       "7     1292.84          13.44                  39915.0  \n",
       "8     1071.23         380.74                  33455.0  \n",
       "9     1231.15         161.60                  38216.0  "
      ]
     },
     "execution_count": 73,
     "metadata": {},
     "output_type": "execute_result"
    }
   ],
   "source": [
    "df_transactions.head(10)"
   ]
  },
  {
   "cell_type": "code",
   "execution_count": 74,
   "id": "858b5b90-9c7b-4d4e-8e4b-5abcf5e2f393",
   "metadata": {},
   "outputs": [
    {
     "name": "stdout",
     "output_type": "stream",
     "text": [
      "<class 'pandas.core.frame.DataFrame'>\n",
      "RangeIndex: 20000 entries, 0 to 19999\n",
      "Data columns (total 13 columns):\n",
      " #   Column                   Non-Null Count  Dtype         \n",
      "---  ------                   --------------  -----         \n",
      " 0   transaction_id           20000 non-null  int64         \n",
      " 1   product_id               20000 non-null  int64         \n",
      " 2   customer_id              20000 non-null  int64         \n",
      " 3   transaction_date         20000 non-null  datetime64[ns]\n",
      " 4   online_order             19640 non-null  float64       \n",
      " 5   order_status             20000 non-null  object        \n",
      " 6   brand                    19803 non-null  object        \n",
      " 7   product_line             19803 non-null  object        \n",
      " 8   product_class            19803 non-null  object        \n",
      " 9   product_size             19803 non-null  object        \n",
      " 10  list_price               20000 non-null  float64       \n",
      " 11  standard_cost            19803 non-null  float64       \n",
      " 12  product_first_sold_date  19803 non-null  float64       \n",
      "dtypes: datetime64[ns](1), float64(4), int64(3), object(5)\n",
      "memory usage: 2.0+ MB\n"
     ]
    }
   ],
   "source": [
    "df_transactions.info()"
   ]
  },
  {
   "cell_type": "code",
   "execution_count": 75,
   "id": "ffa268d7-67b7-42ed-a901-7fa669cc481f",
   "metadata": {},
   "outputs": [
    {
     "data": {
      "text/plain": [
       "(20000, 13)"
      ]
     },
     "execution_count": 75,
     "metadata": {},
     "output_type": "execute_result"
    }
   ],
   "source": [
    "df_transactions.shape"
   ]
  },
  {
   "cell_type": "code",
   "execution_count": 76,
   "id": "f1aab0a9-cb57-4ff0-afc0-a5f12f462e18",
   "metadata": {},
   "outputs": [
    {
     "data": {
      "text/plain": [
       "Index(['transaction_id', 'product_id', 'customer_id', 'transaction_date',\n",
       "       'online_order', 'order_status', 'brand', 'product_line',\n",
       "       'product_class', 'product_size', 'list_price', 'standard_cost',\n",
       "       'product_first_sold_date'],\n",
       "      dtype='object')"
      ]
     },
     "execution_count": 76,
     "metadata": {},
     "output_type": "execute_result"
    }
   ],
   "source": [
    "df_transactions.columns"
   ]
  },
  {
   "cell_type": "markdown",
   "id": "5af20c31-8a4a-406d-9ac7-ffc8e9e007b3",
   "metadata": {},
   "source": [
    "### 4.1.2 Check Unique Values"
   ]
  },
  {
   "cell_type": "code",
   "execution_count": 77,
   "id": "dfc5926a-0fc4-4619-977b-39d62cdbfc73",
   "metadata": {},
   "outputs": [
    {
     "name": "stdout",
     "output_type": "stream",
     "text": [
      "Column: transaction_id\n",
      "Unique Values Count: 20000\n",
      "Data Type: int64\n",
      "Unique Values:\n",
      "- 1\n",
      "- 2\n",
      "- 3\n",
      "- 4\n",
      "- 5\n",
      "... and 19995 more unique values\n",
      "------------------------------------------------------------\n",
      "Column: product_id\n",
      "Unique Values Count: 101\n",
      "Data Type: int64\n",
      "Unique Values:\n",
      "- 2\n",
      "- 3\n",
      "- 37\n",
      "- 88\n",
      "- 78\n",
      "... and 96 more unique values\n",
      "------------------------------------------------------------\n",
      "Column: customer_id\n",
      "Unique Values Count: 3494\n",
      "Data Type: int64\n",
      "Unique Values:\n",
      "- 2950\n",
      "- 3120\n",
      "- 402\n",
      "- 3135\n",
      "- 787\n",
      "... and 3489 more unique values\n",
      "------------------------------------------------------------\n",
      "Column: transaction_date\n",
      "Unique Values Count: 364\n",
      "Data Type: datetime64[ns]\n",
      "------------------------------------------------------------\n",
      "Column: online_order\n",
      "Unique Values Count: 2\n",
      "Data Type: float64\n",
      "Unique Values:\n",
      "- 0.0\n",
      "- 1.0\n",
      "- nan\n",
      "------------------------------------------------------------\n",
      "Column: order_status\n",
      "Unique Values Count: 2\n",
      "Data Type: object\n",
      "Unique Values:\n",
      "- Approved\n",
      "- Cancelled\n",
      "------------------------------------------------------------\n",
      "Column: brand\n",
      "Unique Values Count: 6\n",
      "Data Type: object\n",
      "Unique Values:\n",
      "- Solex\n",
      "- Trek Bicycles\n",
      "- OHM Cycles\n",
      "- Norco Bicycles\n",
      "- Giant Bicycles\n",
      "... and 1 more unique values\n",
      "------------------------------------------------------------\n",
      "Column: product_line\n",
      "Unique Values Count: 4\n",
      "Data Type: object\n",
      "Unique Values:\n",
      "- Standard\n",
      "- Road\n",
      "- Mountain\n",
      "- Touring\n",
      "- nan\n",
      "------------------------------------------------------------\n",
      "Column: product_class\n",
      "Unique Values Count: 3\n",
      "Data Type: object\n",
      "Unique Values:\n",
      "- medium\n",
      "- low\n",
      "- high\n",
      "- nan\n",
      "------------------------------------------------------------\n",
      "Column: product_size\n",
      "Unique Values Count: 3\n",
      "Data Type: object\n",
      "Unique Values:\n",
      "- medium\n",
      "- large\n",
      "- small\n",
      "- nan\n",
      "------------------------------------------------------------\n",
      "Column: list_price\n",
      "Unique Values Count: 296\n",
      "Data Type: float64\n",
      "Unique Values:\n",
      "- 71.49\n",
      "- 2091.47\n",
      "- 1793.43\n",
      "- 1198.46\n",
      "- 1765.3\n",
      "... and 291 more unique values\n",
      "------------------------------------------------------------\n",
      "Column: standard_cost\n",
      "Unique Values Count: 103\n",
      "Data Type: float64\n",
      "Unique Values:\n",
      "- 53.62\n",
      "- 388.92\n",
      "- 248.82\n",
      "- 381.1\n",
      "- 709.48\n",
      "... and 98 more unique values\n",
      "------------------------------------------------------------\n",
      "Column: product_first_sold_date\n",
      "Unique Values Count: 100\n",
      "Data Type: float64\n",
      "Unique Values:\n",
      "- 41245.0\n",
      "- 41701.0\n",
      "- 36361.0\n",
      "- 36145.0\n",
      "- 42226.0\n",
      "... and 95 more unique values\n",
      "------------------------------------------------------------\n"
     ]
    }
   ],
   "source": [
    "# Checking unique values in each column\n",
    "analyze_unique_values(df_transactions)"
   ]
  },
  {
   "cell_type": "markdown",
   "id": "4ad3bc05-6efd-4cde-a05a-d7f6571f4f39",
   "metadata": {},
   "source": [
    "### 4.1.3 Check Data Type"
   ]
  },
  {
   "cell_type": "code",
   "execution_count": 78,
   "id": "c3481972-7a5b-4fa3-bf1e-6cd93b6df802",
   "metadata": {},
   "outputs": [
    {
     "name": "stdout",
     "output_type": "stream",
     "text": [
      "Columns with data type int64: transaction_id, product_id, customer_id\n",
      "------------------------------------------------------------\n",
      "Columns with data type datetime64[ns]: transaction_date\n",
      "------------------------------------------------------------\n",
      "Columns with data type float64: online_order, list_price, standard_cost, product_first_sold_date\n",
      "------------------------------------------------------------\n",
      "Columns with data type object: order_status, brand, product_line, product_class, product_size\n",
      "------------------------------------------------------------\n"
     ]
    }
   ],
   "source": [
    "print_columns_by_dtype(df_transactions) "
   ]
  },
  {
   "cell_type": "markdown",
   "id": "e0eed2b8-f47f-47dc-9af8-3f7e2dde88f2",
   "metadata": {},
   "source": [
    "### 4.1.4 Check Missing Values"
   ]
  },
  {
   "cell_type": "code",
   "execution_count": 79,
   "id": "26b1baef-4542-43fe-a087-86266b77ef0a",
   "metadata": {},
   "outputs": [
    {
     "name": "stdout",
     "output_type": "stream",
     "text": [
      "COLUMN | MISSING VALUES PERCENTAGE | MISSING VALUE COUNT\n",
      "-----------------------------------------\n",
      "online_order: 1.80% (360 missing)\n",
      "brand: 0.98% (197 missing)\n",
      "product_line: 0.98% (197 missing)\n",
      "product_class: 0.98% (197 missing)\n",
      "product_size: 0.98% (197 missing)\n",
      "standard_cost: 0.98% (197 missing)\n",
      "product_first_sold_date: 0.98% (197 missing)\n",
      "transaction_id: 0.00% (0 missing)\n",
      "product_id: 0.00% (0 missing)\n",
      "customer_id: 0.00% (0 missing)\n",
      "transaction_date: 0.00% (0 missing)\n",
      "order_status: 0.00% (0 missing)\n",
      "list_price: 0.00% (0 missing)\n",
      "\n",
      "Missing Values Count:\n",
      "transaction_id               0\n",
      "product_id                   0\n",
      "customer_id                  0\n",
      "transaction_date             0\n",
      "online_order               360\n",
      "order_status                 0\n",
      "brand                      197\n",
      "product_line               197\n",
      "product_class              197\n",
      "product_size               197\n",
      "list_price                   0\n",
      "standard_cost              197\n",
      "product_first_sold_date    197\n",
      "dtype: int64\n",
      "\n",
      "Total Missing Values: 1542\n"
     ]
    }
   ],
   "source": [
    "analyze_missing_values(df_transactions)"
   ]
  },
  {
   "cell_type": "markdown",
   "id": "c4e0b20e-27cb-43d4-8562-1c79dfc4bea5",
   "metadata": {},
   "source": [
    "### 4.1.5 Check Types of Data Attributes"
   ]
  },
  {
   "cell_type": "code",
   "execution_count": 80,
   "id": "1852f2a9-b578-4878-a45e-397403cb3cbb",
   "metadata": {},
   "outputs": [
    {
     "name": "stdout",
     "output_type": "stream",
     "text": [
      "Categorical columns: order_status, brand, product_line, product_class, product_size\n",
      "Count: 5\n",
      "\n",
      "Continuous columns: transaction_id, product_id, customer_id, transaction_date, online_order, list_price, standard_cost, product_first_sold_date\n",
      "Count: 8\n",
      "\n"
     ]
    }
   ],
   "source": [
    "analyze_column_types(df_transactions)"
   ]
  },
  {
   "cell_type": "markdown",
   "id": "557f0ca1-99a8-486e-8c1f-760a96030c7e",
   "metadata": {},
   "source": [
    "### 4.1.6 Summary of Data Overview"
   ]
  },
  {
   "cell_type": "markdown",
   "id": "577e5469-706e-4b63-8997-8a55a8bfffbb",
   "metadata": {},
   "source": [
    "The dataset consists of **20000 records** with **13 columns** encompassing both **5 categorical columns** and **8 continuous columns**.\n",
    "\n",
    "**Issues and Resolutions**\n",
    "\n",
    "1. **Addressing Missing Values**: Within the dataset, there are 1542 instances of missing values that necessitate appropriate handling strategies.\n",
    "\n",
    "2. **Correcting Data Types**:\n",
    "   - The 'online_order' column requires a data type correction to integer (Boolean 1, 0).\n",
    "   - The 'product_first_sold_date' column should be adjusted to a datetime format.\n",
    "\n",
    "3. **Managing Cancelled Orders**: Transactions associated with 'cancelled' orders need to be eliminated from the dataset for accuracy."
   ]
  },
  {
   "cell_type": "markdown",
   "id": "c09075fb-7341-40cd-b1d8-095e61e519e4",
   "metadata": {},
   "source": [
    "## 4.2 Data Wrangling"
   ]
  },
  {
   "cell_type": "code",
   "execution_count": 104,
   "id": "1c9903b6-9c21-4f18-a66b-776df130559c",
   "metadata": {},
   "outputs": [],
   "source": [
    "df_transactions1 = df_transactions.copy()"
   ]
  },
  {
   "cell_type": "code",
   "execution_count": 103,
   "id": "32b1852a-f5b0-43df-9fe5-1b563aebed86",
   "metadata": {},
   "outputs": [],
   "source": [
    "#df_transactions = df_transactions1"
   ]
  },
  {
   "cell_type": "markdown",
   "id": "3cbe42d8-d963-409c-9819-37316f21f03e",
   "metadata": {},
   "source": [
    "### 4.2.1 Handling Missing Values"
   ]
  },
  {
   "cell_type": "code",
   "execution_count": 105,
   "id": "323af213-41fb-446c-95c8-cd67321d2a01",
   "metadata": {},
   "outputs": [
    {
     "name": "stdout",
     "output_type": "stream",
     "text": [
      "COLUMN | MISSING VALUES PERCENTAGE | MISSING VALUE COUNT\n",
      "-----------------------------------------\n",
      "online_order: 1.80% (360 missing)\n",
      "brand: 0.98% (197 missing)\n",
      "product_line: 0.98% (197 missing)\n",
      "product_class: 0.98% (197 missing)\n",
      "product_size: 0.98% (197 missing)\n",
      "standard_cost: 0.98% (197 missing)\n",
      "product_first_sold_date: 0.98% (197 missing)\n",
      "transaction_id: 0.00% (0 missing)\n",
      "product_id: 0.00% (0 missing)\n",
      "customer_id: 0.00% (0 missing)\n",
      "transaction_date: 0.00% (0 missing)\n",
      "order_status: 0.00% (0 missing)\n",
      "list_price: 0.00% (0 missing)\n",
      "\n",
      "Missing Values Count:\n",
      "transaction_id               0\n",
      "product_id                   0\n",
      "customer_id                  0\n",
      "transaction_date             0\n",
      "online_order               360\n",
      "order_status                 0\n",
      "brand                      197\n",
      "product_line               197\n",
      "product_class              197\n",
      "product_size               197\n",
      "list_price                   0\n",
      "standard_cost              197\n",
      "product_first_sold_date    197\n",
      "dtype: int64\n",
      "\n",
      "Total Missing Values: 1542\n"
     ]
    }
   ],
   "source": [
    "analyze_missing_values(df_transactions)"
   ]
  },
  {
   "cell_type": "code",
   "execution_count": 106,
   "id": "667adefd-8d05-413d-b012-f2b72e1b8abd",
   "metadata": {},
   "outputs": [
    {
     "data": {
      "text/plain": [
       "<Axes: >"
      ]
     },
     "execution_count": 106,
     "metadata": {},
     "output_type": "execute_result"
    },
    {
     "data": {
      "image/png": "[encoded data removed]",
      "text/plain": [
       "<Figure size 2500x1000 with 2 Axes>"
      ]
     },
     "metadata": {},
     "output_type": "display_data"
    }
   ],
   "source": [
    "msno.matrix(df_transactions)"
   ]
  },
  {
   "cell_type": "markdown",
   "id": "c04a5530-ff01-4499-a938-b37c1855ba6d",
   "metadata": {},
   "source": [
    "Utilizing the `missingno` library, it becomes evident that numerous rows exhibit missing values across columns such as 'brand', 'product_line', 'product_class', 'product_size', 'standard_cost', and 'product_first_sold_date'. Given that the prevalence of missing features within a record is substantial, a decision has been made to eliminate all rows containing these missing values."
   ]
  },
  {
   "cell_type": "markdown",
   "id": "3575a3ac-6baa-4855-9e46-6e9c7089928e",
   "metadata": {},
   "source": [
    "<details>\n",
    "    <summary><strong>'brand', 'product_line', 'product_class', 'product_size', 'standard_cost', 'product_first_sold_date'</strong></summary>\n",
    "\n",
    "Drop all the rows\n",
    "\n",
    "</details>"
   ]
  },
  {
   "cell_type": "code",
   "execution_count": 107,
   "id": "b63007eb-e4fb-4cc4-95f8-475c82433c78",
   "metadata": {},
   "outputs": [],
   "source": [
    "# List rows with missing values in specific columns\n",
    "columns_to_check = ['brand', 'product_line', 'product_class', 'product_size', 'standard_cost', 'product_first_sold_date']\n",
    "missing_rows = df_transactions[df_transactions[columns_to_check].isnull().any(axis=1)]"
   ]
  },
  {
   "cell_type": "code",
   "execution_count": 108,
   "id": "3d5bfd93-5345-4a3e-baeb-ba9f0feae6d2",
   "metadata": {},
   "outputs": [],
   "source": [
    "df_transactions.drop(missing_rows.index, inplace=True)"
   ]
  },
  {
   "cell_type": "markdown",
   "id": "75f0ea73-3a12-4a7b-b827-a83888f7f0cf",
   "metadata": {},
   "source": [
    "<details>\n",
    "    <summary><strong>'online_order'</strong></summary>\n",
    "\n",
    "Replace with the 'mode' of the column.\n",
    "\n",
    "</details>"
   ]
  },
  {
   "cell_type": "code",
   "execution_count": 109,
   "id": "5200a095-2eb5-4cfe-ad25-0ec2a0a68bf9",
   "metadata": {},
   "outputs": [
    {
     "data": {
      "text/plain": [
       "1.0    9739\n",
       "0.0    9706\n",
       "Name: online_order, dtype: int64"
      ]
     },
     "execution_count": 109,
     "metadata": {},
     "output_type": "execute_result"
    }
   ],
   "source": [
    "df_transactions['online_order'].value_counts()"
   ]
  },
  {
   "cell_type": "code",
   "execution_count": 110,
   "id": "d890b358-abef-407e-a8cf-f65e452d6c4a",
   "metadata": {},
   "outputs": [
    {
     "data": {
      "text/plain": [
       "358"
      ]
     },
     "execution_count": 110,
     "metadata": {},
     "output_type": "execute_result"
    }
   ],
   "source": [
    "df_transactions['online_order'].isnull().sum()"
   ]
  },
  {
   "cell_type": "code",
   "execution_count": 111,
   "id": "1aa63dc5-ec75-421f-942b-58333cbd8ffd",
   "metadata": {},
   "outputs": [
    {
     "data": {
      "text/plain": [
       "<Axes: xlabel='online_order', ylabel='count'>"
      ]
     },
     "execution_count": 111,
     "metadata": {},
     "output_type": "execute_result"
    },
    {
     "data": {
      "image/png": "[encoded data removed]",
      "text/plain": [
       "<Figure size 600x400 with 1 Axes>"
      ]
     },
     "metadata": {},
     "output_type": "display_data"
    }
   ],
   "source": [
    "plt.figure(figsize=(6, 4))\n",
    "sns.countplot(data=df_transactions, x='online_order')"
   ]
  },
  {
   "cell_type": "code",
   "execution_count": 112,
   "id": "a8e4e14c-d7d3-4112-be1c-227cd5cf9268",
   "metadata": {},
   "outputs": [],
   "source": [
    "mode_val = df_transactions['online_order'].value_counts().idxmax()"
   ]
  },
  {
   "cell_type": "code",
   "execution_count": 113,
   "id": "169f6c56-b5c3-4232-923e-f103802c5104",
   "metadata": {},
   "outputs": [],
   "source": [
    "df_transactions['online_order'].replace(np.nan, mode_val, inplace=True)"
   ]
  },
  {
   "cell_type": "code",
   "execution_count": 114,
   "id": "59f82b2c-ad6c-4251-befb-4ca374ee9799",
   "metadata": {},
   "outputs": [
    {
     "data": {
      "text/plain": [
       "1.0    10097\n",
       "0.0     9706\n",
       "Name: online_order, dtype: int64"
      ]
     },
     "execution_count": 114,
     "metadata": {},
     "output_type": "execute_result"
    }
   ],
   "source": [
    "df_transactions['online_order'].value_counts()"
   ]
  },
  {
   "cell_type": "code",
   "execution_count": 116,
   "id": "47d60594-045c-4ebe-a07a-4491bd10c905",
   "metadata": {},
   "outputs": [
    {
     "name": "stdout",
     "output_type": "stream",
     "text": [
      "COLUMN | MISSING VALUES PERCENTAGE | MISSING VALUE COUNT\n",
      "-----------------------------------------\n",
      "transaction_id: 0.00% (0 missing)\n",
      "product_id: 0.00% (0 missing)\n",
      "customer_id: 0.00% (0 missing)\n",
      "transaction_date: 0.00% (0 missing)\n",
      "online_order: 0.00% (0 missing)\n",
      "order_status: 0.00% (0 missing)\n",
      "brand: 0.00% (0 missing)\n",
      "product_line: 0.00% (0 missing)\n",
      "product_class: 0.00% (0 missing)\n",
      "product_size: 0.00% (0 missing)\n",
      "list_price: 0.00% (0 missing)\n",
      "standard_cost: 0.00% (0 missing)\n",
      "product_first_sold_date: 0.00% (0 missing)\n",
      "\n",
      "Missing Values Count:\n",
      "transaction_id             0\n",
      "product_id                 0\n",
      "customer_id                0\n",
      "transaction_date           0\n",
      "online_order               0\n",
      "order_status               0\n",
      "brand                      0\n",
      "product_line               0\n",
      "product_class              0\n",
      "product_size               0\n",
      "list_price                 0\n",
      "standard_cost              0\n",
      "product_first_sold_date    0\n",
      "dtype: int64\n",
      "\n",
      "Total Missing Values: 0\n"
     ]
    }
   ],
   "source": [
    "analyze_missing_values(df_transactions)"
   ]
  },
  {
   "cell_type": "markdown",
   "id": "77c81456-d02d-4bfd-8cec-e5a0b1bd8195",
   "metadata": {},
   "source": [
    "### 4.2.2 Identify Duplicate"
   ]
  },
  {
   "cell_type": "code",
   "execution_count": 117,
   "id": "d1378ccc-c7cb-4fca-aa3e-e19a2764c127",
   "metadata": {},
   "outputs": [
    {
     "data": {
      "text/plain": [
       "transaction_id             0.0\n",
       "product_id                 0.0\n",
       "customer_id                0.0\n",
       "online_order               0.0\n",
       "order_status               0.0\n",
       "brand                      0.0\n",
       "product_line               0.0\n",
       "product_class              0.0\n",
       "product_size               0.0\n",
       "list_price                 0.0\n",
       "standard_cost              0.0\n",
       "product_first_sold_date    0.0\n",
       "dtype: float64"
      ]
     },
     "execution_count": 117,
     "metadata": {},
     "output_type": "execute_result"
    }
   ],
   "source": [
    "dups = df_transactions.duplicated()\n",
    "df_transactions[dups].sum()"
   ]
  },
  {
   "cell_type": "markdown",
   "id": "e1959ecc-7642-4384-b368-1231a0eb3be7",
   "metadata": {},
   "source": [
    "The data appears to be free of duplicate values, which is a good."
   ]
  },
  {
   "cell_type": "markdown",
   "id": "8381b598-8f35-458d-bd5f-892e9972460e",
   "metadata": {},
   "source": [
    "### 4.2.3 Data Formatting"
   ]
  },
  {
   "cell_type": "markdown",
   "id": "6622ef6e-feeb-4abb-a2a1-fe9b2c6cc22a",
   "metadata": {},
   "source": [
    "<details>\n",
    "    <summary><strong>'online_order'</strong></summary>\n",
    "\n",
    "\"float64\" to \"int64\"\n",
    "\n",
    "</details>"
   ]
  },
  {
   "cell_type": "code",
   "execution_count": 119,
   "id": "6238e1e9-797a-4641-99a8-04523dc9ab04",
   "metadata": {},
   "outputs": [],
   "source": [
    "df_transactions['online_order'] = df_transactions['online_order'].astype(\"int64\")"
   ]
  },
  {
   "cell_type": "markdown",
   "id": "0d49e479-81f9-4caa-8c5f-b583c2ef650a",
   "metadata": {},
   "source": [
    "<details>\n",
    "    <summary><strong>'product_first_sold_date'</strong></summary>\n",
    "\n",
    "\"float64\" to \"datetime\"\n",
    "\n",
    "</details>"
   ]
  },
  {
   "cell_type": "code",
   "execution_count": 125,
   "id": "2598e124-c1f0-4eed-96ef-01b73a623774",
   "metadata": {},
   "outputs": [],
   "source": [
    "df_transactions['product_first_sold_date'] = pd.to_datetime(df_transactions['product_first_sold_date'], unit='D', origin=pd.Timestamp('1900-01-01'))"
   ]
  },
  {
   "cell_type": "code",
   "execution_count": 127,
   "id": "6f057ef2-717d-4d6a-8297-6cd7f61c94f5",
   "metadata": {},
   "outputs": [
    {
     "data": {
      "text/html": [
       "<div>\n",
       "<style scoped>\n",
       "    .dataframe tbody tr th:only-of-type {\n",
       "        vertical-align: middle;\n",
       "    }\n",
       "\n",
       "    .dataframe tbody tr th {\n",
       "        vertical-align: top;\n",
       "    }\n",
       "\n",
       "    .dataframe thead th {\n",
       "        text-align: right;\n",
       "    }\n",
       "</style>\n",
       "<table border=\"1\" class=\"dataframe\">\n",
       "  <thead>\n",
       "    <tr style=\"text-align: right;\">\n",
       "      <th></th>\n",
       "      <th>transaction_id</th>\n",
       "      <th>product_id</th>\n",
       "      <th>customer_id</th>\n",
       "      <th>transaction_date</th>\n",
       "      <th>online_order</th>\n",
       "      <th>order_status</th>\n",
       "      <th>brand</th>\n",
       "      <th>product_line</th>\n",
       "      <th>product_class</th>\n",
       "      <th>product_size</th>\n",
       "      <th>list_price</th>\n",
       "      <th>standard_cost</th>\n",
       "      <th>product_first_sold_date</th>\n",
       "    </tr>\n",
       "  </thead>\n",
       "  <tbody>\n",
       "    <tr>\n",
       "      <th>0</th>\n",
       "      <td>1</td>\n",
       "      <td>2</td>\n",
       "      <td>2950</td>\n",
       "      <td>2017-02-25</td>\n",
       "      <td>0</td>\n",
       "      <td>Approved</td>\n",
       "      <td>Solex</td>\n",
       "      <td>Standard</td>\n",
       "      <td>medium</td>\n",
       "      <td>medium</td>\n",
       "      <td>71.49</td>\n",
       "      <td>53.62</td>\n",
       "      <td>2012-12-04</td>\n",
       "    </tr>\n",
       "    <tr>\n",
       "      <th>1</th>\n",
       "      <td>2</td>\n",
       "      <td>3</td>\n",
       "      <td>3120</td>\n",
       "      <td>2017-05-21</td>\n",
       "      <td>1</td>\n",
       "      <td>Approved</td>\n",
       "      <td>Trek Bicycles</td>\n",
       "      <td>Standard</td>\n",
       "      <td>medium</td>\n",
       "      <td>large</td>\n",
       "      <td>2091.47</td>\n",
       "      <td>388.92</td>\n",
       "      <td>2014-03-05</td>\n",
       "    </tr>\n",
       "    <tr>\n",
       "      <th>2</th>\n",
       "      <td>3</td>\n",
       "      <td>37</td>\n",
       "      <td>402</td>\n",
       "      <td>2017-10-16</td>\n",
       "      <td>0</td>\n",
       "      <td>Approved</td>\n",
       "      <td>OHM Cycles</td>\n",
       "      <td>Standard</td>\n",
       "      <td>low</td>\n",
       "      <td>medium</td>\n",
       "      <td>1793.43</td>\n",
       "      <td>248.82</td>\n",
       "      <td>1999-07-22</td>\n",
       "    </tr>\n",
       "    <tr>\n",
       "      <th>3</th>\n",
       "      <td>4</td>\n",
       "      <td>88</td>\n",
       "      <td>3135</td>\n",
       "      <td>2017-08-31</td>\n",
       "      <td>0</td>\n",
       "      <td>Approved</td>\n",
       "      <td>Norco Bicycles</td>\n",
       "      <td>Standard</td>\n",
       "      <td>medium</td>\n",
       "      <td>medium</td>\n",
       "      <td>1198.46</td>\n",
       "      <td>381.10</td>\n",
       "      <td>1998-12-18</td>\n",
       "    </tr>\n",
       "    <tr>\n",
       "      <th>4</th>\n",
       "      <td>5</td>\n",
       "      <td>78</td>\n",
       "      <td>787</td>\n",
       "      <td>2017-10-01</td>\n",
       "      <td>1</td>\n",
       "      <td>Approved</td>\n",
       "      <td>Giant Bicycles</td>\n",
       "      <td>Standard</td>\n",
       "      <td>medium</td>\n",
       "      <td>large</td>\n",
       "      <td>1765.30</td>\n",
       "      <td>709.48</td>\n",
       "      <td>2015-08-12</td>\n",
       "    </tr>\n",
       "    <tr>\n",
       "      <th>5</th>\n",
       "      <td>6</td>\n",
       "      <td>25</td>\n",
       "      <td>2339</td>\n",
       "      <td>2017-03-08</td>\n",
       "      <td>1</td>\n",
       "      <td>Approved</td>\n",
       "      <td>Giant Bicycles</td>\n",
       "      <td>Road</td>\n",
       "      <td>medium</td>\n",
       "      <td>medium</td>\n",
       "      <td>1538.99</td>\n",
       "      <td>829.65</td>\n",
       "      <td>2006-11-12</td>\n",
       "    </tr>\n",
       "    <tr>\n",
       "      <th>6</th>\n",
       "      <td>7</td>\n",
       "      <td>22</td>\n",
       "      <td>1542</td>\n",
       "      <td>2017-04-21</td>\n",
       "      <td>1</td>\n",
       "      <td>Approved</td>\n",
       "      <td>WeareA2B</td>\n",
       "      <td>Standard</td>\n",
       "      <td>medium</td>\n",
       "      <td>medium</td>\n",
       "      <td>60.34</td>\n",
       "      <td>45.26</td>\n",
       "      <td>1993-07-17</td>\n",
       "    </tr>\n",
       "    <tr>\n",
       "      <th>7</th>\n",
       "      <td>8</td>\n",
       "      <td>15</td>\n",
       "      <td>2459</td>\n",
       "      <td>2017-07-15</td>\n",
       "      <td>0</td>\n",
       "      <td>Approved</td>\n",
       "      <td>WeareA2B</td>\n",
       "      <td>Standard</td>\n",
       "      <td>medium</td>\n",
       "      <td>medium</td>\n",
       "      <td>1292.84</td>\n",
       "      <td>13.44</td>\n",
       "      <td>2009-04-14</td>\n",
       "    </tr>\n",
       "    <tr>\n",
       "      <th>8</th>\n",
       "      <td>9</td>\n",
       "      <td>67</td>\n",
       "      <td>1305</td>\n",
       "      <td>2017-08-10</td>\n",
       "      <td>0</td>\n",
       "      <td>Approved</td>\n",
       "      <td>Solex</td>\n",
       "      <td>Standard</td>\n",
       "      <td>medium</td>\n",
       "      <td>large</td>\n",
       "      <td>1071.23</td>\n",
       "      <td>380.74</td>\n",
       "      <td>1991-08-07</td>\n",
       "    </tr>\n",
       "    <tr>\n",
       "      <th>9</th>\n",
       "      <td>10</td>\n",
       "      <td>12</td>\n",
       "      <td>3262</td>\n",
       "      <td>2017-08-30</td>\n",
       "      <td>1</td>\n",
       "      <td>Approved</td>\n",
       "      <td>WeareA2B</td>\n",
       "      <td>Standard</td>\n",
       "      <td>medium</td>\n",
       "      <td>medium</td>\n",
       "      <td>1231.15</td>\n",
       "      <td>161.60</td>\n",
       "      <td>2004-08-19</td>\n",
       "    </tr>\n",
       "    <tr>\n",
       "      <th>10</th>\n",
       "      <td>11</td>\n",
       "      <td>5</td>\n",
       "      <td>1986</td>\n",
       "      <td>2017-01-17</td>\n",
       "      <td>0</td>\n",
       "      <td>Approved</td>\n",
       "      <td>Trek Bicycles</td>\n",
       "      <td>Mountain</td>\n",
       "      <td>low</td>\n",
       "      <td>medium</td>\n",
       "      <td>574.64</td>\n",
       "      <td>459.71</td>\n",
       "      <td>2011-08-31</td>\n",
       "    </tr>\n",
       "    <tr>\n",
       "      <th>11</th>\n",
       "      <td>12</td>\n",
       "      <td>61</td>\n",
       "      <td>2783</td>\n",
       "      <td>2017-01-05</td>\n",
       "      <td>1</td>\n",
       "      <td>Approved</td>\n",
       "      <td>OHM Cycles</td>\n",
       "      <td>Standard</td>\n",
       "      <td>low</td>\n",
       "      <td>medium</td>\n",
       "      <td>71.16</td>\n",
       "      <td>56.93</td>\n",
       "      <td>2015-06-19</td>\n",
       "    </tr>\n",
       "    <tr>\n",
       "      <th>12</th>\n",
       "      <td>13</td>\n",
       "      <td>35</td>\n",
       "      <td>1243</td>\n",
       "      <td>2017-02-26</td>\n",
       "      <td>1</td>\n",
       "      <td>Approved</td>\n",
       "      <td>Trek Bicycles</td>\n",
       "      <td>Standard</td>\n",
       "      <td>low</td>\n",
       "      <td>medium</td>\n",
       "      <td>1057.51</td>\n",
       "      <td>154.40</td>\n",
       "      <td>1994-07-14</td>\n",
       "    </tr>\n",
       "    <tr>\n",
       "      <th>13</th>\n",
       "      <td>14</td>\n",
       "      <td>16</td>\n",
       "      <td>2717</td>\n",
       "      <td>2017-09-10</td>\n",
       "      <td>0</td>\n",
       "      <td>Approved</td>\n",
       "      <td>Norco Bicycles</td>\n",
       "      <td>Standard</td>\n",
       "      <td>high</td>\n",
       "      <td>small</td>\n",
       "      <td>1661.92</td>\n",
       "      <td>1479.11</td>\n",
       "      <td>1994-09-11</td>\n",
       "    </tr>\n",
       "    <tr>\n",
       "      <th>14</th>\n",
       "      <td>15</td>\n",
       "      <td>12</td>\n",
       "      <td>247</td>\n",
       "      <td>2017-06-11</td>\n",
       "      <td>0</td>\n",
       "      <td>Approved</td>\n",
       "      <td>Giant Bicycles</td>\n",
       "      <td>Standard</td>\n",
       "      <td>medium</td>\n",
       "      <td>large</td>\n",
       "      <td>1765.30</td>\n",
       "      <td>709.48</td>\n",
       "      <td>2004-07-27</td>\n",
       "    </tr>\n",
       "  </tbody>\n",
       "</table>\n",
       "</div>"
      ],
      "text/plain": [
       "    transaction_id  product_id  customer_id transaction_date  online_order  \\\n",
       "0                1           2         2950       2017-02-25             0   \n",
       "1                2           3         3120       2017-05-21             1   \n",
       "2                3          37          402       2017-10-16             0   \n",
       "3                4          88         3135       2017-08-31             0   \n",
       "4                5          78          787       2017-10-01             1   \n",
       "5                6          25         2339       2017-03-08             1   \n",
       "6                7          22         1542       2017-04-21             1   \n",
       "7                8          15         2459       2017-07-15             0   \n",
       "8                9          67         1305       2017-08-10             0   \n",
       "9               10          12         3262       2017-08-30             1   \n",
       "10              11           5         1986       2017-01-17             0   \n",
       "11              12          61         2783       2017-01-05             1   \n",
       "12              13          35         1243       2017-02-26             1   \n",
       "13              14          16         2717       2017-09-10             0   \n",
       "14              15          12          247       2017-06-11             0   \n",
       "\n",
       "   order_status           brand product_line product_class product_size  \\\n",
       "0      Approved           Solex     Standard        medium       medium   \n",
       "1      Approved   Trek Bicycles     Standard        medium        large   \n",
       "2      Approved      OHM Cycles     Standard           low       medium   \n",
       "3      Approved  Norco Bicycles     Standard        medium       medium   \n",
       "4      Approved  Giant Bicycles     Standard        medium        large   \n",
       "5      Approved  Giant Bicycles         Road        medium       medium   \n",
       "6      Approved        WeareA2B     Standard        medium       medium   \n",
       "7      Approved        WeareA2B     Standard        medium       medium   \n",
       "8      Approved           Solex     Standard        medium        large   \n",
       "9      Approved        WeareA2B     Standard        medium       medium   \n",
       "10     Approved   Trek Bicycles     Mountain           low       medium   \n",
       "11     Approved      OHM Cycles     Standard           low       medium   \n",
       "12     Approved   Trek Bicycles     Standard           low       medium   \n",
       "13     Approved  Norco Bicycles     Standard          high        small   \n",
       "14     Approved  Giant Bicycles     Standard        medium        large   \n",
       "\n",
       "    list_price  standard_cost product_first_sold_date  \n",
       "0        71.49          53.62              2012-12-04  \n",
       "1      2091.47         388.92              2014-03-05  \n",
       "2      1793.43         248.82              1999-07-22  \n",
       "3      1198.46         381.10              1998-12-18  \n",
       "4      1765.30         709.48              2015-08-12  \n",
       "5      1538.99         829.65              2006-11-12  \n",
       "6        60.34          45.26              1993-07-17  \n",
       "7      1292.84          13.44              2009-04-14  \n",
       "8      1071.23         380.74              1991-08-07  \n",
       "9      1231.15         161.60              2004-08-19  \n",
       "10      574.64         459.71              2011-08-31  \n",
       "11       71.16          56.93              2015-06-19  \n",
       "12     1057.51         154.40              1994-07-14  \n",
       "13     1661.92        1479.11              1994-09-11  \n",
       "14     1765.30         709.48              2004-07-27  "
      ]
     },
     "execution_count": 127,
     "metadata": {},
     "output_type": "execute_result"
    }
   ],
   "source": [
    "df_transactions.head(15)"
   ]
  },
  {
   "cell_type": "markdown",
   "id": "3fb90a9b-a67b-4810-9f0b-d7da50f32483",
   "metadata": {},
   "source": [
    "### 4.2.4 Handling Inconsistencies"
   ]
  },
  {
   "cell_type": "code",
   "execution_count": 128,
   "id": "99aef16f-230d-4ca0-976d-88ba69de9135",
   "metadata": {},
   "outputs": [
    {
     "data": {
      "text/plain": [
       "Approved     19625\n",
       "Cancelled      178\n",
       "Name: order_status, dtype: int64"
      ]
     },
     "execution_count": 128,
     "metadata": {},
     "output_type": "execute_result"
    }
   ],
   "source": [
    "df_transactions['order_status'].value_counts()"
   ]
  },
  {
   "cell_type": "code",
   "execution_count": 132,
   "id": "eb498662-ba3e-435b-9793-7355601657c4",
   "metadata": {},
   "outputs": [],
   "source": [
    "df_transactions.drop(df_transactions.loc[df_transactions['order_status'] == 'Cancelled'].index , inplace=True)"
   ]
  },
  {
   "cell_type": "code",
   "execution_count": 133,
   "id": "55d60bce-f45b-4c9b-9fc8-10d34069ec18",
   "metadata": {},
   "outputs": [
    {
     "data": {
      "text/plain": [
       "Approved    19625\n",
       "Name: order_status, dtype: int64"
      ]
     },
     "execution_count": 133,
     "metadata": {},
     "output_type": "execute_result"
    }
   ],
   "source": [
    "df_transactions['order_status'].value_counts()"
   ]
  },
  {
   "cell_type": "markdown",
   "id": "13f40e2d-365b-42b0-9fe5-2e96fea9efc7",
   "metadata": {},
   "source": [
    "Drop 'order_status' as the customers in dataset already prepared with \"Approved\" for 'order_status'."
   ]
  },
  {
   "cell_type": "code",
   "execution_count": 136,
   "id": "b48284a0-26b8-419b-8c56-93af12bf92a1",
   "metadata": {},
   "outputs": [],
   "source": [
    "column_drop = ['order_status']\n",
    "df_transactions.drop(columns=column_drop, inplace=True)"
   ]
  },
  {
   "cell_type": "markdown",
   "id": "e719068b-a44b-499a-a32a-36b3efcc6916",
   "metadata": {},
   "source": [
    "## 4.3 Save as CSV"
   ]
  },
  {
   "cell_type": "code",
   "execution_count": 137,
   "id": "18904756-585e-4125-a6e1-ebeab49aecc5",
   "metadata": {},
   "outputs": [
    {
     "name": "stdout",
     "output_type": "stream",
     "text": [
      "<class 'pandas.core.frame.DataFrame'>\n",
      "Int64Index: 19625 entries, 0 to 19999\n",
      "Data columns (total 12 columns):\n",
      " #   Column                   Non-Null Count  Dtype         \n",
      "---  ------                   --------------  -----         \n",
      " 0   transaction_id           19625 non-null  int64         \n",
      " 1   product_id               19625 non-null  int64         \n",
      " 2   customer_id              19625 non-null  int64         \n",
      " 3   transaction_date         19625 non-null  datetime64[ns]\n",
      " 4   online_order             19625 non-null  int64         \n",
      " 5   brand                    19625 non-null  object        \n",
      " 6   product_line             19625 non-null  object        \n",
      " 7   product_class            19625 non-null  object        \n",
      " 8   product_size             19625 non-null  object        \n",
      " 9   list_price               19625 non-null  float64       \n",
      " 10  standard_cost            19625 non-null  float64       \n",
      " 11  product_first_sold_date  19625 non-null  datetime64[ns]\n",
      "dtypes: datetime64[ns](2), float64(2), int64(4), object(4)\n",
      "memory usage: 1.9+ MB\n"
     ]
    }
   ],
   "source": [
    "df_transactions.info()"
   ]
  },
  {
   "cell_type": "code",
   "execution_count": 138,
   "id": "fc0e6239-a009-4d21-8204-828debba98bc",
   "metadata": {},
   "outputs": [
    {
     "name": "stdout",
     "output_type": "stream",
     "text": [
      "Column: transaction_id\n",
      "Unique Values Count: 19625\n",
      "Data Type: int64\n",
      "Unique Values:\n",
      "- 1\n",
      "- 2\n",
      "- 3\n",
      "- 4\n",
      "- 5\n",
      "... and 19620 more unique values\n",
      "------------------------------------------------------------\n",
      "Column: product_id\n",
      "Unique Values Count: 101\n",
      "Data Type: int64\n",
      "Unique Values:\n",
      "- 2\n",
      "- 3\n",
      "- 37\n",
      "- 88\n",
      "- 78\n",
      "... and 96 more unique values\n",
      "------------------------------------------------------------\n",
      "Column: customer_id\n",
      "Unique Values Count: 3493\n",
      "Data Type: int64\n",
      "Unique Values:\n",
      "- 2950\n",
      "- 3120\n",
      "- 402\n",
      "- 3135\n",
      "- 787\n",
      "... and 3488 more unique values\n",
      "------------------------------------------------------------\n",
      "Column: transaction_date\n",
      "Unique Values Count: 364\n",
      "Data Type: datetime64[ns]\n",
      "------------------------------------------------------------\n",
      "Column: online_order\n",
      "Unique Values Count: 2\n",
      "Data Type: int64\n",
      "Unique Values:\n",
      "- 0\n",
      "- 1\n",
      "------------------------------------------------------------\n",
      "Column: brand\n",
      "Unique Values Count: 6\n",
      "Data Type: object\n",
      "Unique Values:\n",
      "- Solex\n",
      "- Trek Bicycles\n",
      "- OHM Cycles\n",
      "- Norco Bicycles\n",
      "- Giant Bicycles\n",
      "... and 1 more unique values\n",
      "------------------------------------------------------------\n",
      "Column: product_line\n",
      "Unique Values Count: 4\n",
      "Data Type: object\n",
      "Unique Values:\n",
      "- Standard\n",
      "- Road\n",
      "- Mountain\n",
      "- Touring\n",
      "------------------------------------------------------------\n",
      "Column: product_class\n",
      "Unique Values Count: 3\n",
      "Data Type: object\n",
      "Unique Values:\n",
      "- medium\n",
      "- low\n",
      "- high\n",
      "------------------------------------------------------------\n",
      "Column: product_size\n",
      "Unique Values Count: 3\n",
      "Data Type: object\n",
      "Unique Values:\n",
      "- medium\n",
      "- large\n",
      "- small\n",
      "------------------------------------------------------------\n",
      "Column: list_price\n",
      "Unique Values Count: 100\n",
      "Data Type: float64\n",
      "Unique Values:\n",
      "- 71.49\n",
      "- 2091.47\n",
      "- 1793.43\n",
      "- 1198.46\n",
      "- 1765.3\n",
      "... and 95 more unique values\n",
      "------------------------------------------------------------\n",
      "Column: standard_cost\n",
      "Unique Values Count: 103\n",
      "Data Type: float64\n",
      "Unique Values:\n",
      "- 53.62\n",
      "- 388.92\n",
      "- 248.82\n",
      "- 381.1\n",
      "- 709.48\n",
      "... and 98 more unique values\n",
      "------------------------------------------------------------\n",
      "Column: product_first_sold_date\n",
      "Unique Values Count: 100\n",
      "Data Type: datetime64[ns]\n",
      "------------------------------------------------------------\n"
     ]
    }
   ],
   "source": [
    "# Checking unique values in each column\n",
    "analyze_unique_values(df_transactions)"
   ]
  },
  {
   "cell_type": "code",
   "execution_count": 139,
   "id": "69524dd8-b034-411b-8fe2-2c6cbc070c76",
   "metadata": {},
   "outputs": [],
   "source": [
    "df_transactions.to_csv('df_transactions_cleaned.csv', index=False)"
   ]
  },
  {
   "cell_type": "markdown",
   "id": "776807a8-b253-48d0-a5ba-d995f85966a1",
   "metadata": {},
   "source": [
    "# 5. Address Table"
   ]
  },
  {
   "cell_type": "markdown",
   "id": "c2b350ab-36a2-4f97-90e2-fa4f09583d82",
   "metadata": {},
   "source": [
    "# 5.1 Data Overview"
   ]
  },
  {
   "cell_type": "markdown",
   "id": "1f53c616-085c-4946-89da-08947f33b056",
   "metadata": {},
   "source": [
    "### 5.1.1 Check Header and Info"
   ]
  },
  {
   "cell_type": "code",
   "execution_count": 140,
   "id": "49f95e8b-aa09-4875-a512-61ad0bb56cdd",
   "metadata": {},
   "outputs": [
    {
     "data": {
      "text/html": [
       "<div>\n",
       "<style scoped>\n",
       "    .dataframe tbody tr th:only-of-type {\n",
       "        vertical-align: middle;\n",
       "    }\n",
       "\n",
       "    .dataframe tbody tr th {\n",
       "        vertical-align: top;\n",
       "    }\n",
       "\n",
       "    .dataframe thead th {\n",
       "        text-align: right;\n",
       "    }\n",
       "</style>\n",
       "<table border=\"1\" class=\"dataframe\">\n",
       "  <thead>\n",
       "    <tr style=\"text-align: right;\">\n",
       "      <th></th>\n",
       "      <th>customer_id</th>\n",
       "      <th>address</th>\n",
       "      <th>postcode</th>\n",
       "      <th>state</th>\n",
       "      <th>country</th>\n",
       "      <th>property_valuation</th>\n",
       "    </tr>\n",
       "  </thead>\n",
       "  <tbody>\n",
       "    <tr>\n",
       "      <th>0</th>\n",
       "      <td>1</td>\n",
       "      <td>060 Morning Avenue</td>\n",
       "      <td>2016</td>\n",
       "      <td>New South Wales</td>\n",
       "      <td>Australia</td>\n",
       "      <td>10</td>\n",
       "    </tr>\n",
       "    <tr>\n",
       "      <th>1</th>\n",
       "      <td>2</td>\n",
       "      <td>6 Meadow Vale Court</td>\n",
       "      <td>2153</td>\n",
       "      <td>New South Wales</td>\n",
       "      <td>Australia</td>\n",
       "      <td>10</td>\n",
       "    </tr>\n",
       "    <tr>\n",
       "      <th>2</th>\n",
       "      <td>4</td>\n",
       "      <td>0 Holy Cross Court</td>\n",
       "      <td>4211</td>\n",
       "      <td>QLD</td>\n",
       "      <td>Australia</td>\n",
       "      <td>9</td>\n",
       "    </tr>\n",
       "    <tr>\n",
       "      <th>3</th>\n",
       "      <td>5</td>\n",
       "      <td>17979 Del Mar Point</td>\n",
       "      <td>2448</td>\n",
       "      <td>New South Wales</td>\n",
       "      <td>Australia</td>\n",
       "      <td>4</td>\n",
       "    </tr>\n",
       "    <tr>\n",
       "      <th>4</th>\n",
       "      <td>6</td>\n",
       "      <td>9 Oakridge Court</td>\n",
       "      <td>3216</td>\n",
       "      <td>VIC</td>\n",
       "      <td>Australia</td>\n",
       "      <td>9</td>\n",
       "    </tr>\n",
       "  </tbody>\n",
       "</table>\n",
       "</div>"
      ],
      "text/plain": [
       "   customer_id              address  postcode            state    country  \\\n",
       "0            1   060 Morning Avenue      2016  New South Wales  Australia   \n",
       "1            2  6 Meadow Vale Court      2153  New South Wales  Australia   \n",
       "2            4   0 Holy Cross Court      4211              QLD  Australia   \n",
       "3            5  17979 Del Mar Point      2448  New South Wales  Australia   \n",
       "4            6     9 Oakridge Court      3216              VIC  Australia   \n",
       "\n",
       "   property_valuation  \n",
       "0                  10  \n",
       "1                  10  \n",
       "2                   9  \n",
       "3                   4  \n",
       "4                   9  "
      ]
     },
     "execution_count": 140,
     "metadata": {},
     "output_type": "execute_result"
    }
   ],
   "source": [
    "df_address.head()"
   ]
  },
  {
   "cell_type": "code",
   "execution_count": 141,
   "id": "5105328c-d71e-4506-8c7e-0ef76fb705b6",
   "metadata": {},
   "outputs": [
    {
     "name": "stdout",
     "output_type": "stream",
     "text": [
      "<class 'pandas.core.frame.DataFrame'>\n",
      "RangeIndex: 3999 entries, 0 to 3998\n",
      "Data columns (total 6 columns):\n",
      " #   Column              Non-Null Count  Dtype \n",
      "---  ------              --------------  ----- \n",
      " 0   customer_id         3999 non-null   int64 \n",
      " 1   address             3999 non-null   object\n",
      " 2   postcode            3999 non-null   int64 \n",
      " 3   state               3999 non-null   object\n",
      " 4   country             3999 non-null   object\n",
      " 5   property_valuation  3999 non-null   int64 \n",
      "dtypes: int64(3), object(3)\n",
      "memory usage: 187.6+ KB\n"
     ]
    }
   ],
   "source": [
    "df_address.info()"
   ]
  },
  {
   "cell_type": "code",
   "execution_count": 142,
   "id": "668d2ba0-e446-43c3-ad87-a44fcb1550de",
   "metadata": {},
   "outputs": [
    {
     "data": {
      "text/plain": [
       "(3999, 6)"
      ]
     },
     "execution_count": 142,
     "metadata": {},
     "output_type": "execute_result"
    }
   ],
   "source": [
    "df_address.shape"
   ]
  },
  {
   "cell_type": "code",
   "execution_count": 143,
   "id": "c2628125-bf21-4396-90a9-d30f6a525703",
   "metadata": {},
   "outputs": [
    {
     "data": {
      "text/plain": [
       "Index(['customer_id', 'address', 'postcode', 'state', 'country',\n",
       "       'property_valuation'],\n",
       "      dtype='object')"
      ]
     },
     "execution_count": 143,
     "metadata": {},
     "output_type": "execute_result"
    }
   ],
   "source": [
    "df_address.columns"
   ]
  },
  {
   "cell_type": "markdown",
   "id": "d39616ce-ed2d-4c86-823f-5d3c1137adab",
   "metadata": {},
   "source": [
    "### 5.1.2 Check Unique Values"
   ]
  },
  {
   "cell_type": "code",
   "execution_count": 144,
   "id": "55d3c75c-4498-45e2-9c40-c2fd32bfcd23",
   "metadata": {},
   "outputs": [
    {
     "name": "stdout",
     "output_type": "stream",
     "text": [
      "Column: customer_id\n",
      "Unique Values Count: 3999\n",
      "Data Type: int64\n",
      "Unique Values:\n",
      "- 1\n",
      "- 2\n",
      "- 4\n",
      "- 5\n",
      "- 6\n",
      "... and 3994 more unique values\n",
      "------------------------------------------------------------\n",
      "Column: address\n",
      "Unique Values Count: 3996\n",
      "Data Type: object\n",
      "Unique Values:\n",
      "- 060 Morning Avenue\n",
      "- 6 Meadow Vale Court\n",
      "- 0 Holy Cross Court\n",
      "- 17979 Del Mar Point\n",
      "- 9 Oakridge Court\n",
      "... and 3991 more unique values\n",
      "------------------------------------------------------------\n",
      "Column: postcode\n",
      "Unique Values Count: 873\n",
      "Data Type: int64\n",
      "Unique Values:\n",
      "- 2016\n",
      "- 2153\n",
      "- 4211\n",
      "- 2448\n",
      "- 3216\n",
      "... and 868 more unique values\n",
      "------------------------------------------------------------\n",
      "Column: state\n",
      "Unique Values Count: 5\n",
      "Data Type: object\n",
      "Unique Values:\n",
      "- New South Wales\n",
      "- QLD\n",
      "- VIC\n",
      "- NSW\n",
      "- Victoria\n",
      "------------------------------------------------------------\n",
      "Column: country\n",
      "Unique Values Count: 1\n",
      "Data Type: object\n",
      "Unique Values:\n",
      "- Australia\n",
      "------------------------------------------------------------\n",
      "Column: property_valuation\n",
      "Unique Values Count: 12\n",
      "Data Type: int64\n",
      "Unique Values:\n",
      "- 10\n",
      "- 9\n",
      "- 4\n",
      "- 12\n",
      "- 8\n",
      "... and 7 more unique values\n",
      "------------------------------------------------------------\n"
     ]
    }
   ],
   "source": [
    "# Checking unique values in each column\n",
    "analyze_unique_values(df_address)"
   ]
  },
  {
   "cell_type": "markdown",
   "id": "6b97d754-521f-4511-b2b9-94c026b428a3",
   "metadata": {},
   "source": [
    "### 5.1.3 Check Data Type"
   ]
  },
  {
   "cell_type": "code",
   "execution_count": 145,
   "id": "adf95d90-4020-4261-8a34-1967d17cd531",
   "metadata": {},
   "outputs": [
    {
     "name": "stdout",
     "output_type": "stream",
     "text": [
      "Columns with data type int64: customer_id, postcode, property_valuation\n",
      "------------------------------------------------------------\n",
      "Columns with data type object: address, state, country\n",
      "------------------------------------------------------------\n"
     ]
    }
   ],
   "source": [
    "print_columns_by_dtype(df_address) "
   ]
  },
  {
   "cell_type": "markdown",
   "id": "a5516793-abc8-469b-a537-399476a136a2",
   "metadata": {},
   "source": [
    "### 5.1.4 Check Missing Values"
   ]
  },
  {
   "cell_type": "code",
   "execution_count": 147,
   "id": "461045cb-4603-476d-8406-85b95cfe5ad3",
   "metadata": {},
   "outputs": [
    {
     "name": "stdout",
     "output_type": "stream",
     "text": [
      "COLUMN | MISSING VALUES PERCENTAGE | MISSING VALUE COUNT\n",
      "-----------------------------------------\n",
      "customer_id: 0.00% (0 missing)\n",
      "address: 0.00% (0 missing)\n",
      "postcode: 0.00% (0 missing)\n",
      "state: 0.00% (0 missing)\n",
      "country: 0.00% (0 missing)\n",
      "property_valuation: 0.00% (0 missing)\n",
      "\n",
      "Missing Values Count:\n",
      "customer_id           0\n",
      "address               0\n",
      "postcode              0\n",
      "state                 0\n",
      "country               0\n",
      "property_valuation    0\n",
      "dtype: int64\n",
      "\n",
      "Total Missing Values: 0\n"
     ]
    }
   ],
   "source": [
    "analyze_missing_values(df_address)"
   ]
  },
  {
   "cell_type": "markdown",
   "id": "7171be35-d6e5-4f3b-a3a4-6bff9d36b374",
   "metadata": {},
   "source": [
    "### 5.1.5 Check Types of Data Attributes"
   ]
  },
  {
   "cell_type": "code",
   "execution_count": 146,
   "id": "bd399f2c-42b0-454b-ab6a-da417ba6ad9f",
   "metadata": {},
   "outputs": [
    {
     "name": "stdout",
     "output_type": "stream",
     "text": [
      "Categorical columns: state, country\n",
      "Count: 2\n",
      "\n",
      "Continuous columns: customer_id, address, postcode, property_valuation\n",
      "Count: 4\n",
      "\n"
     ]
    }
   ],
   "source": [
    "analyze_column_types(df_address)"
   ]
  },
  {
   "cell_type": "markdown",
   "id": "9c12134d-8d8f-40c6-8c87-a1547a86518f",
   "metadata": {},
   "source": [
    "### 5.1.6 Summary of Data Overview"
   ]
  },
  {
   "cell_type": "markdown",
   "id": "fa617a59-c222-4572-8f10-820686d1443c",
   "metadata": {},
   "source": [
    "The dataset consists of **3999 records** with **6 columns** encompassing both **2 categorical columns** and **4 continuous columns**.\n",
    "\n",
    "**Issues and Resolutions**\n",
    "\n",
    "1. **Inconsistent Values in 'state' Column**: The 'state' column contains inconsistent values that need to be addressed to ensure data integrity."
   ]
  },
  {
   "cell_type": "markdown",
   "id": "2152986d-33bd-473a-ac4a-c58b0721eeed",
   "metadata": {},
   "source": [
    "## 5.2 Data Wrangling"
   ]
  },
  {
   "cell_type": "code",
   "execution_count": 148,
   "id": "0082ecbf-f33d-4fbb-9ed1-f8e1be684a62",
   "metadata": {},
   "outputs": [],
   "source": [
    "df_address1 = df_address.copy()"
   ]
  },
  {
   "cell_type": "markdown",
   "id": "95880447-faeb-4465-9e17-83bc7b13099a",
   "metadata": {},
   "source": [
    "### 5.2.1 Identify Duplicate"
   ]
  },
  {
   "cell_type": "code",
   "execution_count": 149,
   "id": "ad14c084-ba2d-4c64-90c6-55d538bd6830",
   "metadata": {},
   "outputs": [
    {
     "data": {
      "text/plain": [
       "customer_id           0.0\n",
       "address               0.0\n",
       "postcode              0.0\n",
       "state                 0.0\n",
       "country               0.0\n",
       "property_valuation    0.0\n",
       "dtype: float64"
      ]
     },
     "execution_count": 149,
     "metadata": {},
     "output_type": "execute_result"
    }
   ],
   "source": [
    "dups = df_address.duplicated()\n",
    "df_address[dups].sum()"
   ]
  },
  {
   "cell_type": "markdown",
   "id": "1ecc3bb8-bc36-48e1-9035-2821cda08b74",
   "metadata": {},
   "source": [
    "### 5.2.2 Handling Inconsistencies"
   ]
  },
  {
   "cell_type": "code",
   "execution_count": 152,
   "id": "c2038da8-816a-4722-81a7-fa4cc9303a17",
   "metadata": {},
   "outputs": [
    {
     "data": {
      "text/plain": [
       "NSW                2054\n",
       "VIC                 939\n",
       "QLD                 838\n",
       "New South Wales      86\n",
       "Victoria             82\n",
       "Name: state, dtype: int64"
      ]
     },
     "execution_count": 152,
     "metadata": {},
     "output_type": "execute_result"
    }
   ],
   "source": [
    "df_address['state'].value_counts()"
   ]
  },
  {
   "cell_type": "code",
   "execution_count": 153,
   "id": "b7c431b6-3c4e-4087-b027-30301c2e42e6",
   "metadata": {},
   "outputs": [],
   "source": [
    "df_address['state'].replace({'New South Wales': 'NSW', 'Victoria': 'VIC'}, inplace=True)"
   ]
  },
  {
   "cell_type": "code",
   "execution_count": 154,
   "id": "32464833-a621-46a7-ada5-b97cf39f81a8",
   "metadata": {},
   "outputs": [
    {
     "data": {
      "text/plain": [
       "NSW    2140\n",
       "VIC    1021\n",
       "QLD     838\n",
       "Name: state, dtype: int64"
      ]
     },
     "execution_count": 154,
     "metadata": {},
     "output_type": "execute_result"
    }
   ],
   "source": [
    "df_address['state'].value_counts()"
   ]
  },
  {
   "cell_type": "markdown",
   "id": "d9d1f02d-761b-4540-b9d5-025e012cdd07",
   "metadata": {},
   "source": [
    "## 5.3 Save as CSV"
   ]
  },
  {
   "cell_type": "code",
   "execution_count": 155,
   "id": "e71032a5-5c6c-4aaa-8aa7-f1f932f0df40",
   "metadata": {},
   "outputs": [
    {
     "name": "stdout",
     "output_type": "stream",
     "text": [
      "<class 'pandas.core.frame.DataFrame'>\n",
      "RangeIndex: 3999 entries, 0 to 3998\n",
      "Data columns (total 6 columns):\n",
      " #   Column              Non-Null Count  Dtype \n",
      "---  ------              --------------  ----- \n",
      " 0   customer_id         3999 non-null   int64 \n",
      " 1   address             3999 non-null   object\n",
      " 2   postcode            3999 non-null   int64 \n",
      " 3   state               3999 non-null   object\n",
      " 4   country             3999 non-null   object\n",
      " 5   property_valuation  3999 non-null   int64 \n",
      "dtypes: int64(3), object(3)\n",
      "memory usage: 187.6+ KB\n"
     ]
    }
   ],
   "source": [
    "df_address.info()"
   ]
  },
  {
   "cell_type": "code",
   "execution_count": 156,
   "id": "8f488f99-c0e1-47cc-bf55-ecf64d184231",
   "metadata": {},
   "outputs": [
    {
     "name": "stdout",
     "output_type": "stream",
     "text": [
      "Column: customer_id\n",
      "Unique Values Count: 3999\n",
      "Data Type: int64\n",
      "Unique Values:\n",
      "- 1\n",
      "- 2\n",
      "- 4\n",
      "- 5\n",
      "- 6\n",
      "... and 3994 more unique values\n",
      "------------------------------------------------------------\n",
      "Column: address\n",
      "Unique Values Count: 3996\n",
      "Data Type: object\n",
      "Unique Values:\n",
      "- 060 Morning Avenue\n",
      "- 6 Meadow Vale Court\n",
      "- 0 Holy Cross Court\n",
      "- 17979 Del Mar Point\n",
      "- 9 Oakridge Court\n",
      "... and 3991 more unique values\n",
      "------------------------------------------------------------\n",
      "Column: postcode\n",
      "Unique Values Count: 873\n",
      "Data Type: int64\n",
      "Unique Values:\n",
      "- 2016\n",
      "- 2153\n",
      "- 4211\n",
      "- 2448\n",
      "- 3216\n",
      "... and 868 more unique values\n",
      "------------------------------------------------------------\n",
      "Column: state\n",
      "Unique Values Count: 3\n",
      "Data Type: object\n",
      "Unique Values:\n",
      "- NSW\n",
      "- QLD\n",
      "- VIC\n",
      "------------------------------------------------------------\n",
      "Column: country\n",
      "Unique Values Count: 1\n",
      "Data Type: object\n",
      "Unique Values:\n",
      "- Australia\n",
      "------------------------------------------------------------\n",
      "Column: property_valuation\n",
      "Unique Values Count: 12\n",
      "Data Type: int64\n",
      "Unique Values:\n",
      "- 10\n",
      "- 9\n",
      "- 4\n",
      "- 12\n",
      "- 8\n",
      "... and 7 more unique values\n",
      "------------------------------------------------------------\n"
     ]
    }
   ],
   "source": [
    "# Checking unique values in each column\n",
    "analyze_unique_values(df_address)"
   ]
  },
  {
   "cell_type": "code",
   "execution_count": 157,
   "id": "87a3cd3c-1782-42f3-9be6-9b5e79c8d524",
   "metadata": {},
   "outputs": [],
   "source": [
    "df_address.to_csv('df_address_cleaned.csv', index=False)"
   ]
  }
 ],
 "metadata": {
  "kernelspec": {
   "display_name": "Python 3 (ipykernel)",
   "language": "python",
   "name": "python3"
  },
  "language_info": {
   "codemirror_mode": {
    "name": "ipython",
    "version": 3
   },
   "file_extension": ".py",
   "mimetype": "text/x-python",
   "name": "python",
   "nbconvert_exporter": "python",
   "pygments_lexer": "ipython3",
   "version": "3.10.9"
  }
 },
 "nbformat": 4,
 "nbformat_minor": 5
}
