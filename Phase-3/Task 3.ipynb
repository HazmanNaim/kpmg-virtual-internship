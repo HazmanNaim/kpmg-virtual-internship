{
 "cells": [
  {
   "cell_type": "markdown",
   "id": "0fd967d5-ad74-462c-af25-adae9df61fad",
   "metadata": {},
   "source": [
    "# Import Libraries and Packages"
   ]
  },
  {
   "cell_type": "code",
   "execution_count": 2,
   "id": "f528ad4f-d6d6-4cd9-b3d8-c496785e3900",
   "metadata": {},
   "outputs": [],
   "source": [
    "import matplotlib.pyplot as plt\n",
    "import numpy as np\n",
    "import pandas as pd\n",
    "import seaborn as sns\n",
    "import warnings\n",
    "warnings.filterwarnings(\"ignore\")"
   ]
  },
  {
   "cell_type": "markdown",
   "id": "48f0cc37-5b65-46a9-b822-c06d2efdf717",
   "metadata": {},
   "source": [
    "# Data Preparation"
   ]
  },
  {
   "cell_type": "code",
   "execution_count": 5,
   "id": "692b5a96-47f8-4a54-9d5a-082ca6dce64b",
   "metadata": {},
   "outputs": [],
   "source": [
    "file = 'KPMG_VI_New_raw_data_update_final.xlsx'\n",
    "sheet_name = 'NewCustomerList'\n",
    "df = pd.read_excel(file, sheet_name, skiprows=1)"
   ]
  },
  {
   "cell_type": "code",
   "execution_count": 6,
   "id": "228e6843-71e8-4954-85d7-39f77862a8c5",
   "metadata": {},
   "outputs": [
    {
     "data": {
      "text/html": [
       "<div>\n",
       "<style scoped>\n",
       "    .dataframe tbody tr th:only-of-type {\n",
       "        vertical-align: middle;\n",
       "    }\n",
       "\n",
       "    .dataframe tbody tr th {\n",
       "        vertical-align: top;\n",
       "    }\n",
       "\n",
       "    .dataframe thead th {\n",
       "        text-align: right;\n",
       "    }\n",
       "</style>\n",
       "<table border=\"1\" class=\"dataframe\">\n",
       "  <thead>\n",
       "    <tr style=\"text-align: right;\">\n",
       "      <th></th>\n",
       "      <th>first_name</th>\n",
       "      <th>last_name</th>\n",
       "      <th>gender</th>\n",
       "      <th>past_3_years_bike_related_purchases</th>\n",
       "      <th>DOB</th>\n",
       "      <th>job_title</th>\n",
       "      <th>job_industry_category</th>\n",
       "      <th>wealth_segment</th>\n",
       "      <th>deceased_indicator</th>\n",
       "      <th>owns_car</th>\n",
       "      <th>...</th>\n",
       "      <th>state</th>\n",
       "      <th>country</th>\n",
       "      <th>property_valuation</th>\n",
       "      <th>Unnamed: 16</th>\n",
       "      <th>Unnamed: 17</th>\n",
       "      <th>Unnamed: 18</th>\n",
       "      <th>Unnamed: 19</th>\n",
       "      <th>Unnamed: 20</th>\n",
       "      <th>Rank</th>\n",
       "      <th>Value</th>\n",
       "    </tr>\n",
       "  </thead>\n",
       "  <tbody>\n",
       "    <tr>\n",
       "      <th>0</th>\n",
       "      <td>Chickie</td>\n",
       "      <td>Brister</td>\n",
       "      <td>Male</td>\n",
       "      <td>86</td>\n",
       "      <td>1957-07-12</td>\n",
       "      <td>General Manager</td>\n",
       "      <td>Manufacturing</td>\n",
       "      <td>Mass Customer</td>\n",
       "      <td>N</td>\n",
       "      <td>Yes</td>\n",
       "      <td>...</td>\n",
       "      <td>QLD</td>\n",
       "      <td>Australia</td>\n",
       "      <td>6</td>\n",
       "      <td>0.56</td>\n",
       "      <td>0.7000</td>\n",
       "      <td>0.8750</td>\n",
       "      <td>0.743750</td>\n",
       "      <td>1</td>\n",
       "      <td>1</td>\n",
       "      <td>1.718750</td>\n",
       "    </tr>\n",
       "    <tr>\n",
       "      <th>1</th>\n",
       "      <td>Morly</td>\n",
       "      <td>Genery</td>\n",
       "      <td>Male</td>\n",
       "      <td>69</td>\n",
       "      <td>1970-03-22</td>\n",
       "      <td>Structural Engineer</td>\n",
       "      <td>Property</td>\n",
       "      <td>Mass Customer</td>\n",
       "      <td>N</td>\n",
       "      <td>No</td>\n",
       "      <td>...</td>\n",
       "      <td>NSW</td>\n",
       "      <td>Australia</td>\n",
       "      <td>11</td>\n",
       "      <td>0.89</td>\n",
       "      <td>0.8900</td>\n",
       "      <td>1.1125</td>\n",
       "      <td>0.945625</td>\n",
       "      <td>1</td>\n",
       "      <td>1</td>\n",
       "      <td>1.718750</td>\n",
       "    </tr>\n",
       "    <tr>\n",
       "      <th>2</th>\n",
       "      <td>Ardelis</td>\n",
       "      <td>Forrester</td>\n",
       "      <td>Female</td>\n",
       "      <td>10</td>\n",
       "      <td>1974-08-28</td>\n",
       "      <td>Senior Cost Accountant</td>\n",
       "      <td>Financial Services</td>\n",
       "      <td>Affluent Customer</td>\n",
       "      <td>N</td>\n",
       "      <td>No</td>\n",
       "      <td>...</td>\n",
       "      <td>VIC</td>\n",
       "      <td>Australia</td>\n",
       "      <td>5</td>\n",
       "      <td>1.01</td>\n",
       "      <td>1.0100</td>\n",
       "      <td>1.0100</td>\n",
       "      <td>1.010000</td>\n",
       "      <td>1</td>\n",
       "      <td>1</td>\n",
       "      <td>1.718750</td>\n",
       "    </tr>\n",
       "    <tr>\n",
       "      <th>3</th>\n",
       "      <td>Lucine</td>\n",
       "      <td>Stutt</td>\n",
       "      <td>Female</td>\n",
       "      <td>64</td>\n",
       "      <td>1979-01-28</td>\n",
       "      <td>Account Representative III</td>\n",
       "      <td>Manufacturing</td>\n",
       "      <td>Affluent Customer</td>\n",
       "      <td>N</td>\n",
       "      <td>Yes</td>\n",
       "      <td>...</td>\n",
       "      <td>QLD</td>\n",
       "      <td>Australia</td>\n",
       "      <td>1</td>\n",
       "      <td>0.87</td>\n",
       "      <td>1.0875</td>\n",
       "      <td>1.0875</td>\n",
       "      <td>1.087500</td>\n",
       "      <td>4</td>\n",
       "      <td>4</td>\n",
       "      <td>1.703125</td>\n",
       "    </tr>\n",
       "    <tr>\n",
       "      <th>4</th>\n",
       "      <td>Melinda</td>\n",
       "      <td>Hadlee</td>\n",
       "      <td>Female</td>\n",
       "      <td>34</td>\n",
       "      <td>1965-09-21</td>\n",
       "      <td>Financial Analyst</td>\n",
       "      <td>Financial Services</td>\n",
       "      <td>Affluent Customer</td>\n",
       "      <td>N</td>\n",
       "      <td>No</td>\n",
       "      <td>...</td>\n",
       "      <td>NSW</td>\n",
       "      <td>Australia</td>\n",
       "      <td>9</td>\n",
       "      <td>0.52</td>\n",
       "      <td>0.5200</td>\n",
       "      <td>0.6500</td>\n",
       "      <td>0.650000</td>\n",
       "      <td>4</td>\n",
       "      <td>4</td>\n",
       "      <td>1.703125</td>\n",
       "    </tr>\n",
       "  </tbody>\n",
       "</table>\n",
       "<p>5 rows × 23 columns</p>\n",
       "</div>"
      ],
      "text/plain": [
       "  first_name  last_name  gender  past_3_years_bike_related_purchases  \\\n",
       "0    Chickie    Brister    Male                                   86   \n",
       "1      Morly     Genery    Male                                   69   \n",
       "2    Ardelis  Forrester  Female                                   10   \n",
       "3     Lucine      Stutt  Female                                   64   \n",
       "4    Melinda     Hadlee  Female                                   34   \n",
       "\n",
       "         DOB                   job_title job_industry_category  \\\n",
       "0 1957-07-12             General Manager         Manufacturing   \n",
       "1 1970-03-22         Structural Engineer              Property   \n",
       "2 1974-08-28      Senior Cost Accountant    Financial Services   \n",
       "3 1979-01-28  Account Representative III         Manufacturing   \n",
       "4 1965-09-21           Financial Analyst    Financial Services   \n",
       "\n",
       "      wealth_segment deceased_indicator owns_car  ...  state    country  \\\n",
       "0      Mass Customer                  N      Yes  ...    QLD  Australia   \n",
       "1      Mass Customer                  N       No  ...    NSW  Australia   \n",
       "2  Affluent Customer                  N       No  ...    VIC  Australia   \n",
       "3  Affluent Customer                  N      Yes  ...    QLD  Australia   \n",
       "4  Affluent Customer                  N       No  ...    NSW  Australia   \n",
       "\n",
       "   property_valuation Unnamed: 16 Unnamed: 17  Unnamed: 18  Unnamed: 19  \\\n",
       "0                   6        0.56      0.7000       0.8750     0.743750   \n",
       "1                  11        0.89      0.8900       1.1125     0.945625   \n",
       "2                   5        1.01      1.0100       1.0100     1.010000   \n",
       "3                   1        0.87      1.0875       1.0875     1.087500   \n",
       "4                   9        0.52      0.5200       0.6500     0.650000   \n",
       "\n",
       "   Unnamed: 20  Rank     Value  \n",
       "0            1     1  1.718750  \n",
       "1            1     1  1.718750  \n",
       "2            1     1  1.718750  \n",
       "3            4     4  1.703125  \n",
       "4            4     4  1.703125  \n",
       "\n",
       "[5 rows x 23 columns]"
      ]
     },
     "execution_count": 6,
     "metadata": {},
     "output_type": "execute_result"
    }
   ],
   "source": [
    "df.head()"
   ]
  },
  {
   "cell_type": "markdown",
   "id": "17c5782d-367c-4208-8ac8-81c642b39fb9",
   "metadata": {},
   "source": [
    "# Exploratory Data Analysis"
   ]
  },
  {
   "cell_type": "markdown",
   "id": "0d35d816-82bd-4486-9d4f-0b51549cbd7e",
   "metadata": {},
   "source": [
    "## Data Cleaning"
   ]
  },
  {
   "cell_type": "markdown",
   "id": "a9ba19a6-7d4f-4fc5-8af7-ccee45fab764",
   "metadata": {},
   "source": [
    "### Drop Columns"
   ]
  },
  {
   "cell_type": "code",
   "execution_count": 8,
   "id": "cb8228ac-3404-4752-8d2e-6a863bd8b5a4",
   "metadata": {},
   "outputs": [
    {
     "name": "stdout",
     "output_type": "stream",
     "text": [
      "<class 'pandas.core.frame.DataFrame'>\n",
      "RangeIndex: 1000 entries, 0 to 999\n",
      "Data columns (total 23 columns):\n",
      " #   Column                               Non-Null Count  Dtype         \n",
      "---  ------                               --------------  -----         \n",
      " 0   first_name                           1000 non-null   object        \n",
      " 1   last_name                            971 non-null    object        \n",
      " 2   gender                               1000 non-null   object        \n",
      " 3   past_3_years_bike_related_purchases  1000 non-null   int64         \n",
      " 4   DOB                                  983 non-null    datetime64[ns]\n",
      " 5   job_title                            894 non-null    object        \n",
      " 6   job_industry_category                835 non-null    object        \n",
      " 7   wealth_segment                       1000 non-null   object        \n",
      " 8   deceased_indicator                   1000 non-null   object        \n",
      " 9   owns_car                             1000 non-null   object        \n",
      " 10  tenure                               1000 non-null   int64         \n",
      " 11  address                              1000 non-null   object        \n",
      " 12  postcode                             1000 non-null   int64         \n",
      " 13  state                                1000 non-null   object        \n",
      " 14  country                              1000 non-null   object        \n",
      " 15  property_valuation                   1000 non-null   int64         \n",
      " 16  Unnamed: 16                          1000 non-null   float64       \n",
      " 17  Unnamed: 17                          1000 non-null   float64       \n",
      " 18  Unnamed: 18                          1000 non-null   float64       \n",
      " 19  Unnamed: 19                          1000 non-null   float64       \n",
      " 20  Unnamed: 20                          1000 non-null   int64         \n",
      " 21  Rank                                 1000 non-null   int64         \n",
      " 22  Value                                1000 non-null   float64       \n",
      "dtypes: datetime64[ns](1), float64(5), int64(6), object(11)\n",
      "memory usage: 179.8+ KB\n"
     ]
    }
   ],
   "source": [
    "df.info()"
   ]
  },
  {
   "cell_type": "code",
   "execution_count": 11,
   "id": "5a37c7cc-74e7-4533-be32-4bd602216e68",
   "metadata": {},
   "outputs": [],
   "source": [
    "column_drop = ['Unnamed: 16', 'Unnamed: 17', 'Unnamed: 18', 'Unnamed: 19', 'Unnamed: 20']                        \n",
    "df.drop(column_drop, axis=1, inplace=True)"
   ]
  },
  {
   "cell_type": "code",
   "execution_count": 12,
   "id": "3a59c3d6-0dde-4662-b3fa-41cebf80a942",
   "metadata": {},
   "outputs": [
    {
     "name": "stdout",
     "output_type": "stream",
     "text": [
      "<class 'pandas.core.frame.DataFrame'>\n",
      "RangeIndex: 1000 entries, 0 to 999\n",
      "Data columns (total 18 columns):\n",
      " #   Column                               Non-Null Count  Dtype         \n",
      "---  ------                               --------------  -----         \n",
      " 0   first_name                           1000 non-null   object        \n",
      " 1   last_name                            971 non-null    object        \n",
      " 2   gender                               1000 non-null   object        \n",
      " 3   past_3_years_bike_related_purchases  1000 non-null   int64         \n",
      " 4   DOB                                  983 non-null    datetime64[ns]\n",
      " 5   job_title                            894 non-null    object        \n",
      " 6   job_industry_category                835 non-null    object        \n",
      " 7   wealth_segment                       1000 non-null   object        \n",
      " 8   deceased_indicator                   1000 non-null   object        \n",
      " 9   owns_car                             1000 non-null   object        \n",
      " 10  tenure                               1000 non-null   int64         \n",
      " 11  address                              1000 non-null   object        \n",
      " 12  postcode                             1000 non-null   int64         \n",
      " 13  state                                1000 non-null   object        \n",
      " 14  country                              1000 non-null   object        \n",
      " 15  property_valuation                   1000 non-null   int64         \n",
      " 16  Rank                                 1000 non-null   int64         \n",
      " 17  Value                                1000 non-null   float64       \n",
      "dtypes: datetime64[ns](1), float64(1), int64(5), object(11)\n",
      "memory usage: 140.8+ KB\n"
     ]
    }
   ],
   "source": [
    "df.info()"
   ]
  },
  {
   "cell_type": "markdown",
   "id": "fa9d1ba1-62e9-47eb-bd0c-30ba767266fb",
   "metadata": {},
   "source": [
    "### Missing Values"
   ]
  },
  {
   "cell_type": "code",
   "execution_count": 13,
   "id": "adc9f680-08c4-40c4-a376-d39c5807ae2b",
   "metadata": {},
   "outputs": [
    {
     "data": {
      "text/plain": [
       "first_name                               0\n",
       "last_name                               29\n",
       "gender                                   0\n",
       "past_3_years_bike_related_purchases      0\n",
       "DOB                                     17\n",
       "job_title                              106\n",
       "job_industry_category                  165\n",
       "wealth_segment                           0\n",
       "deceased_indicator                       0\n",
       "owns_car                                 0\n",
       "tenure                                   0\n",
       "address                                  0\n",
       "postcode                                 0\n",
       "state                                    0\n",
       "country                                  0\n",
       "property_valuation                       0\n",
       "Rank                                     0\n",
       "Value                                    0\n",
       "dtype: int64"
      ]
     },
     "execution_count": 13,
     "metadata": {},
     "output_type": "execute_result"
    }
   ],
   "source": [
    "df.isnull().sum()"
   ]
  },
  {
   "cell_type": "code",
   "execution_count": 14,
   "id": "981b7eb6-c22e-41f6-b6bd-b826b3fc27e1",
   "metadata": {},
   "outputs": [],
   "source": [
    "# Replace missing last names with corresponding first names\n",
    "df.loc[df['last_name'].isnull(), 'last_name'] = df['first_name']"
   ]
  },
  {
   "cell_type": "code",
   "execution_count": 15,
   "id": "33083a7e-ca78-4a8a-92ba-f13f2517ccd8",
   "metadata": {},
   "outputs": [
    {
     "data": {
      "text/plain": [
       "0"
      ]
     },
     "execution_count": 15,
     "metadata": {},
     "output_type": "execute_result"
    }
   ],
   "source": [
    "df['last_name'].isnull().sum()"
   ]
  },
  {
   "cell_type": "code",
   "execution_count": 16,
   "id": "86de6932-ba6f-46c8-9d5f-02d5d2cf82b5",
   "metadata": {},
   "outputs": [
    {
     "data": {
      "text/plain": [
       "1998-02-05    2\n",
       "1978-01-15    2\n",
       "1977-11-08    2\n",
       "1951-11-28    2\n",
       "1979-07-28    2\n",
       "             ..\n",
       "1945-08-08    1\n",
       "1943-08-27    1\n",
       "1999-10-24    1\n",
       "1976-01-24    1\n",
       "1955-10-02    1\n",
       "Name: DOB, Length: 958, dtype: int64"
      ]
     },
     "execution_count": 16,
     "metadata": {},
     "output_type": "execute_result"
    }
   ],
   "source": [
    "df['DOB'].value_counts()"
   ]
  },
  {
   "cell_type": "code",
   "execution_count": 17,
   "id": "3d46da56-6af7-49b9-812c-539ca6e95802",
   "metadata": {},
   "outputs": [],
   "source": [
    "# Replace missing DOB with value from previous rows\n",
    "df['DOB'].fillna(method='ffill', inplace=True)"
   ]
  },
  {
   "cell_type": "code",
   "execution_count": 18,
   "id": "41e01533-6eca-4361-bdff-8f219a8b7c34",
   "metadata": {},
   "outputs": [
    {
     "data": {
      "text/plain": [
       "0"
      ]
     },
     "execution_count": 18,
     "metadata": {},
     "output_type": "execute_result"
    }
   ],
   "source": [
    "df['DOB'].isnull().sum()"
   ]
  },
  {
   "cell_type": "code",
   "execution_count": 19,
   "id": "b956809d-46f9-419a-bd42-5d15cc926f9c",
   "metadata": {},
   "outputs": [
    {
     "data": {
      "text/plain": [
       "Associate Professor         15\n",
       "Environmental Tech          14\n",
       "Software Consultant         14\n",
       "Chief Design Engineer       13\n",
       "Assistant Manager           12\n",
       "                            ..\n",
       "Accountant II                1\n",
       "Programmer IV                1\n",
       "Administrative Officer       1\n",
       "Accounting Assistant III     1\n",
       "Web Developer I              1\n",
       "Name: job_title, Length: 184, dtype: int64"
      ]
     },
     "execution_count": 19,
     "metadata": {},
     "output_type": "execute_result"
    }
   ],
   "source": [
    "df['job_title'].value_counts()"
   ]
  },
  {
   "cell_type": "code",
   "execution_count": 20,
   "id": "d082b78c-c8e5-45fd-91ce-20cdbba1fd82",
   "metadata": {},
   "outputs": [],
   "source": [
    "# Replace missing job_title with value from previous rows\n",
    "df['job_title'].fillna(method='ffill', inplace=True)"
   ]
  },
  {
   "cell_type": "code",
   "execution_count": 21,
   "id": "508cb2ae-9bbd-4561-9590-376ed42a69a1",
   "metadata": {},
   "outputs": [
    {
     "data": {
      "text/plain": [
       "0"
      ]
     },
     "execution_count": 21,
     "metadata": {},
     "output_type": "execute_result"
    }
   ],
   "source": [
    "df['job_title'].isnull().sum()"
   ]
  },
  {
   "cell_type": "code",
   "execution_count": 22,
   "id": "100051af-2a89-4b3a-ba0d-86d0b32b94fc",
   "metadata": {},
   "outputs": [
    {
     "data": {
      "text/plain": [
       "Financial Services    203\n",
       "Manufacturing         199\n",
       "Health                152\n",
       "Retail                 78\n",
       "Property               64\n",
       "IT                     51\n",
       "Entertainment          37\n",
       "Argiculture            26\n",
       "Telecommunications     25\n",
       "Name: job_industry_category, dtype: int64"
      ]
     },
     "execution_count": 22,
     "metadata": {},
     "output_type": "execute_result"
    }
   ],
   "source": [
    "df['job_industry_category'].value_counts()"
   ]
  },
  {
   "cell_type": "code",
   "execution_count": 24,
   "id": "b101715c-2825-4fc6-8733-37ef3d4ad2bc",
   "metadata": {},
   "outputs": [
    {
     "data": {
      "text/plain": [
       "0"
      ]
     },
     "execution_count": 24,
     "metadata": {},
     "output_type": "execute_result"
    }
   ],
   "source": [
    "# Replace missing job_indsutry_category with value from previous rows\n",
    "df['job_industry_category'].fillna(method='ffill', inplace=True)\n",
    "df['job_industry_category'].isnull().sum()"
   ]
  },
  {
   "cell_type": "markdown",
   "id": "9be71531-f9fb-4d8f-9f1d-6a897e6ae6eb",
   "metadata": {},
   "source": [
    "### Identify Duplicates"
   ]
  },
  {
   "cell_type": "code",
   "execution_count": 25,
   "id": "b6ff4aa6-dcdd-49c2-b1ed-91f97d171b86",
   "metadata": {},
   "outputs": [
    {
     "data": {
      "text/plain": [
       "first_name                             0.0\n",
       "last_name                              0.0\n",
       "gender                                 0.0\n",
       "past_3_years_bike_related_purchases    0.0\n",
       "job_title                              0.0\n",
       "job_industry_category                  0.0\n",
       "wealth_segment                         0.0\n",
       "deceased_indicator                     0.0\n",
       "owns_car                               0.0\n",
       "tenure                                 0.0\n",
       "address                                0.0\n",
       "postcode                               0.0\n",
       "state                                  0.0\n",
       "country                                0.0\n",
       "property_valuation                     0.0\n",
       "Rank                                   0.0\n",
       "Value                                  0.0\n",
       "dtype: float64"
      ]
     },
     "execution_count": 25,
     "metadata": {},
     "output_type": "execute_result"
    }
   ],
   "source": [
    "dups = df.duplicated()\n",
    "df[dups].sum()"
   ]
  },
  {
   "cell_type": "markdown",
   "id": "aec40baf-9194-40fd-afea-783b8656df0c",
   "metadata": {},
   "source": [
    "### Data Formatting"
   ]
  },
  {
   "cell_type": "code",
   "execution_count": 26,
   "id": "686fc4e0-a815-4ac9-aa24-c55ab84e45e7",
   "metadata": {},
   "outputs": [
    {
     "name": "stdout",
     "output_type": "stream",
     "text": [
      "<class 'pandas.core.frame.DataFrame'>\n",
      "RangeIndex: 1000 entries, 0 to 999\n",
      "Data columns (total 18 columns):\n",
      " #   Column                               Non-Null Count  Dtype         \n",
      "---  ------                               --------------  -----         \n",
      " 0   first_name                           1000 non-null   object        \n",
      " 1   last_name                            1000 non-null   object        \n",
      " 2   gender                               1000 non-null   object        \n",
      " 3   past_3_years_bike_related_purchases  1000 non-null   int64         \n",
      " 4   DOB                                  1000 non-null   datetime64[ns]\n",
      " 5   job_title                            1000 non-null   object        \n",
      " 6   job_industry_category                1000 non-null   object        \n",
      " 7   wealth_segment                       1000 non-null   object        \n",
      " 8   deceased_indicator                   1000 non-null   object        \n",
      " 9   owns_car                             1000 non-null   object        \n",
      " 10  tenure                               1000 non-null   int64         \n",
      " 11  address                              1000 non-null   object        \n",
      " 12  postcode                             1000 non-null   int64         \n",
      " 13  state                                1000 non-null   object        \n",
      " 14  country                              1000 non-null   object        \n",
      " 15  property_valuation                   1000 non-null   int64         \n",
      " 16  Rank                                 1000 non-null   int64         \n",
      " 17  Value                                1000 non-null   float64       \n",
      "dtypes: datetime64[ns](1), float64(1), int64(5), object(11)\n",
      "memory usage: 140.8+ KB\n"
     ]
    }
   ],
   "source": [
    "df.info()"
   ]
  },
  {
   "cell_type": "markdown",
   "id": "e13238cb-6a0c-45b1-8a3c-f3a7b6c15a51",
   "metadata": {},
   "source": [
    "### Identify Inconsistencies"
   ]
  },
  {
   "cell_type": "code",
   "execution_count": 27,
   "id": "5bec2d46-cbc3-4fc7-9744-29042a44ebc5",
   "metadata": {},
   "outputs": [],
   "source": [
    "def analyze_unique_values(data_frame):\n",
    "    \"\"\"\n",
    "    Analyzes and prints unique values in each column of the given DataFrame.\n",
    "    \n",
    "    Parameters:\n",
    "        data_frame (pandas.DataFrame): The DataFrame to analyze.\n",
    "    \"\"\"\n",
    "    for col in data_frame.columns:\n",
    "        unique_count = data_frame[col].nunique()\n",
    "        data_type = data_frame[col].dtypes\n",
    "\n",
    "        print(\"Column: {}\".format(col))\n",
    "        print(\"Unique Values Count: {}\".format(unique_count))\n",
    "        print(\"Data Type: {}\".format(data_type))\n",
    "\n",
    "        if data_type in ['int64', 'float', 'object']:\n",
    "            unique_values = data_frame[col].unique()[:5]  # Display the first 5 unique values\n",
    "            print(\"Unique Values:\")\n",
    "            for value in unique_values:\n",
    "                print(\"- {}\".format(value))\n",
    "\n",
    "            if unique_count > 5:\n",
    "                print(\"... and {} more unique values\".format(unique_count - 5))\n",
    "\n",
    "        print(\"------------------------------------------------------------\")\n"
   ]
  },
  {
   "cell_type": "code",
   "execution_count": 28,
   "id": "41248518-3bb5-45d7-96d6-b36605f7a9f9",
   "metadata": {},
   "outputs": [
    {
     "name": "stdout",
     "output_type": "stream",
     "text": [
      "Column: first_name\n",
      "Unique Values Count: 940\n",
      "Data Type: object\n",
      "Unique Values:\n",
      "- Chickie\n",
      "- Morly\n",
      "- Ardelis\n",
      "- Lucine\n",
      "- Melinda\n",
      "... and 935 more unique values\n",
      "------------------------------------------------------------\n",
      "Column: last_name\n",
      "Unique Values Count: 989\n",
      "Data Type: object\n",
      "Unique Values:\n",
      "- Brister\n",
      "- Genery\n",
      "- Forrester\n",
      "- Stutt\n",
      "- Hadlee\n",
      "... and 984 more unique values\n",
      "------------------------------------------------------------\n",
      "Column: gender\n",
      "Unique Values Count: 3\n",
      "Data Type: object\n",
      "Unique Values:\n",
      "- Male\n",
      "- Female\n",
      "- U\n",
      "------------------------------------------------------------\n",
      "Column: past_3_years_bike_related_purchases\n",
      "Unique Values Count: 100\n",
      "Data Type: int64\n",
      "Unique Values:\n",
      "- 86\n",
      "- 69\n",
      "- 10\n",
      "- 64\n",
      "- 34\n",
      "... and 95 more unique values\n",
      "------------------------------------------------------------\n",
      "Column: DOB\n",
      "Unique Values Count: 958\n",
      "Data Type: datetime64[ns]\n",
      "------------------------------------------------------------\n",
      "Column: job_title\n",
      "Unique Values Count: 184\n",
      "Data Type: object\n",
      "Unique Values:\n",
      "- General Manager\n",
      "- Structural Engineer\n",
      "- Senior Cost Accountant\n",
      "- Account Representative III\n",
      "- Financial Analyst\n",
      "... and 179 more unique values\n",
      "------------------------------------------------------------\n",
      "Column: job_industry_category\n",
      "Unique Values Count: 9\n",
      "Data Type: object\n",
      "Unique Values:\n",
      "- Manufacturing\n",
      "- Property\n",
      "- Financial Services\n",
      "- Entertainment\n",
      "- Retail\n",
      "... and 4 more unique values\n",
      "------------------------------------------------------------\n",
      "Column: wealth_segment\n",
      "Unique Values Count: 3\n",
      "Data Type: object\n",
      "Unique Values:\n",
      "- Mass Customer\n",
      "- Affluent Customer\n",
      "- High Net Worth\n",
      "------------------------------------------------------------\n",
      "Column: deceased_indicator\n",
      "Unique Values Count: 1\n",
      "Data Type: object\n",
      "Unique Values:\n",
      "- N\n",
      "------------------------------------------------------------\n",
      "Column: owns_car\n",
      "Unique Values Count: 2\n",
      "Data Type: object\n",
      "Unique Values:\n",
      "- Yes\n",
      "- No\n",
      "------------------------------------------------------------\n",
      "Column: tenure\n",
      "Unique Values Count: 23\n",
      "Data Type: int64\n",
      "Unique Values:\n",
      "- 14\n",
      "- 16\n",
      "- 10\n",
      "- 5\n",
      "- 19\n",
      "... and 18 more unique values\n",
      "------------------------------------------------------------\n",
      "Column: address\n",
      "Unique Values Count: 1000\n",
      "Data Type: object\n",
      "Unique Values:\n",
      "- 45 Shopko Center\n",
      "- 14 Mccormick Park\n",
      "- 5 Colorado Crossing\n",
      "- 207 Annamark Plaza\n",
      "- 115 Montana Place\n",
      "... and 995 more unique values\n",
      "------------------------------------------------------------\n",
      "Column: postcode\n",
      "Unique Values Count: 522\n",
      "Data Type: int64\n",
      "Unique Values:\n",
      "- 4500\n",
      "- 2113\n",
      "- 3505\n",
      "- 4814\n",
      "- 2093\n",
      "... and 517 more unique values\n",
      "------------------------------------------------------------\n",
      "Column: state\n",
      "Unique Values Count: 3\n",
      "Data Type: object\n",
      "Unique Values:\n",
      "- QLD\n",
      "- NSW\n",
      "- VIC\n",
      "------------------------------------------------------------\n",
      "Column: country\n",
      "Unique Values Count: 1\n",
      "Data Type: object\n",
      "Unique Values:\n",
      "- Australia\n",
      "------------------------------------------------------------\n",
      "Column: property_valuation\n",
      "Unique Values Count: 12\n",
      "Data Type: int64\n",
      "Unique Values:\n",
      "- 6\n",
      "- 11\n",
      "- 5\n",
      "- 1\n",
      "- 9\n",
      "... and 7 more unique values\n",
      "------------------------------------------------------------\n",
      "Column: Rank\n",
      "Unique Values Count: 324\n",
      "Data Type: int64\n",
      "Unique Values:\n",
      "- 1\n",
      "- 4\n",
      "- 6\n",
      "- 8\n",
      "- 10\n",
      "... and 319 more unique values\n",
      "------------------------------------------------------------\n",
      "Column: Value\n",
      "Unique Values Count: 324\n",
      "Data Type: float64\n",
      "Unique Values:\n",
      "- 1.71875\n",
      "- 1.703125\n",
      "- 1.671875\n",
      "- 1.65625\n",
      "- 1.640625\n",
      "... and 319 more unique values\n",
      "------------------------------------------------------------\n"
     ]
    }
   ],
   "source": [
    "analyze_unique_values(df)"
   ]
  },
  {
   "cell_type": "code",
   "execution_count": 29,
   "id": "bea483b5-1577-4a37-96ef-35e6d35a8f42",
   "metadata": {},
   "outputs": [
    {
     "data": {
      "text/plain": [
       "Female    513\n",
       "Male      470\n",
       "U          17\n",
       "Name: gender, dtype: int64"
      ]
     },
     "execution_count": 29,
     "metadata": {},
     "output_type": "execute_result"
    }
   ],
   "source": [
    "df['gender'].value_counts()"
   ]
  },
  {
   "cell_type": "code",
   "execution_count": 30,
   "id": "c243140c-c8e3-4bf8-93d7-b6ccce2ed863",
   "metadata": {},
   "outputs": [],
   "source": [
    "# Replace 'Unspecified' gender to highest gender\n",
    "df['gender'].replace({'U': 'Female'}, inplace=True)"
   ]
  },
  {
   "cell_type": "markdown",
   "id": "0a270149-23c0-492d-b3e3-cfad18ad4c82",
   "metadata": {},
   "source": [
    "## Feature Engineering"
   ]
  },
  {
   "cell_type": "code",
   "execution_count": 33,
   "id": "ba1945d5-0eaa-4a08-a49c-ecb2e6c745ab",
   "metadata": {},
   "outputs": [
    {
     "data": {
      "text/plain": [
       "1963-08-25    3\n",
       "1971-04-26    2\n",
       "1959-09-18    2\n",
       "1951-11-28    2\n",
       "1987-01-15    2\n",
       "             ..\n",
       "1945-08-08    1\n",
       "1943-08-27    1\n",
       "1999-10-24    1\n",
       "1976-01-24    1\n",
       "1955-10-02    1\n",
       "Name: DOB, Length: 958, dtype: int64"
      ]
     },
     "execution_count": 33,
     "metadata": {},
     "output_type": "execute_result"
    }
   ],
   "source": [
    "df['DOB'].value_counts()"
   ]
  },
  {
   "cell_type": "code",
   "execution_count": 34,
   "id": "3b7245ae-9923-43b0-9708-2a764029e4df",
   "metadata": {},
   "outputs": [],
   "source": [
    "# Calculate age based on reference year 2023\n",
    "reference_year = pd.to_datetime('2023-08-25')  # Assuming the reference year is August 25, 2023\n",
    "df['age'] = (reference_year - df['DOB']).dt.days // 365"
   ]
  },
  {
   "cell_type": "code",
   "execution_count": 35,
   "id": "215f333c-a042-41c2-b287-d5a03b823f21",
   "metadata": {},
   "outputs": [
    {
     "data": {
      "text/html": [
       "<div>\n",
       "<style scoped>\n",
       "    .dataframe tbody tr th:only-of-type {\n",
       "        vertical-align: middle;\n",
       "    }\n",
       "\n",
       "    .dataframe tbody tr th {\n",
       "        vertical-align: top;\n",
       "    }\n",
       "\n",
       "    .dataframe thead th {\n",
       "        text-align: right;\n",
       "    }\n",
       "</style>\n",
       "<table border=\"1\" class=\"dataframe\">\n",
       "  <thead>\n",
       "    <tr style=\"text-align: right;\">\n",
       "      <th></th>\n",
       "      <th>first_name</th>\n",
       "      <th>last_name</th>\n",
       "      <th>gender</th>\n",
       "      <th>past_3_years_bike_related_purchases</th>\n",
       "      <th>DOB</th>\n",
       "      <th>job_title</th>\n",
       "      <th>job_industry_category</th>\n",
       "      <th>wealth_segment</th>\n",
       "      <th>deceased_indicator</th>\n",
       "      <th>owns_car</th>\n",
       "      <th>tenure</th>\n",
       "      <th>address</th>\n",
       "      <th>postcode</th>\n",
       "      <th>state</th>\n",
       "      <th>country</th>\n",
       "      <th>property_valuation</th>\n",
       "      <th>Rank</th>\n",
       "      <th>Value</th>\n",
       "      <th>age</th>\n",
       "    </tr>\n",
       "  </thead>\n",
       "  <tbody>\n",
       "    <tr>\n",
       "      <th>0</th>\n",
       "      <td>Chickie</td>\n",
       "      <td>Brister</td>\n",
       "      <td>Male</td>\n",
       "      <td>86</td>\n",
       "      <td>1957-07-12</td>\n",
       "      <td>General Manager</td>\n",
       "      <td>Manufacturing</td>\n",
       "      <td>Mass Customer</td>\n",
       "      <td>N</td>\n",
       "      <td>Yes</td>\n",
       "      <td>14</td>\n",
       "      <td>45 Shopko Center</td>\n",
       "      <td>4500</td>\n",
       "      <td>QLD</td>\n",
       "      <td>Australia</td>\n",
       "      <td>6</td>\n",
       "      <td>1</td>\n",
       "      <td>1.718750</td>\n",
       "      <td>66</td>\n",
       "    </tr>\n",
       "    <tr>\n",
       "      <th>1</th>\n",
       "      <td>Morly</td>\n",
       "      <td>Genery</td>\n",
       "      <td>Male</td>\n",
       "      <td>69</td>\n",
       "      <td>1970-03-22</td>\n",
       "      <td>Structural Engineer</td>\n",
       "      <td>Property</td>\n",
       "      <td>Mass Customer</td>\n",
       "      <td>N</td>\n",
       "      <td>No</td>\n",
       "      <td>16</td>\n",
       "      <td>14 Mccormick Park</td>\n",
       "      <td>2113</td>\n",
       "      <td>NSW</td>\n",
       "      <td>Australia</td>\n",
       "      <td>11</td>\n",
       "      <td>1</td>\n",
       "      <td>1.718750</td>\n",
       "      <td>53</td>\n",
       "    </tr>\n",
       "    <tr>\n",
       "      <th>2</th>\n",
       "      <td>Ardelis</td>\n",
       "      <td>Forrester</td>\n",
       "      <td>Female</td>\n",
       "      <td>10</td>\n",
       "      <td>1974-08-28</td>\n",
       "      <td>Senior Cost Accountant</td>\n",
       "      <td>Financial Services</td>\n",
       "      <td>Affluent Customer</td>\n",
       "      <td>N</td>\n",
       "      <td>No</td>\n",
       "      <td>10</td>\n",
       "      <td>5 Colorado Crossing</td>\n",
       "      <td>3505</td>\n",
       "      <td>VIC</td>\n",
       "      <td>Australia</td>\n",
       "      <td>5</td>\n",
       "      <td>1</td>\n",
       "      <td>1.718750</td>\n",
       "      <td>49</td>\n",
       "    </tr>\n",
       "    <tr>\n",
       "      <th>3</th>\n",
       "      <td>Lucine</td>\n",
       "      <td>Stutt</td>\n",
       "      <td>Female</td>\n",
       "      <td>64</td>\n",
       "      <td>1979-01-28</td>\n",
       "      <td>Account Representative III</td>\n",
       "      <td>Manufacturing</td>\n",
       "      <td>Affluent Customer</td>\n",
       "      <td>N</td>\n",
       "      <td>Yes</td>\n",
       "      <td>5</td>\n",
       "      <td>207 Annamark Plaza</td>\n",
       "      <td>4814</td>\n",
       "      <td>QLD</td>\n",
       "      <td>Australia</td>\n",
       "      <td>1</td>\n",
       "      <td>4</td>\n",
       "      <td>1.703125</td>\n",
       "      <td>44</td>\n",
       "    </tr>\n",
       "    <tr>\n",
       "      <th>4</th>\n",
       "      <td>Melinda</td>\n",
       "      <td>Hadlee</td>\n",
       "      <td>Female</td>\n",
       "      <td>34</td>\n",
       "      <td>1965-09-21</td>\n",
       "      <td>Financial Analyst</td>\n",
       "      <td>Financial Services</td>\n",
       "      <td>Affluent Customer</td>\n",
       "      <td>N</td>\n",
       "      <td>No</td>\n",
       "      <td>19</td>\n",
       "      <td>115 Montana Place</td>\n",
       "      <td>2093</td>\n",
       "      <td>NSW</td>\n",
       "      <td>Australia</td>\n",
       "      <td>9</td>\n",
       "      <td>4</td>\n",
       "      <td>1.703125</td>\n",
       "      <td>57</td>\n",
       "    </tr>\n",
       "  </tbody>\n",
       "</table>\n",
       "</div>"
      ],
      "text/plain": [
       "  first_name  last_name  gender  past_3_years_bike_related_purchases  \\\n",
       "0    Chickie    Brister    Male                                   86   \n",
       "1      Morly     Genery    Male                                   69   \n",
       "2    Ardelis  Forrester  Female                                   10   \n",
       "3     Lucine      Stutt  Female                                   64   \n",
       "4    Melinda     Hadlee  Female                                   34   \n",
       "\n",
       "         DOB                   job_title job_industry_category  \\\n",
       "0 1957-07-12             General Manager         Manufacturing   \n",
       "1 1970-03-22         Structural Engineer              Property   \n",
       "2 1974-08-28      Senior Cost Accountant    Financial Services   \n",
       "3 1979-01-28  Account Representative III         Manufacturing   \n",
       "4 1965-09-21           Financial Analyst    Financial Services   \n",
       "\n",
       "      wealth_segment deceased_indicator owns_car  tenure              address  \\\n",
       "0      Mass Customer                  N      Yes      14     45 Shopko Center   \n",
       "1      Mass Customer                  N       No      16    14 Mccormick Park   \n",
       "2  Affluent Customer                  N       No      10  5 Colorado Crossing   \n",
       "3  Affluent Customer                  N      Yes       5   207 Annamark Plaza   \n",
       "4  Affluent Customer                  N       No      19    115 Montana Place   \n",
       "\n",
       "   postcode state    country  property_valuation  Rank     Value  age  \n",
       "0      4500   QLD  Australia                   6     1  1.718750   66  \n",
       "1      2113   NSW  Australia                  11     1  1.718750   53  \n",
       "2      3505   VIC  Australia                   5     1  1.718750   49  \n",
       "3      4814   QLD  Australia                   1     4  1.703125   44  \n",
       "4      2093   NSW  Australia                   9     4  1.703125   57  "
      ]
     },
     "execution_count": 35,
     "metadata": {},
     "output_type": "execute_result"
    }
   ],
   "source": [
    "df.head()"
   ]
  },
  {
   "cell_type": "code",
   "execution_count": 36,
   "id": "915e193f-b597-4d3e-8745-e8e7d0de4a71",
   "metadata": {},
   "outputs": [
    {
     "data": {
      "text/plain": [
       "49    29\n",
       "45    29\n",
       "50    25\n",
       "48    25\n",
       "42    24\n",
       "      ..\n",
       "85     7\n",
       "37     6\n",
       "39     6\n",
       "21     6\n",
       "74     5\n",
       "Name: age, Length: 65, dtype: int64"
      ]
     },
     "execution_count": 36,
     "metadata": {},
     "output_type": "execute_result"
    }
   ],
   "source": [
    "df['age'].value_counts()"
   ]
  },
  {
   "cell_type": "code",
   "execution_count": 37,
   "id": "a1eb1d75-a60b-468b-ab48-7958ba85b12d",
   "metadata": {},
   "outputs": [],
   "source": [
    "# Define age class ranges\n",
    "bins = [20, 29, 39, 49, 59, 69, 79, 89, 100]\n",
    "labels = ['20-29', '30-39', '40-49', '50-59', '60-69', '70-79', '80-89', '90-99']\n",
    "\n",
    "# Create 'age_class' column based on age class ranges\n",
    "df['age_class'] = pd.cut(df['age'], bins=bins, labels=labels, right=False)"
   ]
  },
  {
   "cell_type": "code",
   "execution_count": 38,
   "id": "eae12f66-adb8-486c-9a9d-067a3e5843e0",
   "metadata": {},
   "outputs": [
    {
     "data": {
      "image/png": "[encoded data removed]",
      "text/plain": [
       "<Figure size 400x200 with 1 Axes>"
      ]
     },
     "metadata": {},
     "output_type": "display_data"
    }
   ],
   "source": [
    "bin_value = df['age_class'].nunique()\n",
    "\n",
    "# Create a histogram of the 'tenure' column\n",
    "plt.figure(figsize=(4, 2))\n",
    "sns.histplot(data=df, x='age', bins=bin_value,kde=True)\n",
    "plt.title('Distribution of Age')\n",
    "plt.xlabel('Age')\n",
    "plt.ylabel('Frequency')\n",
    "plt.show()"
   ]
  },
  {
   "cell_type": "code",
   "execution_count": 39,
   "id": "0ead7a82-8b23-4b04-b456-bc930e85edfd",
   "metadata": {},
   "outputs": [],
   "source": [
    "df[[\"age_class\"]] = df[[\"age_class\"]].astype(\"object\")"
   ]
  },
  {
   "cell_type": "code",
   "execution_count": 40,
   "id": "842ce0e5-0cd9-48bd-b0c7-cd0da42e7df6",
   "metadata": {},
   "outputs": [],
   "source": [
    "column_drop = ['age', 'DOB']\n",
    "df.drop(columns=column_drop, inplace=True)"
   ]
  },
  {
   "cell_type": "code",
   "execution_count": 41,
   "id": "aed2b2ae-b9e2-4632-b3fd-8758e4ccf291",
   "metadata": {},
   "outputs": [
    {
     "data": {
      "text/html": [
       "<div>\n",
       "<style scoped>\n",
       "    .dataframe tbody tr th:only-of-type {\n",
       "        vertical-align: middle;\n",
       "    }\n",
       "\n",
       "    .dataframe tbody tr th {\n",
       "        vertical-align: top;\n",
       "    }\n",
       "\n",
       "    .dataframe thead th {\n",
       "        text-align: right;\n",
       "    }\n",
       "</style>\n",
       "<table border=\"1\" class=\"dataframe\">\n",
       "  <thead>\n",
       "    <tr style=\"text-align: right;\">\n",
       "      <th></th>\n",
       "      <th>first_name</th>\n",
       "      <th>last_name</th>\n",
       "      <th>gender</th>\n",
       "      <th>past_3_years_bike_related_purchases</th>\n",
       "      <th>job_title</th>\n",
       "      <th>job_industry_category</th>\n",
       "      <th>wealth_segment</th>\n",
       "      <th>deceased_indicator</th>\n",
       "      <th>owns_car</th>\n",
       "      <th>tenure</th>\n",
       "      <th>address</th>\n",
       "      <th>postcode</th>\n",
       "      <th>state</th>\n",
       "      <th>country</th>\n",
       "      <th>property_valuation</th>\n",
       "      <th>Rank</th>\n",
       "      <th>Value</th>\n",
       "      <th>age_class</th>\n",
       "    </tr>\n",
       "  </thead>\n",
       "  <tbody>\n",
       "    <tr>\n",
       "      <th>0</th>\n",
       "      <td>Chickie</td>\n",
       "      <td>Brister</td>\n",
       "      <td>Male</td>\n",
       "      <td>86</td>\n",
       "      <td>General Manager</td>\n",
       "      <td>Manufacturing</td>\n",
       "      <td>Mass Customer</td>\n",
       "      <td>N</td>\n",
       "      <td>Yes</td>\n",
       "      <td>14</td>\n",
       "      <td>45 Shopko Center</td>\n",
       "      <td>4500</td>\n",
       "      <td>QLD</td>\n",
       "      <td>Australia</td>\n",
       "      <td>6</td>\n",
       "      <td>1</td>\n",
       "      <td>1.718750</td>\n",
       "      <td>60-69</td>\n",
       "    </tr>\n",
       "    <tr>\n",
       "      <th>1</th>\n",
       "      <td>Morly</td>\n",
       "      <td>Genery</td>\n",
       "      <td>Male</td>\n",
       "      <td>69</td>\n",
       "      <td>Structural Engineer</td>\n",
       "      <td>Property</td>\n",
       "      <td>Mass Customer</td>\n",
       "      <td>N</td>\n",
       "      <td>No</td>\n",
       "      <td>16</td>\n",
       "      <td>14 Mccormick Park</td>\n",
       "      <td>2113</td>\n",
       "      <td>NSW</td>\n",
       "      <td>Australia</td>\n",
       "      <td>11</td>\n",
       "      <td>1</td>\n",
       "      <td>1.718750</td>\n",
       "      <td>50-59</td>\n",
       "    </tr>\n",
       "    <tr>\n",
       "      <th>2</th>\n",
       "      <td>Ardelis</td>\n",
       "      <td>Forrester</td>\n",
       "      <td>Female</td>\n",
       "      <td>10</td>\n",
       "      <td>Senior Cost Accountant</td>\n",
       "      <td>Financial Services</td>\n",
       "      <td>Affluent Customer</td>\n",
       "      <td>N</td>\n",
       "      <td>No</td>\n",
       "      <td>10</td>\n",
       "      <td>5 Colorado Crossing</td>\n",
       "      <td>3505</td>\n",
       "      <td>VIC</td>\n",
       "      <td>Australia</td>\n",
       "      <td>5</td>\n",
       "      <td>1</td>\n",
       "      <td>1.718750</td>\n",
       "      <td>50-59</td>\n",
       "    </tr>\n",
       "    <tr>\n",
       "      <th>3</th>\n",
       "      <td>Lucine</td>\n",
       "      <td>Stutt</td>\n",
       "      <td>Female</td>\n",
       "      <td>64</td>\n",
       "      <td>Account Representative III</td>\n",
       "      <td>Manufacturing</td>\n",
       "      <td>Affluent Customer</td>\n",
       "      <td>N</td>\n",
       "      <td>Yes</td>\n",
       "      <td>5</td>\n",
       "      <td>207 Annamark Plaza</td>\n",
       "      <td>4814</td>\n",
       "      <td>QLD</td>\n",
       "      <td>Australia</td>\n",
       "      <td>1</td>\n",
       "      <td>4</td>\n",
       "      <td>1.703125</td>\n",
       "      <td>40-49</td>\n",
       "    </tr>\n",
       "    <tr>\n",
       "      <th>4</th>\n",
       "      <td>Melinda</td>\n",
       "      <td>Hadlee</td>\n",
       "      <td>Female</td>\n",
       "      <td>34</td>\n",
       "      <td>Financial Analyst</td>\n",
       "      <td>Financial Services</td>\n",
       "      <td>Affluent Customer</td>\n",
       "      <td>N</td>\n",
       "      <td>No</td>\n",
       "      <td>19</td>\n",
       "      <td>115 Montana Place</td>\n",
       "      <td>2093</td>\n",
       "      <td>NSW</td>\n",
       "      <td>Australia</td>\n",
       "      <td>9</td>\n",
       "      <td>4</td>\n",
       "      <td>1.703125</td>\n",
       "      <td>50-59</td>\n",
       "    </tr>\n",
       "  </tbody>\n",
       "</table>\n",
       "</div>"
      ],
      "text/plain": [
       "  first_name  last_name  gender  past_3_years_bike_related_purchases  \\\n",
       "0    Chickie    Brister    Male                                   86   \n",
       "1      Morly     Genery    Male                                   69   \n",
       "2    Ardelis  Forrester  Female                                   10   \n",
       "3     Lucine      Stutt  Female                                   64   \n",
       "4    Melinda     Hadlee  Female                                   34   \n",
       "\n",
       "                    job_title job_industry_category     wealth_segment  \\\n",
       "0             General Manager         Manufacturing      Mass Customer   \n",
       "1         Structural Engineer              Property      Mass Customer   \n",
       "2      Senior Cost Accountant    Financial Services  Affluent Customer   \n",
       "3  Account Representative III         Manufacturing  Affluent Customer   \n",
       "4           Financial Analyst    Financial Services  Affluent Customer   \n",
       "\n",
       "  deceased_indicator owns_car  tenure              address  postcode state  \\\n",
       "0                  N      Yes      14     45 Shopko Center      4500   QLD   \n",
       "1                  N       No      16    14 Mccormick Park      2113   NSW   \n",
       "2                  N       No      10  5 Colorado Crossing      3505   VIC   \n",
       "3                  N      Yes       5   207 Annamark Plaza      4814   QLD   \n",
       "4                  N       No      19    115 Montana Place      2093   NSW   \n",
       "\n",
       "     country  property_valuation  Rank     Value age_class  \n",
       "0  Australia                   6     1  1.718750     60-69  \n",
       "1  Australia                  11     1  1.718750     50-59  \n",
       "2  Australia                   5     1  1.718750     50-59  \n",
       "3  Australia                   1     4  1.703125     40-49  \n",
       "4  Australia                   9     4  1.703125     50-59  "
      ]
     },
     "execution_count": 41,
     "metadata": {},
     "output_type": "execute_result"
    }
   ],
   "source": [
    "df.head()"
   ]
  },
  {
   "cell_type": "code",
   "execution_count": 42,
   "id": "509821b3-4c4d-4314-830f-7f30d076f037",
   "metadata": {},
   "outputs": [
    {
     "name": "stdout",
     "output_type": "stream",
     "text": [
      "<class 'pandas.core.frame.DataFrame'>\n",
      "RangeIndex: 1000 entries, 0 to 999\n",
      "Data columns (total 18 columns):\n",
      " #   Column                               Non-Null Count  Dtype  \n",
      "---  ------                               --------------  -----  \n",
      " 0   first_name                           1000 non-null   object \n",
      " 1   last_name                            1000 non-null   object \n",
      " 2   gender                               1000 non-null   object \n",
      " 3   past_3_years_bike_related_purchases  1000 non-null   int64  \n",
      " 4   job_title                            1000 non-null   object \n",
      " 5   job_industry_category                1000 non-null   object \n",
      " 6   wealth_segment                       1000 non-null   object \n",
      " 7   deceased_indicator                   1000 non-null   object \n",
      " 8   owns_car                             1000 non-null   object \n",
      " 9   tenure                               1000 non-null   int64  \n",
      " 10  address                              1000 non-null   object \n",
      " 11  postcode                             1000 non-null   int64  \n",
      " 12  state                                1000 non-null   object \n",
      " 13  country                              1000 non-null   object \n",
      " 14  property_valuation                   1000 non-null   int64  \n",
      " 15  Rank                                 1000 non-null   int64  \n",
      " 16  Value                                1000 non-null   float64\n",
      " 17  age_class                            1000 non-null   object \n",
      "dtypes: float64(1), int64(5), object(12)\n",
      "memory usage: 140.8+ KB\n"
     ]
    }
   ],
   "source": [
    "df.info()"
   ]
  },
  {
   "cell_type": "markdown",
   "id": "e0d0db09-7fe5-4754-b0b0-1ab4b6a50b43",
   "metadata": {},
   "source": [
    "## Save as CSV"
   ]
  },
  {
   "cell_type": "code",
   "execution_count": 43,
   "id": "ae29d153-352f-4327-89f0-b68ba2acc8ba",
   "metadata": {},
   "outputs": [],
   "source": [
    "df.to_csv('df_cleaned.csv', index=False)"
   ]
  },
  {
   "cell_type": "markdown",
   "id": "7d6368aa-067a-4dfe-b3d9-4774b9e0dbbb",
   "metadata": {},
   "source": [
    "# Customer Segmentation"
   ]
  },
  {
   "cell_type": "code",
   "execution_count": 55,
   "id": "ed9c1176-ce20-4756-8488-8112f98473de",
   "metadata": {},
   "outputs": [],
   "source": [
    "from sklearn.preprocessing import StandardScaler\n",
    "from sklearn.cluster import KMeans"
   ]
  },
  {
   "cell_type": "code",
   "execution_count": 56,
   "id": "df5c14e2-54a0-4fc4-a926-82a45ca70da9",
   "metadata": {},
   "outputs": [],
   "source": [
    "X = df[['Value']]\n",
    "\n",
    "# Standardize the data to have zero mean and unit variance\n",
    "scaler = StandardScaler()\n",
    "X_scaled = scaler.fit_transform(X)"
   ]
  },
  {
   "cell_type": "code",
   "execution_count": 57,
   "id": "07e224c1-6c9a-4cf4-8cfa-09599b9e559b",
   "metadata": {},
   "outputs": [
    {
     "data": {
      "image/png": "[encoded data removed]",
      "text/plain": [
       "<Figure size 1000x600 with 1 Axes>"
      ]
     },
     "metadata": {},
     "output_type": "display_data"
    }
   ],
   "source": [
    "# Determine the optimal number of clusters using the elbow method\n",
    "inertia = []\n",
    "for k in range(1, 11):\n",
    "    kmeans = KMeans(n_clusters=k, random_state=0)\n",
    "    kmeans.fit(X_scaled)\n",
    "    inertia.append(kmeans.inertia_)\n",
    "\n",
    "# Plot the elbow curve to find the optimal number of clusters\n",
    "plt.figure(figsize=(10, 6))\n",
    "plt.plot(range(1, 11), inertia, marker='o')\n",
    "plt.title('Elbow Method for Optimal Number of Clusters')\n",
    "plt.xlabel('Number of Clusters')\n",
    "plt.ylabel('Inertia')\n",
    "plt.show()\n"
   ]
  },
  {
   "cell_type": "code",
   "execution_count": 58,
   "id": "54d0d412-c025-4b9a-a0ba-c736288cc299",
   "metadata": {},
   "outputs": [],
   "source": [
    "optimal_clusters = 3  # Adjust this based on the plot"
   ]
  },
  {
   "cell_type": "code",
   "execution_count": 60,
   "id": "08b3a90b-03a3-4b96-9a75-0490bd34fe61",
   "metadata": {},
   "outputs": [
    {
     "name": "stdout",
     "output_type": "stream",
     "text": [
      "2    389\n",
      "0    389\n",
      "1    222\n",
      "Name: Cluster, dtype: int64\n"
     ]
    }
   ],
   "source": [
    "# Perform K-means clustering with the chosen number of clusters\n",
    "kmeans = KMeans(n_clusters=optimal_clusters, random_state=0)\n",
    "df['Cluster'] = kmeans.fit_predict(X_scaled)\n",
    "\n",
    "#Analyze the 'Cluster' column to understand customer segmentation\n",
    "print(df['Cluster'].value_counts())"
   ]
  },
  {
   "cell_type": "code",
   "execution_count": 64,
   "id": "871b5ccb-a672-49fa-a24f-36ac9b15ee2a",
   "metadata": {},
   "outputs": [
    {
     "data": {
      "text/html": [
       "<div>\n",
       "<style scoped>\n",
       "    .dataframe tbody tr th:only-of-type {\n",
       "        vertical-align: middle;\n",
       "    }\n",
       "\n",
       "    .dataframe tbody tr th {\n",
       "        vertical-align: top;\n",
       "    }\n",
       "\n",
       "    .dataframe thead th {\n",
       "        text-align: right;\n",
       "    }\n",
       "</style>\n",
       "<table border=\"1\" class=\"dataframe\">\n",
       "  <thead>\n",
       "    <tr style=\"text-align: right;\">\n",
       "      <th></th>\n",
       "      <th>first_name</th>\n",
       "      <th>last_name</th>\n",
       "      <th>gender</th>\n",
       "      <th>past_3_years_bike_related_purchases</th>\n",
       "      <th>job_title</th>\n",
       "      <th>job_industry_category</th>\n",
       "      <th>wealth_segment</th>\n",
       "      <th>deceased_indicator</th>\n",
       "      <th>owns_car</th>\n",
       "      <th>tenure</th>\n",
       "      <th>address</th>\n",
       "      <th>postcode</th>\n",
       "      <th>state</th>\n",
       "      <th>country</th>\n",
       "      <th>property_valuation</th>\n",
       "      <th>Rank</th>\n",
       "      <th>Value</th>\n",
       "      <th>age_class</th>\n",
       "      <th>Cluster</th>\n",
       "    </tr>\n",
       "  </thead>\n",
       "  <tbody>\n",
       "    <tr>\n",
       "      <th>0</th>\n",
       "      <td>Chickie</td>\n",
       "      <td>Brister</td>\n",
       "      <td>Male</td>\n",
       "      <td>86</td>\n",
       "      <td>General Manager</td>\n",
       "      <td>Manufacturing</td>\n",
       "      <td>Mass Customer</td>\n",
       "      <td>N</td>\n",
       "      <td>Yes</td>\n",
       "      <td>14</td>\n",
       "      <td>45 Shopko Center</td>\n",
       "      <td>4500</td>\n",
       "      <td>QLD</td>\n",
       "      <td>Australia</td>\n",
       "      <td>6</td>\n",
       "      <td>1</td>\n",
       "      <td>1.718750</td>\n",
       "      <td>60-69</td>\n",
       "      <td>1</td>\n",
       "    </tr>\n",
       "    <tr>\n",
       "      <th>1</th>\n",
       "      <td>Morly</td>\n",
       "      <td>Genery</td>\n",
       "      <td>Male</td>\n",
       "      <td>69</td>\n",
       "      <td>Structural Engineer</td>\n",
       "      <td>Property</td>\n",
       "      <td>Mass Customer</td>\n",
       "      <td>N</td>\n",
       "      <td>No</td>\n",
       "      <td>16</td>\n",
       "      <td>14 Mccormick Park</td>\n",
       "      <td>2113</td>\n",
       "      <td>NSW</td>\n",
       "      <td>Australia</td>\n",
       "      <td>11</td>\n",
       "      <td>1</td>\n",
       "      <td>1.718750</td>\n",
       "      <td>50-59</td>\n",
       "      <td>1</td>\n",
       "    </tr>\n",
       "    <tr>\n",
       "      <th>2</th>\n",
       "      <td>Ardelis</td>\n",
       "      <td>Forrester</td>\n",
       "      <td>Female</td>\n",
       "      <td>10</td>\n",
       "      <td>Senior Cost Accountant</td>\n",
       "      <td>Financial Services</td>\n",
       "      <td>Affluent Customer</td>\n",
       "      <td>N</td>\n",
       "      <td>No</td>\n",
       "      <td>10</td>\n",
       "      <td>5 Colorado Crossing</td>\n",
       "      <td>3505</td>\n",
       "      <td>VIC</td>\n",
       "      <td>Australia</td>\n",
       "      <td>5</td>\n",
       "      <td>1</td>\n",
       "      <td>1.718750</td>\n",
       "      <td>50-59</td>\n",
       "      <td>1</td>\n",
       "    </tr>\n",
       "    <tr>\n",
       "      <th>3</th>\n",
       "      <td>Lucine</td>\n",
       "      <td>Stutt</td>\n",
       "      <td>Female</td>\n",
       "      <td>64</td>\n",
       "      <td>Account Representative III</td>\n",
       "      <td>Manufacturing</td>\n",
       "      <td>Affluent Customer</td>\n",
       "      <td>N</td>\n",
       "      <td>Yes</td>\n",
       "      <td>5</td>\n",
       "      <td>207 Annamark Plaza</td>\n",
       "      <td>4814</td>\n",
       "      <td>QLD</td>\n",
       "      <td>Australia</td>\n",
       "      <td>1</td>\n",
       "      <td>4</td>\n",
       "      <td>1.703125</td>\n",
       "      <td>40-49</td>\n",
       "      <td>1</td>\n",
       "    </tr>\n",
       "    <tr>\n",
       "      <th>4</th>\n",
       "      <td>Melinda</td>\n",
       "      <td>Hadlee</td>\n",
       "      <td>Female</td>\n",
       "      <td>34</td>\n",
       "      <td>Financial Analyst</td>\n",
       "      <td>Financial Services</td>\n",
       "      <td>Affluent Customer</td>\n",
       "      <td>N</td>\n",
       "      <td>No</td>\n",
       "      <td>19</td>\n",
       "      <td>115 Montana Place</td>\n",
       "      <td>2093</td>\n",
       "      <td>NSW</td>\n",
       "      <td>Australia</td>\n",
       "      <td>9</td>\n",
       "      <td>4</td>\n",
       "      <td>1.703125</td>\n",
       "      <td>50-59</td>\n",
       "      <td>1</td>\n",
       "    </tr>\n",
       "  </tbody>\n",
       "</table>\n",
       "</div>"
      ],
      "text/plain": [
       "  first_name  last_name  gender  past_3_years_bike_related_purchases  \\\n",
       "0    Chickie    Brister    Male                                   86   \n",
       "1      Morly     Genery    Male                                   69   \n",
       "2    Ardelis  Forrester  Female                                   10   \n",
       "3     Lucine      Stutt  Female                                   64   \n",
       "4    Melinda     Hadlee  Female                                   34   \n",
       "\n",
       "                    job_title job_industry_category     wealth_segment  \\\n",
       "0             General Manager         Manufacturing      Mass Customer   \n",
       "1         Structural Engineer              Property      Mass Customer   \n",
       "2      Senior Cost Accountant    Financial Services  Affluent Customer   \n",
       "3  Account Representative III         Manufacturing  Affluent Customer   \n",
       "4           Financial Analyst    Financial Services  Affluent Customer   \n",
       "\n",
       "  deceased_indicator owns_car  tenure              address  postcode state  \\\n",
       "0                  N      Yes      14     45 Shopko Center      4500   QLD   \n",
       "1                  N       No      16    14 Mccormick Park      2113   NSW   \n",
       "2                  N       No      10  5 Colorado Crossing      3505   VIC   \n",
       "3                  N      Yes       5   207 Annamark Plaza      4814   QLD   \n",
       "4                  N       No      19    115 Montana Place      2093   NSW   \n",
       "\n",
       "     country  property_valuation  Rank     Value age_class  Cluster  \n",
       "0  Australia                   6     1  1.718750     60-69        1  \n",
       "1  Australia                  11     1  1.718750     50-59        1  \n",
       "2  Australia                   5     1  1.718750     50-59        1  \n",
       "3  Australia                   1     4  1.703125     40-49        1  \n",
       "4  Australia                   9     4  1.703125     50-59        1  "
      ]
     },
     "execution_count": 64,
     "metadata": {},
     "output_type": "execute_result"
    }
   ],
   "source": [
    "df.head()"
   ]
  },
  {
   "cell_type": "code",
   "execution_count": 71,
   "id": "6c9d23b5-82c1-47f8-846f-d9632ee1da1e",
   "metadata": {},
   "outputs": [],
   "source": [
    "df_count = df.groupby(['Cluster'])[['first_name']].count().reset_index()\n",
    "df_count.columns = ['Cluster', 'Count']"
   ]
  },
  {
   "cell_type": "code",
   "execution_count": 72,
   "id": "2104ef3f-8494-4fda-8600-e3b1f804ab7c",
   "metadata": {},
   "outputs": [
    {
     "data": {
      "text/html": [
       "<div>\n",
       "<style scoped>\n",
       "    .dataframe tbody tr th:only-of-type {\n",
       "        vertical-align: middle;\n",
       "    }\n",
       "\n",
       "    .dataframe tbody tr th {\n",
       "        vertical-align: top;\n",
       "    }\n",
       "\n",
       "    .dataframe thead th {\n",
       "        text-align: right;\n",
       "    }\n",
       "</style>\n",
       "<table border=\"1\" class=\"dataframe\">\n",
       "  <thead>\n",
       "    <tr style=\"text-align: right;\">\n",
       "      <th></th>\n",
       "      <th>Cluster</th>\n",
       "      <th>Count</th>\n",
       "    </tr>\n",
       "  </thead>\n",
       "  <tbody>\n",
       "    <tr>\n",
       "      <th>0</th>\n",
       "      <td>0</td>\n",
       "      <td>389</td>\n",
       "    </tr>\n",
       "    <tr>\n",
       "      <th>1</th>\n",
       "      <td>1</td>\n",
       "      <td>222</td>\n",
       "    </tr>\n",
       "    <tr>\n",
       "      <th>2</th>\n",
       "      <td>2</td>\n",
       "      <td>389</td>\n",
       "    </tr>\n",
       "  </tbody>\n",
       "</table>\n",
       "</div>"
      ],
      "text/plain": [
       "   Cluster  Count\n",
       "0        0    389\n",
       "1        1    222\n",
       "2        2    389"
      ]
     },
     "execution_count": 72,
     "metadata": {},
     "output_type": "execute_result"
    }
   ],
   "source": [
    "df_count.head()"
   ]
  },
  {
   "cell_type": "code",
   "execution_count": 77,
   "id": "e8b61eec-276f-41a9-844f-738c5af2b8f5",
   "metadata": {},
   "outputs": [],
   "source": [
    "df.to_csv('df_final.csv', index=False)"
   ]
  },
  {
   "cell_type": "code",
   "execution_count": null,
   "id": "30535634-5233-4326-a0eb-ce554284e0f7",
   "metadata": {},
   "outputs": [],
   "source": []
  }
 ],
 "metadata": {
  "kernelspec": {
   "display_name": "Python 3 (ipykernel)",
   "language": "python",
   "name": "python3"
  },
  "language_info": {
   "codemirror_mode": {
    "name": "ipython",
    "version": 3
   },
   "file_extension": ".py",
   "mimetype": "text/x-python",
   "name": "python",
   "nbconvert_exporter": "python",
   "pygments_lexer": "ipython3",
   "version": "3.10.9"
  }
 },
 "nbformat": 4,
 "nbformat_minor": 5
}
